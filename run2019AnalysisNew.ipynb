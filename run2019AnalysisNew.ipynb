{
 "cells": [
  {
   "cell_type": "markdown",
   "metadata": {},
   "source": [
    "# Run2019 analysis"
   ]
  },
  {
   "cell_type": "markdown",
   "metadata": {},
   "source": [
    "In this notebook, the efficiency is computed. Then, the measured neutrino spectrum at CONNIE is computed based on the neutrino spectrum from the reactor. Finally, this is compared to the differential rate measured from the run2019. The result achieved is of a 95% confidence level measured rate 16 times larger than the expected neutrino rate.\n"
   ]
  },
  {
   "cell_type": "markdown",
   "metadata": {},
   "source": [
    "## Preamble"
   ]
  },
  {
   "cell_type": "markdown",
   "metadata": {},
   "source": [
    "```bash\n",
    "module load py-notebook/6.1.5-gcc-8.3.0-lim66g5\n",
    "module load softwares/texlive/2017\n",
    "pip3 install uproot –user\n",
    "pip3 install uncertainties –user\n",
    "```"
   ]
  },
  {
   "cell_type": "code",
   "execution_count": 4,
   "metadata": {
    "scrolled": true
   },
   "outputs": [],
   "source": [
    "%reload_ext autoreload\n",
    "%autoreload 2\n",
    "\n",
    "import sys, os\n",
    "from glob import glob\n",
    "from copy import *\n",
    "\n",
    "from numpy import *\n",
    "from scipy.optimize import curve_fit, least_squares\n",
    "from scipy.interpolate import interp1d\n",
    "from scipy.stats import binned_statistic, norm, median_abs_deviation\n",
    "from scipy.integrate import quad\n",
    "\n",
    "import uproot\n",
    "from uncertainties import *\n",
    "from uncertainties import unumpy as un\n",
    "from pint import UnitRegistry\n",
    "from pint.numpy_func import HANDLED_FUNCTIONS\n",
    "unit = UnitRegistry()\n",
    "unit.define('event = []')\n",
    "\n",
    "import matplotlib.pyplot as plt\n",
    "%matplotlib inline\n",
    "plt.rcParams.update({\n",
    "    \"image.origin\": 'lower',\n",
    "    \"font.family\": \"serif\",\n",
    "    \"font.size\": 12,\n",
    "    \"grid.alpha\": .5,\n",
    "})\n",
    "\n",
    "def O(*funcs):\n",
    "    def _f(arg):\n",
    "        if len(funcs) == 1:\n",
    "            return funcs[-1]( arg )\n",
    "        return O( *funcs[:-1] )( funcs[-1]( arg ) )\n",
    "    return _f\n",
    "\n",
    "\n",
    "def C(*func):\n",
    "    def _f(args):\n",
    "        return [ func(args) for func in funcs ]\n",
    "    return _f\n",
    "\n",
    "def mapd( func, d, key=lambda _: _):\n",
    "    return dict( map( lambda kv: ( key(kv[0]), func(kv[1]) ), d.items() ) )\n",
    "\n",
    "mad = lambda x, axis=None: median_abs_deviation(x, axis=axis)\n",
    "\n",
    "arange2 = lambda i,f,s: arange(i,f+s,s)\n",
    "parange2 = lambda i,f,s: arange2(i.m, (f+s).m, s.m)*s.u\n",
    "binCenters = lambda bins: (bins[1:]+bins[:-1])/2.\n",
    "binErrs = lambda bins: (bins[1:] - bins[:-1])/2."
   ]
  },
  {
   "cell_type": "code",
   "execution_count": 5,
   "metadata": {},
   "outputs": [],
   "source": [
    "class Axes:\n",
    "    def __init__(self, debug=False, xlabel='x', ylabel='y', title=None, \n",
    "                 xscale='linear', yscale='linear',\n",
    "                 xlim=(None,None), ylim=(None,None), **kwargs):\n",
    "        self.commands = []\n",
    "        self.kwargs = kwargs\n",
    "        self.xlabel = xlabel\n",
    "        self.ylabel = ylabel\n",
    "        self.xscale = xscale\n",
    "        self.yscale = yscale\n",
    "        self.xlim = xlim\n",
    "        self.ylim = ylim        \n",
    "        self.title = title\n",
    "        self.debug = debug\n",
    "        self.commands.append( lambda ax: ax.set_xlabel(self.xlabel) )\n",
    "        self.commands.append( lambda ax: ax.set_ylabel(self.ylabel) )\n",
    "        self.commands.append( lambda ax: ax.grid(which='both') )\n",
    "        if self.debug: print('init Axes')\n",
    "    def __enter__(self, **kwargs):\n",
    "        if self.debug: print('enter Axes')\n",
    "        return self\n",
    "    def __exit__(self, type, value, traceback):\n",
    "        if type:\n",
    "            print(type)\n",
    "            print(value)\n",
    "            print(traceback)\n",
    "            raise type\n",
    "        if self.debug: print('exiting Axes')\n",
    "        self.commands.append( lambda ax: ax.legend(title=self.title) )\n",
    "        self.commands.append( lambda ax: ax.set_xscale(self.xscale) )\n",
    "        self.commands.append( lambda ax: ax.set_yscale(self.yscale) )\n",
    "        self.commands.append( lambda ax: ax.set_xlim(*self.xlim) )\n",
    "        self.commands.append( lambda ax: ax.set_ylim(*self.ylim) )\n",
    "        return True\n",
    "    def __getattr__(self, member):\n",
    "        if self.debug: print( f'called {member}' )\n",
    "        def command(*args, **kwargs):\n",
    "            if self.debug: print( kwargs.keys(), self.kwargs.keys() )\n",
    "            self.commands.append(\n",
    "                lambda ax: getattr(ax, member)(\n",
    "                    *args, **kwargs, **self.kwargs\n",
    "                )\n",
    "            )\n",
    "            if self.debug: print( self.commands )\n",
    "            return\n",
    "        return command\n",
    "\n",
    "class Figure:\n",
    "    figsize = (16,4)\n",
    "    number = 0\n",
    "    def __init__(self, ncols=1, debug=False, **kwargs):\n",
    "        self.axes = []\n",
    "        self.ncols = ncols\n",
    "        self.debug = debug\n",
    "        if self.debug: print('init Figure')\n",
    "    def __enter__(self):\n",
    "        if self.debug: print('enter Figure')\n",
    "        return self\n",
    "    def __exit__(self, type, value, traceback):\n",
    "        if type:\n",
    "            print(type)\n",
    "            print(value)\n",
    "            print(traceback)\n",
    "            raise type\n",
    "            \n",
    "        if self.debug: print( 'number of axes', len(self.axes) )\n",
    "        nrows = int( len(self.axes)/self.ncols ) + 1\n",
    "        if self.debug: print( 'nrows', nrows )\n",
    "        fig = plt.figure(figsize=(\n",
    "            Figure.figsize[0], \n",
    "            Figure.figsize[1]*nrows\n",
    "        ))\n",
    "        for i, axis in enumerate(self.axes):\n",
    "            if self.debug: print('command', i)\n",
    "            ax = fig.add_subplot(nrows, self.ncols, i+1)\n",
    "            for command in axis.commands:\n",
    "                if self.debug: print('command', command)\n",
    "                command(ax)\n",
    "        Figure.number += 1\n",
    "        print(f'Figure [{Figure.number}]')\n",
    "        plt.show()\n",
    "        if self.debug: print('exiting Figure')\n",
    "        return True\n",
    "    def addAxes(self, **kwargs):\n",
    "        ax = Axes(debug=self.debug, **kwargs)\n",
    "        self.axes.append( ax )\n",
    "        if self.debug: \n",
    "            print('number of axes', len(self.axes), kwargs.keys() )\n",
    "        return ax"
   ]
  },
  {
   "cell_type": "code",
   "execution_count": 6,
   "metadata": {},
   "outputs": [],
   "source": [
    "class BinnedSpectrum:\n",
    "    def __init__(self, values, bins):\n",
    "        self.values = values\n",
    "        self.bins = bins\n",
    "    \n",
    "    def plot(self, ax, units, **kwargs):\n",
    "        x = self.binCenters().to(units[0]).m\n",
    "        y = un.nominal_values( self.values.to(units[1]).m )\n",
    "        xerr = self.bins.to(units[0]).m[2]/2.\n",
    "        yerr = un.std_devs( self.values.to(units[1]).m )\n",
    "        ax.errorbar( \n",
    "            x, \n",
    "            y = y, \n",
    "            xerr = xerr, \n",
    "            yerr = self.s(), \n",
    "            fmt = ' ', \n",
    "            **kwargs \n",
    "        )\n",
    "\n",
    "    def unit(self):\n",
    "        return self.values.u\n",
    "    \n",
    "    def n(self):\n",
    "        return un.nominal_values(self.values.m)\n",
    "    \n",
    "    def s(self):\n",
    "        return un.std_devs(self.values.m)\n",
    "    \n",
    "    def binEdges(self):\n",
    "        return arange2( *self.bins.m )*self.bins.u\n",
    "\n",
    "    def binCenters(self):\n",
    "        bins = self.binEdges()\n",
    "        return .5*(bins[1:]+bins[:-1])\n",
    "    \n",
    "    def __truediv__(self, a):\n",
    "        if hasattr(a, 'values'):\n",
    "            _nom = a.values\n",
    "        else: \n",
    "            _nom = a\n",
    "        ret = 1*self.values\n",
    "        ret[_nom > 0] /= _nom[_nom>0]\n",
    "        return BinnedSpectrum( ret, self.bins )\n",
    "    \n",
    "    def __add__(self, a):\n",
    "        print('add')\n",
    "        return BinnedSpectrum( \n",
    "            array(self) + array(a), \n",
    "            self.bins\n",
    "        )\n",
    "\n",
    "    def __sub__(self, a):\n",
    "        return BinnedSpectrum( \n",
    "            array(self) - array(a), \n",
    "            self.bins\n",
    "        )\n",
    "\n",
    "    def __mul__(self, a):\n",
    "        return BinnedSpectrum( array(self) * array(a), self.bins)\n",
    "        \n",
    "    def fit_params(self, func, p0):\n",
    "        popt, pcov = curve_fit( \n",
    "            func, \n",
    "            self.binCenters().m, \n",
    "            un.nominal_values(self.values.m), \n",
    "            sigma = un.std_devs(self.values.m),\n",
    "            p0=p0\n",
    "        )\n",
    "        perr = sqrt(diag(pcov))\n",
    "        return un.uarray( popt, perr )\n",
    "    \n",
    "    def fit_func(self, func, p0):\n",
    "        return lambda x: func(x, *un.nominal_values(self.fit_params(func, p0) ))\n",
    "    \n",
    "    def plot_fit(self, ax, func, p0, **kwargs):\n",
    "        x = self.binCenters()\n",
    "        ax.plot( x.m, self.fit_func(func,p0)(x.m), **kwargs)\n",
    "    \n",
    "    def interp(self, **kwargs):\n",
    "        return interp1d(self.binCenters(), self.n(), bounds_error=False, fill_value='extrapolate', **kwargs)\n",
    "    \n",
    "    @classmethod\n",
    "    def fromCatalogs(cls, pattern, branch, bins, weights=None, \n",
    "                     cut=None, statistic='count', debug=False, _unit=None):\n",
    "        values = uproot.concatenate(pattern, expressions=branch, cut=cut, library='np')[branch]\n",
    "        values = ((values*unit(_unit)).to(bins.u)).m\n",
    "        if debug: print( 'values', type(values), values.min(), values.max() )\n",
    "        xbins = arange2(*bins.m)\n",
    "        if debug: print( 'bins', xbins )\n",
    "        w = ones_like(values)\n",
    "        if weights:\n",
    "            w = uproot.concatenate(pattern, expressions=weights, cut=cut, library='np')[weights]\n",
    "        y = binned_statistic( values, w, bins=xbins, statistic=statistic )[0].astype(float)\n",
    "        yerr = sqrt(y)\n",
    "        return BinnedSpectrum( un.uarray(y, yerr)*unit.event, bins )\n",
    "    \n",
    "    @classmethod\n",
    "    def fromFunc(cls, func, bins, epsrel=1e-4):\n",
    "        x = arange2(*bins)\n",
    "        y = array( [ quad( func, x[i], x[i+1], epsrel=epsrel )[0]/(x[i+1]-x[i]) \n",
    "                         for i in range(len(x)-1) ] )\n",
    "        return BinnedSpectrum( un.uarray(y, 0), bins )\n",
    "\n",
    "def printtable( *specs, xlabel='x', ylabels=['y'], fmt='uf' ):\n",
    "    \n",
    "    x = list(map(lambda s: f'{s}', specs[0].binEdges()[:-1]))\n",
    "    xlen = max(map(len, x))\n",
    "\n",
    "    y = [ list(map(lambda s: ('{:.1%s}'%fmt).format(s), spec)) for spec in specs ]\n",
    "    ylen = [ max(map(len, _y)) for _y in y ]\n",
    "\n",
    "    format_str = '{:<%s} | '%xlen\n",
    "    format_str += ' | '.join( [ '{:<%s}'%_ylen for _ylen in ylen ] )\n",
    "    \n",
    "    print( format_str.format(xlabel, *ylabels) )\n",
    "    print( '='*( xlen + sum(ylen) + 3*len(ylabels) ) )\n",
    "    x = list(map(lambda s: ('{:>%s}'%(xlen)).format(s), x))\n",
    "    y = [ list(map(lambda s: ('{:>%s}'%(_ylen)).format(s), _y)) for _y, _ylen in zip(y,ylen) ]\n",
    "\n",
    "    table = list( zip(x, *y) )\n",
    "    print( '\\n'.join(map(lambda s: ' | '.join(s), table) ) )\n",
    "    print( '='*( xlen + sum(ylen) + 3*len(ylabels) ) )\n",
    "\n",
    "def nom( kernel, func, epsrel=1e-2, lims=(0, inf) ):\n",
    "    return vectorize( lambda new_x: quad( \n",
    "        lambda x: kernel(new_x, x)*func(x), lims[0], lims[1], epsrel=epsrel \n",
    "    )[0] )\n",
    "\n",
    "def den( kernel, epsrel=1e-2, lims=(0, inf) ):\n",
    "    return vectorize( lambda new_x: quad( \n",
    "        lambda x: kernel(new_x, x), lims[0], lims[1], epsrel=epsrel \n",
    "    )[0] )\n",
    "\n",
    "def convolveFuncs( kernel, func, epsrel=1e-2, lims=(0, inf) ):\n",
    "    nomf = nom( kernel, func, epsrel=epsrel, lims=lims )\n",
    "    denf = den( kernel, epsrel=epsrel, lims=lims)\n",
    "    return lambda x: nomf(x)/denf(x)"
   ]
  },
  {
   "cell_type": "code",
   "execution_count": 7,
   "metadata": {},
   "outputs": [],
   "source": [
    "pattern = {\n",
    "    'match': '/share/storage2/connie/DAna/nuCatalogs/match_*_sim_[6-7]*_to_*_v4.0.root',\n",
    "    'data': '/share/storage2/connie/DAna/nuCatalogs/shape_*_data_[6-7]*_to_*_v4.0.root',    \n",
    "    'sim': '/share/storage2/connie/DAna/nuCatalogs/draw_all*.root',\n",
    "}"
   ]
  },
  {
   "cell_type": "markdown",
   "metadata": {},
   "source": [
    "# Efficiency\n",
    "\n",
    "The first step in the analysis is to compute the reconstruction efficiency. In order to obtain it, neutrino-like events are simulated and added to the measured images. These events are randomly distributed in the active region of the CCD and uniformely in energy from 25 to 2500 eV. The images with the added events are then processed and the events are extracted as if they were real events. \n",
    "\n",
    "For the neutrino-like event simulations the ionization energies are given and then the measured energy of the same event is computed after the processing. Therefore, the efficiency $\\epsilon$ is computed as the percentage of simulated events with given ionization energy $E_{\\rm I}$ are detected in the final processed image,\n",
    "\n",
    "$$\n",
    "\\epsilon(E_{\\rm I}) = \\frac{\\cal{N}_{\\rm R}}{\\cal{N}},\n",
    "$$\n",
    "where the number of simulated events and the number of reconstructed events are, respectively, given by,\n",
    "$$\n",
    "{\\cal N} = \\frac{{\\rm d} N}{{\\rm d} E_{\\rm I}}(E_{\\rm I}),\n",
    "\\quad\n",
    "{\\cal N}_{\\rm R} = \\frac{{\\rm d} N_{\\rm R}}{{\\rm d} E_{\\rm I}}(E_{\\rm I}).\n",
    "$$\n"
   ]
  },
  {
   "cell_type": "markdown",
   "metadata": {},
   "source": [
    "Below the matching condition to identify the events in the processed image with the simulation is defined by demanding the $x,y$ distance between the simulated and reconstructed events to be smaller then 1.5 pixels. Furthermore, the spectra are read from the `sim` and `match` catalogs for all images. The OHDU 3 is used here to exemplify the computation."
   ]
  },
  {
   "cell_type": "code",
   "execution_count": 8,
   "metadata": {},
   "outputs": [
    {
     "name": "stdout",
     "output_type": "stream",
     "text": [
      "Figure [1]\n"
     ]
    },
    {
     "data": {
      "image/png": "[encoded data removed]",
      "text/plain": [
       "<Figure size 1152x288 with 1 Axes>"
      ]
     },
     "metadata": {
      "needs_background": "light"
     },
     "output_type": "display_data"
    }
   ],
   "source": [
    "matchDistMax=1.5\n",
    "selection = {}\n",
    "selection['size'] = '(sizell<.95) & (sizell>0)'\n",
    "selection['energy'] = '(E0/gain3Peaks*1e3>45) & (E1/gain3Peaks*1e3>50)'\n",
    "selection['geom'] = '(xMin>140) & (xMax<3960) & (yMin>75) & (yMax<898) & (flag==0) & (hPixFlag==0)'\n",
    "\n",
    "selection['sim'] = lambda ohdu: f'hdu=={ohdu}'\n",
    "selection['match2'] = lambda ohdu: ' & '.join( [\n",
    "    f'(ohdu=={ohdu}) & (distSim < {matchDistMax})', \n",
    "] )\n",
    "selection['match'] = lambda ohdu: ' & '.join( [\n",
    "    f'(ohdu=={ohdu}) & (distSim < {matchDistMax})', \n",
    "    selection['size'],\n",
    "    selection['energy'],\n",
    "    selection['geom']\n",
    "] )\n",
    "\n",
    "Ebins = (0, 2500, 5)*unit.eV\n",
    "\n",
    "dN_dE = {}\n",
    "ohdu = 3\n",
    "dN_dE[ohdu] = {}\n",
    "dN_dE[ohdu]['sim'] = BinnedSpectrum.fromCatalogs( f'{pattern[\"sim\"]}:hitSumm', 'oEnergy',\n",
    "    cut=selection['sim'](ohdu), bins=Ebins, _unit='eV' )\n",
    "dN_dE[ohdu]['match'] = BinnedSpectrum.fromCatalogs( f'{pattern[\"match\"]}:hitSumm', 'oEnergy',\n",
    "    cut=selection['match'](ohdu), bins=Ebins, _unit='eV' )\n",
    "dN_dE[ohdu]['match2'] = BinnedSpectrum.fromCatalogs( f'{pattern[\"match\"]}:hitSumm', 'oEnergy',\n",
    "    cut=selection['match2'](ohdu), bins=Ebins, _unit='eV' )\n",
    "\n",
    "epsilon = {}\n",
    "epsilon[ohdu] = dN_dE[ohdu]['match']/dN_dE[ohdu]['sim']\n",
    "epsilon[f'{ohdu}_2'] = dN_dE[ohdu]['match2']/dN_dE[ohdu]['sim']\n",
    "\n",
    "with Figure(ncols=2) as fig:\n",
    "    with fig.addAxes(xlabel='simulated energy [eV]', ylabel='counts', \n",
    "                     title=f'OHDU{ohdu}') as ax:\n",
    "\n",
    "        dN_dE[ohdu]['sim'].plot(ax, label='simulated', units=('eV','event'))\n",
    "        dN_dE[ohdu]['match2'].plot(ax, label='reconstructed\\nno selections', units=('eV','event'))\n",
    "        dN_dE[ohdu]['match'].plot(ax, label='reconstructed\\nwith selections', units=('eV','event'))\n"
   ]
  },
  {
   "cell_type": "markdown",
   "metadata": {},
   "source": [
    "For comparison, the efficiency computed from the previously published 1x1 analysis is also defined using its parametrization. Two fitting functions are used in order to parametrize the novel 1x5 data."
   ]
  },
  {
   "cell_type": "code",
   "execution_count": 9,
   "metadata": {},
   "outputs": [
    {
     "name": "stdout",
     "output_type": "stream",
     "text": [
      "1.0±inf 1.0±inf 1.0±inf\n"
     ]
    },
    {
     "name": "stderr",
     "output_type": "stream",
     "text": [
      "/home/mota/.local/lib/python3.6/site-packages/scipy/optimize/minpack.py:755: RuntimeWarning: divide by zero encountered in true_divide\n",
      "  transform = 1.0 / sigma\n",
      "/home/mota/.local/lib/python3.6/site-packages/scipy/optimize/minpack.py:829: OptimizeWarning: Covariance of the parameters could not be estimated\n",
      "  category=OptimizeWarning)\n"
     ]
    }
   ],
   "source": [
    "def epsilon_old(E):\n",
    "    E_ = E.to('keV')\n",
    "    ret = zeros_like(E_)*unit('dimensionless')\n",
    "    p = [17.14/unit.keV, 0.1239*unit.keV, 0.7426]\n",
    "    Emin = 64*unit.eV\n",
    "    ret[E_>Emin] = p[2] - exp(-p[0]*(E_[E_>Emin] - p[1]) )/( exp(-p[0]*(E_[E_>Emin] - p[1]) ) + 1 )\n",
    "    return ret\n",
    "\n",
    "tanhFit = lambda x, *p: p[2]*(( tanh( (x - p[1])/p[0] ) + 1 )/2)\n",
    "expmFit = lambda x, *p: - 1/( 1 + exp(1./p[0]*(x - p[1]) ) ) + p[2]\n",
    "params = epsilon[ohdu].fit_params(tanhFit, p0=[1.,1.,1.])\n",
    "print( *map( lambda x: f'{x:.1uP}', params ) )"
   ]
  },
  {
   "cell_type": "markdown",
   "metadata": {},
   "source": [
    "Below, both the counts of simulated and reconstructed events are shown with their respective ionization energy. On the right plot, the ratio is computed togheter with the results of the fits and the comparison with the 1x1 efficiency."
   ]
  },
  {
   "cell_type": "code",
   "execution_count": 10,
   "metadata": {},
   "outputs": [
    {
     "name": "stderr",
     "output_type": "stream",
     "text": [
      "/home/mota/.local/lib/python3.6/site-packages/numpy/core/_asarray.py:83: UnitStrippedWarning: The unit of the quantity is stripped when downcasting to ndarray.\n",
      "  return array(a, dtype, copy=False, order=order)\n"
     ]
    },
    {
     "name": "stdout",
     "output_type": "stream",
     "text": [
      "Figure [2]\n"
     ]
    },
    {
     "data": {
      "image/png": "[encoded data removed]",
      "text/plain": [
       "<Figure size 1152x576 with 2 Axes>"
      ]
     },
     "metadata": {
      "needs_background": "light"
     },
     "output_type": "display_data"
    }
   ],
   "source": [
    "e = arange2(0, 2500, 10)*unit.eV\n",
    "with Figure(ncols=2) as fig:\n",
    "    with fig.addAxes(xlabel='simulated energy [eV]', ylabel='counts', \n",
    "                     title=f'OHDU{ohdu}') as ax:\n",
    "\n",
    "        dN_dE[ohdu]['sim'].plot(ax, label='simulated', units=('eV','event'))\n",
    "        dN_dE[ohdu]['match2'].plot(ax, label='reconstructed\\nno selections', units=('eV','event'))\n",
    "        dN_dE[ohdu]['match'].plot(ax, label='reconstructed\\nwith selections', units=('eV','event'))\n",
    "    \n",
    "    with fig.addAxes(xlabel='simulated energy [eV]', ylabel='efficiency', title='OHDU3') as ax:\n",
    "        epsilon[ohdu].plot( \n",
    "            ax, color='green',\n",
    "            label='efficiency',\n",
    "            units=('eV','event')\n",
    "        )\n",
    "        epsilon[ohdu].plot_fit(\n",
    "            ax, tanhFit, p0=[1., 1., 1. ], \n",
    "            label=r'$c(\\tanh((x - b)/a) + 1)/2$',\n",
    "#             units=('eV','event')\n",
    "        )\n",
    "#         epsilon[ohdu].plot_fit(\n",
    "#             ax, expmFit, p0=[10,10,10], \n",
    "#             label=r'$- 1/(1 + {\\rm e}^{a*x-b})-c$' \n",
    "#         )\n",
    "        ax.plot( e, epsilon_old(e), color='red', label='efficiency 1x1' )\n"
   ]
  },
  {
   "cell_type": "markdown",
   "metadata": {},
   "source": [
    "In the 1x5 computation, the whole CCD active region was used. No selections were included. This represents the pure reconstruction efficiency. The fact that the 1x5 saturation value is higher than the 1x1 case might indicate that the last has included extra selections."
   ]
  },
  {
   "cell_type": "markdown",
   "metadata": {},
   "source": [
    "Below, the energy range of before the saturation is magnified for a detailed analysis."
   ]
  },
  {
   "cell_type": "code",
   "execution_count": 11,
   "metadata": {},
   "outputs": [
    {
     "name": "stderr",
     "output_type": "stream",
     "text": [
      "/home/mota/.local/lib/python3.6/site-packages/scipy/optimize/minpack.py:755: RuntimeWarning: divide by zero encountered in true_divide\n",
      "  transform = 1.0 / sigma\n",
      "/home/mota/.local/lib/python3.6/site-packages/scipy/optimize/minpack.py:829: OptimizeWarning: Covariance of the parameters could not be estimated\n",
      "  category=OptimizeWarning)\n",
      "/home/mota/.local/lib/python3.6/site-packages/numpy/core/_asarray.py:83: UnitStrippedWarning: The unit of the quantity is stripped when downcasting to ndarray.\n",
      "  return array(a, dtype, copy=False, order=order)\n"
     ]
    },
    {
     "name": "stdout",
     "output_type": "stream",
     "text": [
      "[('a', '(1.0±inf)×10¹'), ('b', '(1.0±inf)×10¹'), ('c', '(1.0±inf)×10¹')]\n",
      "Figure [3]\n"
     ]
    },
    {
     "data": {
      "image/png": "[encoded data removed]",
      "text/plain": [
       "<Figure size 1152x576 with 1 Axes>"
      ]
     },
     "metadata": {
      "needs_background": "light"
     },
     "output_type": "display_data"
    }
   ],
   "source": [
    "print( \n",
    "    list(\n",
    "        zip(\n",
    "            ['a','b','c'], \n",
    "            map( lambda x: f'{x:.1uP}', epsilon[3].fit_params(tanhFit, p0=[10,10,10]) )\n",
    "        )\n",
    "    ) \n",
    ")\n",
    "with Figure() as fig:\n",
    "    with fig.addAxes(\n",
    "        title='OHDU3', xlabel='simulated energy [eV]', \n",
    "        ylabel='efficiency', xlim=(0,300)) as ax:\n",
    "        \n",
    "        ax.plot( e, epsilon_old(e), label='1x1 efficiency', color='red' )\n",
    "        epsilon[ohdu].plot( ax, label='1x5 efficiency', color='green', units=('eV','event') )\n",
    "        epsilon[ohdu].plot_fit(\n",
    "            ax, tanhFit, p0=[10,10,10], color='green',\n",
    "            label=r'$c(\\tanh((x - b)/a) + 1)/2$' \n",
    "        )\n"
   ]
  },
  {
   "cell_type": "markdown",
   "metadata": {},
   "source": [
    "The green line representing the hyperbolic tangent fit is preferred since it continuously goes to zero. The overvaluation below 25 eV is minimum and will not affect our final results.\n",
    "\n",
    "Below, we compute the efficiency for all OHDU and compare their fits. There is a sizeable variation which implies that the analysis needs to be performed independently for each OHDU."
   ]
  },
  {
   "cell_type": "code",
   "execution_count": null,
   "metadata": {},
   "outputs": [
    {
     "name": "stdout",
     "output_type": "stream",
     "text": [
      "OHDU2\n",
      "a: (1.0±inf)×10¹ b: (1.0±inf)×10¹ c: (1.0±inf)×10¹\n"
     ]
    },
    {
     "name": "stderr",
     "output_type": "stream",
     "text": [
      "/home/mota/.local/lib/python3.6/site-packages/scipy/optimize/minpack.py:755: RuntimeWarning: divide by zero encountered in true_divide\n",
      "  transform = 1.0 / sigma\n",
      "/home/mota/.local/lib/python3.6/site-packages/scipy/optimize/minpack.py:829: OptimizeWarning: Covariance of the parameters could not be estimated\n",
      "  category=OptimizeWarning)\n"
     ]
    },
    {
     "name": "stdout",
     "output_type": "stream",
     "text": [
      "OHDU3\n",
      "a: (1.0±inf)×10¹ b: (1.0±inf)×10¹ c: (1.0±inf)×10¹\n",
      "OHDU4\n",
      "a: (1.0±inf)×10¹ b: (1.0±inf)×10¹ c: (1.0±inf)×10¹\n",
      "OHDU5\n",
      "a: (1.0±inf)×10¹ b: (1.0±inf)×10¹ c: (1.0±inf)×10¹\n",
      "OHDU8\n",
      "a: (1.0±inf)×10¹ b: (1.0±inf)×10¹ c: (1.0±inf)×10¹\n",
      "OHDU9\n",
      "a: (1.0±inf)×10¹ b: (1.0±inf)×10¹ c: (1.0±inf)×10¹\n",
      "OHDU13\n",
      "a: (1.0±inf)×10¹ b: (1.0±inf)×10¹ c: (1.0±inf)×10¹\n"
     ]
    }
   ],
   "source": [
    "for ohdu in [2,3,4,5,8,9,13,14]:\n",
    "    dN_dE[ohdu] = {}\n",
    "    dN_dE[ohdu]['sim'] = BinnedSpectrum.fromCatalogs(\n",
    "        f'{pattern[\"sim\"]}:hitSumm', \n",
    "        'oEnergy',\n",
    "        _unit='eV',\n",
    "        cut=selection['sim'](ohdu), \n",
    "        bins=Ebins \n",
    "    )\n",
    "    dN_dE[ohdu]['match'] = BinnedSpectrum.fromCatalogs( \n",
    "        f'{pattern[\"match\"]}:hitSumm', \n",
    "        'oEnergy',\n",
    "        _unit='eV',\n",
    "        cut=selection['match'](ohdu), \n",
    "        bins=Ebins \n",
    "    )\n",
    "    epsilon[ohdu] = dN_dE[ohdu]['match']/dN_dE[ohdu]['sim']\n",
    "    print(f'OHDU{ohdu}')\n",
    "    print(\n",
    "        *map( lambda x: f'{x[0]}: {x[1]}', zip(\n",
    "            ['a','b','c'], \n",
    "            map( lambda x: f'{x:.1uP}', epsilon[ohdu].fit_params(tanhFit, p0=[10,10,10]) )\n",
    "        ) \n",
    "    ))\n",
    "\n",
    "with Figure() as fig:\n",
    "    with fig.addAxes(title=r'$c(\\tanh((x - b)/a) + 1)/2$', \n",
    "                     xlabel='simulated energy [eV]', \n",
    "                     ylabel='efficiency', \n",
    "                     xlim=(20,150), ylim=(0,1)) as ax:\n",
    "        for ohdu in [2,3,4,5,8,9,13,14]:\n",
    "            epsilon[ohdu].plot_fit(\n",
    "                ax, tanhFit, [10,10,10], label=f'OHDU{ohdu}'\n",
    "            )"
   ]
  },
  {
   "cell_type": "code",
   "execution_count": null,
   "metadata": {},
   "outputs": [],
   "source": [
    "with Figure() as fig:\n",
    "    with fig.addAxes(title=r'$c(\\tanh((x - b)/a) + 1)/2$', \n",
    "                     xlabel='simulated energy [eV]', \n",
    "                     ylabel='efficiency', \n",
    "                     xlim=(20,150), ylim=(0,1)) as ax:\n",
    "        for ohdu in [2,13,14]:\n",
    "            (dN_dE[ohdu]['match']/dN_dE[ohdu]['sim']).plot_fit(\n",
    "                ax, tanhFit, [10,10,10], label=f'OHDU{ohdu}'\n",
    "            )"
   ]
  },
  {
   "cell_type": "markdown",
   "metadata": {},
   "source": [
    "# Quenching factor\n",
    "Below we define [Brenda's](https://arxiv.org/pdf/1910.04951) parametrization of Chavarria's the quenching factor\n",
    "$$\n",
    "Q(E_{\\rm I}) = \\frac{ p_3 E_{\\rm I} + p_4 E_{\\rm I}^2 + E_{\\rm I}^3 }{ p_0 + p_1 E_{\\rm I} + p_2 E_{\\rm I}^2}\n",
    "$$\n",
    "where $p = \\{50{\\rm keV}^3, 1096{\\rm keV}^2, 382{\\rm keV}, 168{\\rm keV}^2, 155{\\rm keV}\\}$. This is not used for now in the following calculation, since the neutrino spectrum I have is already multiplied by Juan for by the quenching factor used in DAMIC."
   ]
  },
  {
   "cell_type": "code",
   "execution_count": null,
   "metadata": {},
   "outputs": [],
   "source": [
    "Q = {}\n",
    "dQ_dE = {}\n",
    "def Chavarria(E, diff=False):\n",
    "    p = [ 56, 1096, 382, 168, 155 ]\n",
    "    E = E/1e3\n",
    "    num = p[3]*E + p[4]*E**2 + E**3\n",
    "    den = p[0] + p[1]*E + p[2]*E**2\n",
    "    if diff:\n",
    "        dnum = (p[3] + 2*p[4]*E + 3*E**2)/1e3\n",
    "        dden = (p[1] + 2*p[2]*E)/1e3\n",
    "        return dnum/den - num/den**2*dden\n",
    "    return num/den\n",
    "\n",
    "def constant(E, diff=False):\n",
    "    k = .305\n",
    "    if diff:\n",
    "        return zeros_like(E)\n",
    "    return k*ones_like(E)\n",
    "\n",
    "Q['Chavarria'] = Chavarria\n",
    "dQ_dE['Chavarria'] = lambda E: Chavarria(E, diff=True)\n",
    "Q['constant'] = constant\n",
    "dQ_dE['constant'] = lambda E: constant(E, diff=True)\n"
   ]
  },
  {
   "cell_type": "code",
   "execution_count": null,
   "metadata": {},
   "outputs": [],
   "source": [
    "_E = arange2(10,4000,5)\n",
    "with Figure(ncols=2) as fig:\n",
    "    with fig.addAxes(xlabel='ionization energy [eV]', ylabel='quenching factor') as ax:\n",
    "        ax.plot( _E, Q['Chavarria'](_E), label='Chavarria QF' )\n",
    "        ax.plot( _E, Q['constant'](_E), label='constant QF' )\n",
    "    with fig.addAxes(xscale='log', yscale='log', xlabel='ionization energy [eVee]', \n",
    "                     ylabel='recoil energy [eV]') as ax:\n",
    "        ax.plot( _E, _E/Q['Chavarria'](_E), label='Chavarria QF' )\n",
    "        ax.plot( _E, _E/Q['constant'](_E), label='constant QF' )"
   ]
  },
  {
   "cell_type": "markdown",
   "metadata": {},
   "source": [
    "Once the recoil neutrino rate is known, it needs to be converted into ionization energy rate. This is achieved by using the quenching factor $Q = E_{\\rm I}/E_{\\rm R}$. So the ionization neutrino rate can be computed as,\n",
    "$$\n",
    "\\frac{{\\rm d} R}{{\\rm d} E_{\\rm I} } \n",
    "= \\frac{{\\rm d} R}{{\\rm d} E_{\\rm R} } \\frac{{\\rm d} E_{\\rm R}}{{\\rm d} E_{\\rm I} }\n",
    "= \\frac{{\\rm d} R}{{\\rm d} E_{\\rm R} } \\frac{1}{Q(E_{\\rm I})}\\left( \n",
    "    1 - \\frac{E_{\\rm I}}{Q(E_{\\rm I})} \\frac{{\\rm d} Q}{{\\rm d} E_{\\rm I} } \n",
    "\\right).\n",
    "$$"
   ]
  },
  {
   "cell_type": "markdown",
   "metadata": {},
   "source": [
    "# Ionization neutrino rate\n",
    "Using the ionization neutrino rate provided by Juan computed with the DAMIC's quenching factor. The table is provided in the 'vSpectrum.csv' file and for the purpose of this notebook, the energy unit is converted from keV to eV. The range of energy is chosen to be from 30 to 500 eV which is restrained by the given table."
   ]
  },
  {
   "cell_type": "code",
   "execution_count": null,
   "metadata": {},
   "outputs": [],
   "source": [
    "# def dsigmaSM_dER(ER, Enu):\n",
    "#     Q['W'] = N - (1 - 4*sin(thetaw)**2)*Z\n",
    "#     return G['F']**2/(2*pi)*Q['W']**2 * (\n",
    "#         1 - .5*M*ER/Enu**2 - ER/Enu + .5*ER**2/Enu**2\n",
    "#     )*M*F(q)"
   ]
  },
  {
   "cell_type": "code",
   "execution_count": null,
   "metadata": {},
   "outputs": [],
   "source": [
    "%%bash\n",
    "tail vSpectrum.csv"
   ]
  },
  {
   "cell_type": "code",
   "execution_count": null,
   "metadata": {},
   "outputs": [],
   "source": [
    "def load_nuSpectrum(file, _unit, **kwargs):\n",
    "    data = genfromtxt(file, **kwargs)\n",
    "    nuSpectrum = interp1d( \n",
    "        *data.T,\n",
    "        kind='slinear',\n",
    "        bounds_error=False, \n",
    "        fill_value='extrapolate' \n",
    "     )\n",
    "    return lambda x: nuSpectrum(x.to(_unit))\n",
    "\n",
    "dR_dE = {}\n",
    "\n",
    "E = arange2(30., 500, 1)*unit.eV\n",
    "\n",
    "dR_dE['Juan'] = {}\n",
    "dR_dE['Juan']['I'] = lambda x: load_nuSpectrum(file='vSpectrum.csv', _unit='keV' )(x)"
   ]
  },
  {
   "cell_type": "code",
   "execution_count": null,
   "metadata": {},
   "outputs": [],
   "source": [
    "with Figure(ncols=2) as fig:\n",
    "    for xscale in ['linear', 'log']:\n",
    "        with fig.addAxes(xlabel='energy [eV]', ylabel='rate [events/kg/day/keV]', \n",
    "                         xscale=xscale, yscale='log', title=r'$\\nu$-spectrum') as ax:\n",
    "            ax.plot(E, dR_dE['Juan']['I'](E), label=r\"ionization Juan QF\")\n"
   ]
  },
  {
   "cell_type": "markdown",
   "metadata": {},
   "source": [
    "The ionization neutrino rate can then be corrected by the efficiency of reconstruction for each of the ionization energies computed above from the simulations for OHDU3 as,\n",
    "$$\n",
    "\\frac{{\\rm d} R'}{{\\rm d} E_{\\rm I} } = \\epsilon(E_{\\rm I}) \\frac{{\\rm d} R}{{\\rm d} E_{\\rm I} }.\n",
    "$$"
   ]
  },
  {
   "cell_type": "code",
   "execution_count": null,
   "metadata": {},
   "outputs": [],
   "source": [
    "dR_dE['1x5'] = {}\n",
    "dR_dE['1x1'] = {}\n",
    "dR_dE['1x5']['I*'] = lambda E, ohdu=3: epsilon[ohdu].fit_func(tanhFit, p0=[10,10,10])(E)*dR_dE['Juan']['I'](E)\n",
    "dR_dE['1x1']['I*'] = lambda E: epsilon_old(E)*dR_dE['Juan']['I'](E)\n",
    "\n",
    "E = arange(30, 500, 1)\n",
    "with Figure(ncols=2) as fig:\n",
    "    with fig.addAxes(xlabel='ionization energy [eVee]', ylabel='rate [events/kg/day/keV]', \n",
    "                     title='efficiency', ylim=(0,100)) as ax:\n",
    "        ax.plot( E, dR_dE['Juan']['I'](E), label=r'Juan')\n",
    "        ax.plot( E, dR_dE['1x5']['I*'](E,2), label='1x5 OHDU2')\n",
    "        ax.plot( E, dR_dE['1x5']['I*'](E,13), label='1x5 OHDU13')\n",
    "        ax.plot( E, dR_dE['1x1']['I*'](E), label=r'1x1 efficiency')\n",
    "    \n",
    "    with fig.addAxes(xlabel='ionization energy [eVee]', ylabel='rate [events/kg/day/keV]', \n",
    "                     title='efficiency',\n",
    "                    xscale='log', yscale='log', ylim=(None,1e3)) as ax:\n",
    "        ax.plot( E, dR_dE['Juan']['I'](E), label=r'Juan')\n",
    "        ax.plot( E, dR_dE['1x5']['I*'](E,2), label='1x5 OHDU2')\n",
    "        ax.plot( E, dR_dE['1x5']['I*'](E,13), label='1x5 OHDU13')\n",
    "        ax.plot( E, dR_dE['1x1']['I*'](E), label=r'1x1 efficiency')"
   ]
  },
  {
   "cell_type": "markdown",
   "metadata": {},
   "source": [
    "The quenched rate is shown in blue. In orange, the calculation using the 1x5 efficiency and in green, for comparion, the 1x1 efficiency is applied as dicussed before."
   ]
  },
  {
   "cell_type": "markdown",
   "metadata": {
    "slideshow": {
     "slide_type": "slide"
    }
   },
   "source": [
    "In order to express the ionization neutrino rate in terms of the measured energy, the above spectrum needs to be convoluted with the distribution between the measured energy determination in respect to the ionization energy (from the simulations). Therefore, the distributions are computed by for each reconstructed energy bin. From them, the standard deviation is extracted as a function of the measured energy. It is interpreted as the range of ionization energies that contribute for each measured energy. A normal distribution is assumed and convoluted with the ionization neutrino rate to provide the final measured neutrino rate as follows,\n",
    "$$\n",
    "\\frac{{\\rm d} R'(E_{\\rm M})}{{\\rm d} E_{\\rm M} } = \n",
    "\\frac{1}{W(E_{\\rm M})}\n",
    "\\int_0^\\infty {\\rm d}E_{\\rm I}\\,G \\left( E_{\\rm I} - E_{\\rm M}; \\sigma(E_{\\rm M}) \\right) \\frac{{\\rm d} R'(E_{\\rm I})}{{\\rm d} E_{\\rm I} },\n",
    "$$\n",
    "where the normalization is,\n",
    "$$\n",
    "W(E_{\\rm M}) = \\int_0^\\infty {\\rm d}E_{\\rm I}\\,G \\left( E_{\\rm I} - E_{\\rm M}; \\sigma(E_{\\rm M}) \\right).\n",
    "$$"
   ]
  },
  {
   "cell_type": "markdown",
   "metadata": {},
   "source": [
    "Below, the standard deviations of the ionization energy distributions for each measured energy bin are shown."
   ]
  },
  {
   "cell_type": "code",
   "execution_count": null,
   "metadata": {},
   "outputs": [],
   "source": [
    "sigma = {}\n",
    "sigma['M'] = {}\n",
    "sigma['M'][3] = BinnedSpectrum.fromCatalogs(f'{pattern[\"match\"]}:hitSumm', 'E1/gain3Peaks*1e3', (20, 500, 10), \n",
    "                         weights='oEnergy', cut='(ohdu==3) & (distSim<1.5)', statistic='std' )\n",
    "sigma['M'][2] = BinnedSpectrum.fromCatalogs(f'{pattern[\"match\"]}:hitSumm', 'E1/gain3Peaks*1e3', (20, 500, 10), \n",
    "                         weights='oEnergy', cut='(ohdu==2) & (distSim<1.5)', statistic='std' )\n",
    "sigma['M'][13] = BinnedSpectrum.fromCatalogs(f'{pattern[\"match\"]}:hitSumm', 'E1/gain3Peaks*1e3', (20, 500, 10), \n",
    "                         weights='oEnergy', cut='(ohdu==13) & (distSim<1.5)', statistic='std' )\n",
    "\n",
    "with Figure() as fig:\n",
    "    with fig.addAxes(ylabel='ionization energy [eVee]', xlabel='measured energy [eVee]',\n",
    "                    title='measured energy dispersion') as ax:\n",
    "        sigma['M'][2].plot(ax, label=r'$\\sigma(E_{\\rm M})$ OHDU2')\n",
    "#         sigma['M'][3].plot(ax, label=r'$\\sigma(E_{\\rm M})$ OHDU3')\n",
    "        sigma['M'][13].plot(ax, label=r'$\\sigma(E_{\\rm M})$ OHDU13')"
   ]
  },
  {
   "cell_type": "markdown",
   "metadata": {},
   "source": [
    "Then, the normal kernels are convoluted with the rates for the 1x5 case as well as for the 1x1 case for comparison. A binsize of 10 eV is used to sample the convolution and generate a interpolation in order to alleviate the computational cost of recalculating this quantity for arbitrary measured energy values."
   ]
  },
  {
   "cell_type": "code",
   "execution_count": null,
   "metadata": {},
   "outputs": [],
   "source": [
    "kernel = {}\n",
    "kernel[2] = lambda E_new, E: norm.pdf(E_new, loc=E, scale=sigma['M'][2].interp()(E_new) )\n",
    "kernel[13] = lambda E_new, E: norm.pdf(E_new, loc=E, scale=sigma['M'][13].interp()(E_new) )\n",
    "E = arange(30, 500, 10)\n",
    "\n",
    "dR_dE['1x5']['M'] = {}\n",
    "dR_dE['1x5']['M'][2] = interp1d( \n",
    "    E, \n",
    "    convolveFuncs(kernel[2], \n",
    "                  lambda E: dR_dE['1x5']['I*'](E,2), lims=(30,500)\n",
    "                 )(E)\n",
    ")\n",
    "dR_dE['1x5']['M'][13] = interp1d( \n",
    "    E, \n",
    "    convolveFuncs(kernel[13], \n",
    "                  lambda E: dR_dE['1x5']['I*'](E,13), lims=(30,500)\n",
    "                 )(E)\n",
    ")\n"
   ]
  },
  {
   "cell_type": "markdown",
   "metadata": {},
   "source": [
    "Below, measured rate is compared with the efficiency corrected and the quenched rates. Both 1x5 and 1x1 are shown for comparison. It is clear that the 1x5 efficiency allows for the exploration of much lower measure energies and captures a much larger rate if compared to the 1x1 case. The increase is of a factor 4. This is a very strong advantage in using the 1x5 binning. Even though, this binning masks the geometric features of the events."
   ]
  },
  {
   "cell_type": "code",
   "execution_count": null,
   "metadata": {},
   "outputs": [],
   "source": [
    "with Figure(ncols=1) as fig:\n",
    "    for yscale in ['linear', 'log']:\n",
    "        with fig.addAxes(xlabel='measured energy [eVee]', ylabel='rate [events/kg/day/keV]', \n",
    "                         title='measured energy',\n",
    "                         ylim=(0,100), yscale=yscale) as ax:\n",
    "            ax.plot( E, dR_dE['Juan']['I'](E), color='gray', label=r'Juan')\n",
    "            ax.plot( E, dR_dE['1x1']['I*'](E), 'g-.') #, label=r'1x1 ionization')\n",
    "            ax.plot( E, dR_dE['1x1']['M'](E), 'g-', lw=3, label=r'1x1')\n",
    "            ax.plot( E, dR_dE['1x5']['I*'](E,2), '-.', color='orange' ) #, label=r'1x5 OHDU2 ionization')\n",
    "            ax.plot( E, dR_dE['1x5']['M'][2](E), '-', lw=3, color='orange', label=r'1x5 OHDU2')\n",
    "            ax.plot( E, dR_dE['1x5']['I*'](E,13), '-.', color='blue') #, label=r'1x5 OHDU13 ionization')\n",
    "            ax.plot( E, dR_dE['1x5']['M'][13](E), '-', lw=3, color='blue', label=r'1x5 OHDU13')\n"
   ]
  },
  {
   "cell_type": "markdown",
   "metadata": {},
   "source": [
    "Below, the expected rates are binned in order to compare with the ON–OFF differential measured rates. Three binsizes are shown. The same value as the previous paper, 200 eV, to compare the expected rate obtained by this calculation and the paper's result. The value to be used in the current paper, 130 eV. And, 50 eV, for future use."
   ]
  },
  {
   "cell_type": "code",
   "execution_count": null,
   "metadata": {},
   "outputs": [],
   "source": [
    "for Emin, binsize in [(75, 200), (50,130)]:\n",
    "    bins = (Emin, 430, binsize)\n",
    "    with Figure(ncols=2) as fig:\n",
    "        for yscale in ['linear', 'log']:\n",
    "            with fig.addAxes(xlabel='measured energy [eVee]', ylabel='rate [events/kg/day/keV]', \n",
    "                             title=f'$\\Delta E={binsize}$eV', yscale=yscale, ylim=(1,80)) as ax:\n",
    "                ax.plot( E, dR_dE['Juan']['I'](E), color='grey', label=r'Juan')\n",
    "                ax.plot( E, dR_dE['1x5']['M'][2](E), color='orange') #, label=r'1x5 OHDU2 measured')\n",
    "                r2 = BinnedSpectrum.fromFunc(dR_dE['1x5']['M'][2], bins )\n",
    "                r2.plot(ax, color='orange', lw=3, label=f'1x5 OHDU2')\n",
    "                \n",
    "                ax.plot( E, dR_dE['1x5']['M'][13](E), color='blue')#, label=r'1x5 OHDU3')\n",
    "                r13 = BinnedSpectrum.fromFunc(dR_dE['1x5']['M'][13], bins )\n",
    "                r13.plot(ax, color='blue', lw=3, label=f'1x5 OHDU13')\n",
    "                \n",
    "            with fig.addAxes(xlabel='measured energy [eVee]', ylabel='rate [events/kg/day/keV]', \n",
    "                             title=f'$\\Delta E={binsize}$eV', yscale=yscale, ylim=(1,80)) as ax:\n",
    "                ax.plot( E, dR_dE['Juan']['I'](E), color='gray', label=r'Juan')\n",
    "                ax.plot( E, dR_dE['1x1']['M'](E), color='green', label=r'1x1 measured')\n",
    "                r1 = BinnedSpectrum.fromFunc(dR_dE['1x1']['M'], bins )\n",
    "                r1.plot(ax, color='green', label=f'1x1 $\\Delta E={binsize}$eV')\n",
    "                \n",
    "        printtable(r2, r13, r1, xlabel='E', ylabels=['1x5(2)', '1x5(13)', '1x1'], fmt='f')\n"
   ]
  },
  {
   "cell_type": "markdown",
   "metadata": {},
   "source": [
    "The values obtained in the 200 eV binsize table are compatible with the values in the paper. The gain in expected neutrinos using the 1x5 binning is of 6 times, compared to the previous 1x1 efficiency corrected neutrino rate for the first bin of 130 eV. And reaches 10 times for the 50 eV case."
   ]
  },
  {
   "cell_type": "markdown",
   "metadata": {},
   "source": [
    "# ON–OFF 2019\n",
    "\n",
    "In this section, the reactor ON and OFF data are selected using the agreed runID, geometric, energy and event-size selection cuts. These are defined below."
   ]
  },
  {
   "cell_type": "code",
   "execution_count": null,
   "metadata": {},
   "outputs": [],
   "source": [
    "runIDexcluded = [6415, 6475, 6499, 6926, 6927, 6031, 6093, 6096, 6139, 7074, 7222, 7226, 7374]\n",
    "selection = {}\n",
    "selection['runID'] = ' & '.join(map(lambda s: f'(runID!={s})', runIDexcluded))\n",
    "\n",
    "selection['size'] = '(sizell<.95) & (sizell>0)'\n",
    "selection['energy'] = '(E0/gain3Peaks*1e3>45) & (E1/gain3Peaks*1e3>50)'\n",
    "selection['geom'] = '(xMin>140) & (xMax<3960) & (yMin>75) & (yMax<898) & (flag==0) & (hPixFlag==0)'\n",
    "selection['ohdu'] = '(' + ' | '.join(map(lambda s: f'(ohdu=={s})', [2,3,4,5,8,9,13,14])) + ')'\n",
    "\n",
    "selection['runIDon'] = '( ((runID>6030) & (runID<6227)) | ((runID>6974) & (runID<7522)) )'\n",
    "selection['runIDoff'] = '(runID>6226) & (runID<6975)'\n",
    "\n",
    "selection['on'] = lambda ohdu: ' & '.join( [\n",
    "    selection['runID'], \n",
    "    selection['size'], \n",
    "    selection['energy'], \n",
    "    selection['geom'],\n",
    "    selection['ohdu'],\n",
    "    selection['runIDon'],\n",
    "    f'(ohdu=={ohdu})'\n",
    "] )\n",
    "selection['off'] = lambda ohdu: ' & '.join( [\n",
    "    selection['runID'], \n",
    "    selection['size'], \n",
    "    selection['energy'], \n",
    "    selection['geom'],\n",
    "    selection['ohdu'],\n",
    "    selection['runIDoff'],\n",
    "    f'(ohdu=={ohdu})'\n",
    "] )"
   ]
  },
  {
   "cell_type": "markdown",
   "metadata": {},
   "source": [
    "The energy distributions for the OHDU 3 is computed for illustration of the calculation. "
   ]
  },
  {
   "cell_type": "code",
   "execution_count": null,
   "metadata": {},
   "outputs": [],
   "source": [
    "dN_dE['on'] = {}\n",
    "dN_dE['off'] = {}\n",
    "Ebins = (50, 9000, 130)\n",
    "dN_dE['on'][3] = BinnedSpectrum.fromCatalogs(\n",
    "    f'{pattern[\"data\"]}:hitSumm', 'E1/gain3Peaks', cut=selection['on'](3), bins=Ebins, _unit='keV'\n",
    ")\n",
    "dN_dE['off'][3] = BinnedSpectrum.fromCatalogs(\n",
    "    f'{pattern[\"data\"]}:hitSumm', 'E1/gain3Peaks', cut=selection['off'](3), bins=Ebins, _unit='keV'\n",
    ")\n",
    "\n",
    "nImages = {}\n",
    "nImages['on'] = unique(uproot.concatenate(\n",
    "    f'{pattern[\"data\"]}:hitSumm', 'runID', library='np', cut=selection['on'](3)\n",
    ")['runID'])\n",
    "nImages['off'] = unique(uproot.concatenate(\n",
    "    f'{pattern[\"data\"]}:hitSumm', 'runID', library='np', cut=selection['off'](3)\n",
    ")['runID'])"
   ]
  },
  {
   "cell_type": "markdown",
   "metadata": {},
   "source": [
    "From the events counts, the rates are compared using the total mass and time exposure fo the CCDs."
   ]
  },
  {
   "cell_type": "code",
   "execution_count": null,
   "metadata": {},
   "outputs": [],
   "source": [
    "dR_dE['on'] = {}\n",
    "dR_dE['off'] = {}\n",
    "dR_dE['on2'] = {}\n",
    "dR_dE['off2'] = {}\n",
    "rho = 2.42*1e-3*(1e2)**3 #kg/m^3\n",
    "dM = rho * (15*1e-6)**2 * 675*1e-6 * 4120**2\n",
    "dM2 = rho * (15*1e-6)**2 * 675*1e-6 * (3960-140)*(898-75)\n",
    "dT = {}\n",
    "dT['on'] = len(nImages['on'])/24\n",
    "dT['off'] = len(nImages['off'])/24\n",
    "\n",
    "dR_dE['on'][3] = dN_dE['on'][3]/dT['on']/dM/(1e-3*Ebins[-1])\n",
    "dR_dE['off'][3] = dN_dE['off'][3]/dT['off']/dM/(1e-3*Ebins[-1])\n",
    "dR_dE['on2'][3] = dN_dE['on'][3]/dT['on']/dM2/(1e-3*Ebins[-1])\n",
    "dR_dE['off2'][3] = dN_dE['off'][3]/dT['off']/dM2/(1e-3*Ebins[-1])"
   ]
  },
  {
   "cell_type": "markdown",
   "metadata": {},
   "source": [
    "Below, the uncorrected counts are shown in the left. In the right, the rates of both reactor ON and OFF are presented. In the bottom, the differential rate. All for the OHDU 3."
   ]
  },
  {
   "cell_type": "code",
   "execution_count": null,
   "metadata": {},
   "outputs": [],
   "source": [
    "with Figure(ncols=2) as fig:\n",
    "    with fig.addAxes(\n",
    "        xlabel='measured energy [eVee]', \n",
    "        ylabel='counts',\n",
    "        title='OHDU3'\n",
    "    ) as ax:\n",
    "        dN_dE['on'][3].plot(ax, label='ON')\n",
    "        dN_dE['off'][3].plot(ax, label='OFF')\n",
    "    with fig.addAxes(\n",
    "        xlabel='measured energy [eVee]', \n",
    "        ylabel='rate [events/kg/day/keV]',\n",
    "        title='OHDU3'\n",
    "    ) as ax:\n",
    "        dR_dE['on'][3].plot(ax, label='ON')\n",
    "        dR_dE['off'][3].plot(ax, label='OFF')\n",
    "    with fig.addAxes(\n",
    "        xlabel='measured energy [eVee]', \n",
    "        ylabel='rate [events/kg/day/keV]',\n",
    "        title='OHDU3'\n",
    "    ) as ax:\n",
    "        diff = dR_dE['on'][3] - dR_dE['off'][3]\n",
    "        diff.plot(ax, label=r'ON–OFF')\n"
   ]
  },
  {
   "cell_type": "markdown",
   "metadata": {},
   "source": [
    "At this point, all the OHDU rates are generated and shown below."
   ]
  },
  {
   "cell_type": "code",
   "execution_count": null,
   "metadata": {},
   "outputs": [],
   "source": [
    "for ohdu in [2,3,4,5,8,9,13,14]:\n",
    "    dN_dE['on'][ohdu] = BinnedSpectrum.fromCatalogs(\n",
    "        f'{pattern[\"data\"]}:hitSumm', \n",
    "        'E1/gain3Peaks*1e3', \n",
    "        cut=selection['on'](ohdu), \n",
    "        bins=Ebins\n",
    "    )\n",
    "    dN_dE['off'][ohdu] = BinnedSpectrum.fromCatalogs(\n",
    "        f'{pattern[\"data\"]}:hitSumm', \n",
    "        'E1/gain3Peaks*1e3', \n",
    "        cut=selection['off'](ohdu), \n",
    "        bins=Ebins\n",
    "    )\n",
    "    \n",
    "    dR_dE['on'][ohdu] = dN_dE['on'][ohdu]/dT['on']/dM/(1e-3*Ebins[-1])\n",
    "    dR_dE['off'][ohdu] = dN_dE['off'][ohdu]/dT['off']/dM/(1e-3*Ebins[-1])\n",
    "    dR_dE['on2'][ohdu] = dN_dE['on'][ohdu]/dT['on']/dM2/(1e-3*Ebins[-1])\n",
    "    dR_dE['off2'][ohdu] = dN_dE['off'][ohdu]/dT['off']/dM2/(1e-3*Ebins[-1])"
   ]
  },
  {
   "cell_type": "code",
   "execution_count": null,
   "metadata": {},
   "outputs": [],
   "source": [
    "with Figure(ncols=2) as fig:\n",
    "    for ohdu in [2,3,4,5,8,9,13,14]:\n",
    "        with fig.addAxes(\n",
    "            xlabel='measured energy [eVee]', \n",
    "            ylabel='rate [events/kg/day/keV]',\n",
    "            title=f'OHDU{ohdu}'\n",
    "        ) as ax:\n",
    "            diff = dR_dE['on'][ohdu] - dR_dE['off'][ohdu]\n",
    "            diff.plot(ax, label=r'ON–OFF')\n"
   ]
  },
  {
   "cell_type": "markdown",
   "metadata": {},
   "source": [
    "The combined differential rate is obtained by taking the weighted average of all the OHDUs. For comparison, the mean is also computed."
   ]
  },
  {
   "cell_type": "code",
   "execution_count": null,
   "metadata": {},
   "outputs": [],
   "source": [
    "def bmean( args, axis=None ):\n",
    "    bins = args[0].bins\n",
    "    m = mean( list(map(array, args)), axis=axis )\n",
    "    return BinnedSpectrum(m, bins)\n",
    "\n",
    "def baverage( args, axis=None ):\n",
    "    bins = args[0].bins\n",
    "    stds = array(list(map(lambda x: array(x.s()), args)))\n",
    "    values = array(list(map(array, args)))\n",
    "    ave = sum( values/stds**2, axis=axis)/sum(1./stds**2, axis=axis)\n",
    "    return BinnedSpectrum(ave, bins)\n",
    "\n",
    "meanDiff = bmean( \n",
    "    [ dR_dE['on'][ohdu] - dR_dE['off'][ohdu] for ohdu in [2,3,4,5,8,9,13,14] ], \n",
    "    axis=0\n",
    ")\n",
    "aveDiff = baverage(\n",
    "    [ dR_dE['on'][ohdu] - dR_dE['off'][ohdu] for ohdu in [2,3,4,5,8,9,13,14] ], \n",
    "    axis=0\n",
    ")\n",
    "aveDiff2 = baverage(\n",
    "    [ dR_dE['on2'][ohdu] - dR_dE['off2'][ohdu] for ohdu in [2,3,4,5,8,9,13,14] ], \n",
    "    axis=0\n",
    ")\n",
    "aveOn = baverage(\n",
    "    [ dR_dE['on'][ohdu] for ohdu in [2,3,4,5,8,9,13,14] ], \n",
    "    axis=0\n",
    ")\n",
    "\n",
    "aveOff = baverage(\n",
    "    [ dR_dE['off'][ohdu] for ohdu in [2,3,4,5,8,9,13,14] ], \n",
    "    axis=0\n",
    ")\n",
    "\n",
    "\n",
    "new_bins = list(meanDiff.bins)\n",
    "new_bins[1] = 400\n",
    "binnedRate2 = BinnedSpectrum.fromFunc(dR_dE['1x5']['M'][2], new_bins )\n",
    "binnedRate13 = BinnedSpectrum.fromFunc(dR_dE['1x5']['M'][13], new_bins )\n"
   ]
  },
  {
   "cell_type": "markdown",
   "metadata": {},
   "source": [
    "Below, the combined differential rate is compared with the expected neutrino rate obtained in the previous section. At the bottom, the 95% confidence level rate is shown also."
   ]
  },
  {
   "cell_type": "code",
   "execution_count": null,
   "metadata": {},
   "outputs": [],
   "source": [
    "oneSidedCL = 1.64\n",
    "aveDiff95CF = BinnedSpectrum( array(aveDiff.n()) + oneSidedCL*array(aveDiff.s()), aveDiff.bins )\n",
    "aveDiff295CF = BinnedSpectrum( array(aveDiff2.n()) + oneSidedCL*array(aveDiff2.s()), aveDiff.bins )\n",
    "\n",
    "with Figure(ncols=1) as fig:\n",
    "    with fig.addAxes(\n",
    "        xlabel='measured energy [eVee]', \n",
    "        ylabel='rate [events/kg/day/keV]',\n",
    "        title=f'combined'\n",
    "    ) as ax:\n",
    "        aveOn.plot(ax, label=r'reactor ON')\n",
    "        aveOff.plot(ax, label=r'reactor OFF')\n",
    "    with fig.addAxes(\n",
    "        xlabel='measured energy [eVee]', \n",
    "        ylabel='rate [events/kg/day/keV]',\n",
    "        title=f'combined'\n",
    "    ) as ax:\n",
    "        aveDiff.plot(ax, label=r'ON–OFF weighted')\n",
    "        binnedRate2.plot(ax, label='OHDU2 expected')\n",
    "        binnedRate13.plot(ax, label='OHDU13 expected')\n",
    "    with fig.addAxes(\n",
    "        xlabel='measured energy [eVee]', \n",
    "        ylabel='rate [events/kg/day/keV]',\n",
    "        title=f'combined 95% CL',\n",
    "        yscale='log'\n",
    "    ) as ax:\n",
    "        aveDiff95CF.plot(ax, label=r'ON–OFF weighted')\n",
    "        binnedRate2.plot(ax, label='OHDU2 expected')\n",
    "        binnedRate13.plot(ax, label='OHDU13 expected')\n",
    "        "
   ]
  },
  {
   "cell_type": "markdown",
   "metadata": {},
   "source": [
    "In blue, the mean differential rates. In orange, the weighted averages and in green the expected rates.\n",
    "\n",
    "Below, the table with the values are presented for the energy range of interest. Also, the ratio between the 95% confidence level of the measurement and the expected rate. The 95% CF level measument is 16 times larger than the expected rate. This is a significant increase in comparison with the 40 times result achieved in the previous paper."
   ]
  },
  {
   "cell_type": "code",
   "execution_count": null,
   "metadata": {},
   "outputs": [],
   "source": [
    "aveDiff95CF3 = BinnedSpectrum( aveDiff95CF[:3], binnedRate.bins )\n",
    "binnedRate2_ = BinnedSpectrum( array(binnedRate2.n()), binnedRate.bins )\n",
    "binnedRate13_ = BinnedSpectrum( array(binnedRate13.n()), binnedRate.bins )\n",
    "\n",
    "printtable( \n",
    "    aveDiff95CF3, \n",
    "    binnedRate2_, \n",
    "    aveDiff95CF3/binnedRate2_, \n",
    "    binnedRate13_, \n",
    "    aveDiff95CF3/binnedRate13_, \n",
    "    xlabel='E', \n",
    "    ylabels=['95%CL', 'R2', 'x', 'R13', 'x'], \n",
    "    fmt='f' \n",
    ")\n",
    "\n",
    "with Figure(ncols=2) as fig:\n",
    "    with fig.addAxes(\n",
    "        xlabel='measured energy [eVee]', \n",
    "        ylabel='rate [events/kg/day/keV]',\n",
    "        title=f'combined 95%CL',\n",
    "        yscale='log'\n",
    "    ) as ax:\n",
    "        aveDiff95CF3.plot(ax, label=r'ON–OFF')\n",
    "        binnedRate2_.plot(ax, label='expected OHDU2')\n",
    "        binnedRate13_.plot(ax, label='expected OHDU13')\n"
   ]
  },
  {
   "cell_type": "code",
   "execution_count": null,
   "metadata": {
    "scrolled": true
   },
   "outputs": [],
   "source": [
    "Ebins = (50, 450, 50)\n",
    "for ohdu in [2,3,4,5,8,9,13,14]:\n",
    "    dN_dE['on'][ohdu] = BinnedSpectrum.fromCatalogs(\n",
    "        f'{pattern[\"data\"]}:hitSumm', \n",
    "        'E1/gain3Peaks*1e3', \n",
    "        cut=selection['on'](ohdu), \n",
    "        bins=Ebins\n",
    "    )\n",
    "    dN_dE['off'][ohdu] = BinnedSpectrum.fromCatalogs(\n",
    "        f'{pattern[\"data\"]}:hitSumm', \n",
    "        'E1/gain3Peaks*1e3', \n",
    "        cut=selection['off'](ohdu), \n",
    "        bins=Ebins\n",
    "    )\n",
    "    \n",
    "    dR_dE['on'][ohdu] = dN_dE['on'][ohdu]/dT['on']/dM/(1e-3*Ebins[-1])\n",
    "    dR_dE['off'][ohdu] = dN_dE['off'][ohdu]/dT['off']/dM/(1e-3*Ebins[-1])\n",
    "\n",
    "aveDiff = baverage(\n",
    "    [ dR_dE['on'][ohdu] - dR_dE['off'][ohdu] for ohdu in [2,3,4,5,8,9,13,14] ], \n",
    "    axis=0\n",
    ")\n",
    "\n",
    "aveDiff95CF = BinnedSpectrum( array(aveDiff.n()) + 2*array(aveDiff.s()), Ebins )\n",
    "expectedRate = BinnedSpectrum.fromFunc( dR_dE['1x5']['M'], Ebins )\n",
    "expectedRate = BinnedSpectrum( array(expectedRate.n()), Ebins )\n",
    "\n",
    "printtable( \n",
    "    aveDiff95CF, \n",
    "    expectedRate, \n",
    "    aveDiff95CF/expectedRate, \n",
    "    xlabel='E', \n",
    "    ylabels=['95%CL', 'rate', 'ratio'], \n",
    "    fmt='f' \n",
    ")\n",
    "\n",
    "with Figure(ncols=1) as fig:\n",
    "    with fig.addAxes(\n",
    "        xlabel='measured energy [eVee]', \n",
    "        ylabel='rate [events/kg/day/keV]',\n",
    "        title=f'combined 95%CL',\n",
    "        yscale='log'\n",
    "    ) as ax:\n",
    "        aveDiff95CF.plot(ax, label=r'ON–OFF')\n",
    "        expectedRate.plot(ax, label='expected rate')\n"
   ]
  },
  {
   "cell_type": "code",
   "execution_count": null,
   "metadata": {},
   "outputs": [],
   "source": [
    "# previous paper\n",
    "Ebins = (75, 200, 700)\n",
    "diffRate = {}\n",
    "diffRate['1x1'] = [198.3376620671329, 110.13266987335254, 46.41588833612772]\n",
    "diffRate['Lindhard'] = [11.478370518043963, 3.5391762881991546, 0.8282542492576113]\n",
    "diffRate['Chavarria'] = [4.83760872099896, 1.264143590947761, 0.29045165289764596]\n"
   ]
  },
  {
   "cell_type": "code",
   "execution_count": null,
   "metadata": {},
   "outputs": [],
   "source": [
    "%%bash\n",
    "tail vFlux.csv"
   ]
  },
  {
   "cell_type": "code",
   "execution_count": null,
   "metadata": {},
   "outputs": [],
   "source": [
    "%%bash\n",
    "tail vSpectrum.csv"
   ]
  },
  {
   "cell_type": "code",
   "execution_count": null,
   "metadata": {
    "collapsed": true,
    "jupyter": {
     "outputs_hidden": true
    }
   },
   "outputs": [],
   "source": []
  },
  {
   "cell_type": "code",
   "execution_count": null,
   "metadata": {},
   "outputs": [],
   "source": [
    "#neutrino flux @CONNIE\n",
    "E_flux = arange2(0, 4, .05)\n",
    "vFlux = load_nuSpectrum(E_flux, file='vFlux.csv', delimiter=', ')\n",
    "with Figure(ncols=2) as fig:\n",
    "    with fig.addAxes(\n",
    "        yscale='log', \n",
    "        xlabel='neutrino energy [MeV]', \n",
    "        ylabel=r'neutrino flux [events/MeV/cm$^2$/s]') as ax:\n",
    "        \n",
    "        ax.plot(E_flux, vFlux(E_flux), label=r'$\\nu$ flux')"
   ]
  },
  {
   "cell_type": "code",
   "execution_count": null,
   "metadata": {},
   "outputs": [],
   "source": [
    "class Unit(ndarray):\n",
    "    def __new__(cls, array, unit):\n",
    "        obj = asarray(array).view(cls)\n",
    "        obj.unit = unit\n",
    "        return obj\n",
    "        \n",
    "    def __finalize_array__(self, obj):\n",
    "        if obj is None: return\n",
    "        self.unit = obj.unit\n",
    "        \n",
    "    @classmethod\n",
    "    def addUnit(cls, unit):\n",
    "        setattr(cls, unit, )\n"
   ]
  },
  {
   "cell_type": "code",
   "execution_count": null,
   "metadata": {},
   "outputs": [],
   "source": [
    "from pint import UnitRegistry"
   ]
  },
  {
   "cell_type": "code",
   "execution_count": null,
   "metadata": {},
   "outputs": [],
   "source": [
    "Ebins = (30,600,100)*unit.eV\n",
    "print( parange2(*Ebins) )\n",
    "ureg.define('event = []')\n",
    "print( 1*ureg.event/ureg.day/ureg.kg/ureg.keV )\n",
    "a = parange2(*Ebins)\n",
    "print( a, type(a) )\n",
    "print( a[0], type(a[0]) )\n",
    "b = ufloat(2, .1)*unit.keV\n",
    "print( f'{b:~.1u}', type(b) )\n",
    "c = un.uarray([3,4,5,6],.1)*unit.MeV\n",
    "print( c, type(c) )\n",
    "q = unit.Quantity\n",
    "print( type(q) )"
   ]
  }
 ],
 "metadata": {
  "kernelspec": {
   "display_name": "Python 3",
   "language": "python",
   "name": "python3"
  },
  "language_info": {
   "codemirror_mode": {
    "name": "ipython",
    "version": 3
   },
   "file_extension": ".py",
   "mimetype": "text/x-python",
   "name": "python",
   "nbconvert_exporter": "python",
   "pygments_lexer": "ipython3",
   "version": "3.6.3"
  }
 },
 "nbformat": 4,
 "nbformat_minor": 4
}
