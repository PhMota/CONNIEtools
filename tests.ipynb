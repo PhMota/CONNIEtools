{
 "cells": [
  {
   "cell_type": "code",
   "execution_count": 1,
   "metadata": {},
   "outputs": [
    {
     "name": "stdout",
     "output_type": "stream",
     "text": [
      "/share/storage2/connie/data_analysis/processed02_data/runs/042A/data_6031_to_6233/scn/images/scn_mbs_osi_runID_042_06031_Int-400_Exp-3600_12Apr19_15:01_to_12Apr19_16:05_p1.fits\n"
     ]
    }
   ],
   "source": [
    "%%bash \n",
    "ls /share/storage2/connie/data_analysis/processed02_data/runs/*/data_*/scn/images/scn_mbs_osi_runID_*_06031_Int*_p1.fits"
   ]
  },
  {
   "cell_type": "code",
   "execution_count": 2,
   "metadata": {},
   "outputs": [
    {
     "name": "stdout",
     "output_type": "stream",
     "text": [
      "/share/storage2/connie/data/runs/045/runID_045_07696_Int-400_Exp-3600_26Jul19_14:45_to_26Jul19_15:49_p1.fits.fz\n"
     ]
    }
   ],
   "source": [
    "%%bash \n",
    "ls /share/storage2/connie/data/runs/*/runID_*_07696_*p1.fits.fz"
   ]
  },
  {
   "cell_type": "code",
   "execution_count": 14,
   "metadata": {},
   "outputs": [
    {
     "name": "stdout",
     "output_type": "stream",
     "text": [
      "scipy version 0.19.0\n",
      "['input_file <intpu_file>   fits file to be computed']\n",
      "--ohdus <ohdus>   ohdus to be loaded\n",
      "--axis <0>, <1>, ...    order of the axes\n",
      "--funcs <0>, <1>, ...    functions to be applied on each axis\n",
      "\n",
      "usage: image compute [-h]\n",
      "\n",
      "optional arguments:\n",
      "  -h, --help  show this help message and exit\n"
     ]
    },
    {
     "name": "stderr",
     "output_type": "stream",
     "text": [
      "stty: standard input: Inappropriate ioctl for device\n"
     ]
    }
   ],
   "source": [
    "%%bash\n",
    "module load softwares/python/2.7-gnu-5.3;\n",
    "./image compute \"scnfits(06031)\" --ohdus \"*\" --funcs \"hist_fit( data, poisson_norm_pdf, p0=poisson_norm_p0(data), bounds=poisson_norm_bounds(data), header=poisson_norm_header )\" --xrange -40 None --axis \"*\";"
   ]
  },
  {
   "cell_type": "code",
   "execution_count": 15,
   "metadata": {},
   "outputs": [
    {
     "name": "stdout",
     "output_type": "stream",
     "text": [
      "scipy version 0.19.0\n",
      "['input_file <input_file>', 'fits file to be computed']\n",
      "--ohdus <ohdus>    ohdus to be loaded\n",
      "--axis <a0>, <a1>, ...    order of the axes\n",
      "--funcs <f0>, <f1>, ...    functions to be applied on each axis\n",
      "\n",
      "usage: image compute [-h]\n",
      "\n",
      "optional arguments:\n",
      "  -h, --help  show this help message and exit\n"
     ]
    },
    {
     "name": "stderr",
     "output_type": "stream",
     "text": [
      "stty: standard input: Inappropriate ioctl for device\n"
     ]
    }
   ],
   "source": [
    "%%bash\n",
    "module load softwares/python/2.7-gnu-5.3;\n",
    "./image display"
   ]
  },
  {
   "cell_type": "code",
   "execution_count": 48,
   "metadata": {},
   "outputs": [
    {
     "name": "stdout",
     "output_type": "stream",
     "text": [
      "Collecting astropy\n",
      "  Downloading astropy-4.1-cp36-cp36m-manylinux1_x86_64.whl (10.3 MB)\n",
      "\u001b[K     |████████████████████████████████| 10.3 MB 17.4 MB/s eta 0:00:01    |███████████████████████▍        | 7.5 MB 17.4 MB/s eta 0:00:01\n",
      "\u001b[?25hRequirement already satisfied: numpy>=1.16 in /home/mota/.local/lib/python3.6/site-packages (from astropy) (1.19.4)\n",
      "Installing collected packages: astropy\n",
      "Successfully installed astropy-4.1\n",
      "\u001b[33mWARNING: You are using pip version 21.0.1; however, version 21.1 is available.\n",
      "You should consider upgrading via the '/opt/spack/opt/spack/linux-centos7-x86_64/gcc-8.3.0/python-3.6.3-jlfhkkcolk5ssdr54rm5lrhkxbjit7j5/bin/python -m pip install --upgrade pip' command.\u001b[0m\n"
     ]
    }
   ],
   "source": [
    "!pip3 install astropy --user"
   ]
  },
  {
   "cell_type": "code",
   "execution_count": 50,
   "metadata": {},
   "outputs": [
    {
     "name": "stdout",
     "output_type": "stream",
     "text": [
      "Requirement already satisfied: pip in /home/mota/.local/lib/python3.6/site-packages (21.0.1)\n",
      "Collecting pip\n",
      "  Downloading pip-21.1-py3-none-any.whl (1.5 MB)\n",
      "\u001b[K     |████████████████████████████████| 1.5 MB 21.5 MB/s eta 0:00:01\n",
      "\u001b[?25hInstalling collected packages: pip\n",
      "  Attempting uninstall: pip\n",
      "    Found existing installation: pip 21.0.1\n",
      "    Uninstalling pip-21.0.1:\n",
      "      Successfully uninstalled pip-21.0.1\n",
      "Successfully installed pip-21.1\n"
     ]
    }
   ],
   "source": [
    "!pip3 install --upgrade pip --user"
   ]
  },
  {
   "cell_type": "code",
   "execution_count": 61,
   "metadata": {},
   "outputs": [
    {
     "name": "stdout",
     "output_type": "stream",
     "text": [
      "\u001b[32mpath\u001b[0m /share/storage2/connie/data/runs/042/runID_042_06031_Int-400_Exp-3600_12Apr19_15:01_to_12Apr19_16:05_p1.fits.fz\n",
      "#ohdu, A, µ, σ, g, λ\n",
      "--------------------------------------------------------------------\n",
      "  2, +3.5541e+05, +3.4950e+03, +8.3672e+01, +9.9900e+02, +7.4652e-07\n",
      "  3, +3.4507e+05, +2.9992e+03, +7.0288e+01, +9.9900e+02, +5.5739e-08\n",
      "  4, +3.2760e+05, +2.1188e+03, +6.2209e+01, +9.9900e+02, +2.3347e-09\n",
      "  5, +3.3910e+05, +3.2973e+03, +7.5828e+01, +9.9900e+02, +7.2076e-09\n",
      "  6, +3.3567e+05, +3.0580e+03, +7.8651e+01, +9.9900e+02, +1.9682e-07\n",
      "  7, +3.3777e+05, +2.5495e+03, +7.2082e+01, +9.9900e+02, +6.7883e-09\n",
      "  8, +3.0439e+05, +2.2102e+03, +6.2456e+01, +9.9900e+02, +1.5140e-09\n",
      "  9, +3.0504e+05, +3.6628e+03, +6.2498e+01, +9.9900e+02, +1.1206e-09\n",
      " 10, +3.0209e+05, +3.1887e+03, +5.8394e+01, +9.9900e+02, +1.5048e-09\n",
      " 11, +3.9600e+05, +1.5058e+03, +8.4121e+00, +1.0000e+03, +5.8163e-03\n",
      " 12, +3.9600e+05, +1.1765e+03, +2.4897e+01, +1.0000e+03, +1.1233e-02\n",
      " 13, +3.9600e+05, +3.5044e+03, +6.1653e+01, +1.0000e+03, +2.8528e-01\n",
      " 14, +3.9600e+05, +2.9312e+03, +6.8760e+01, +1.0007e+03, +2.5560e-01\n",
      " 15, +3.9600e+05, +2.2601e+03, +1.1089e+01, +1.0000e+03, +9.8311e-03\n",
      "compute \u001b[32m37s985ms\u001b[0m\n",
      "compute \u001b[32m37s985ms\u001b[0m\n"
     ]
    }
   ],
   "source": [
    "import Image.compute\n",
    "import paths.paths as paths\n",
    "Image.compute.compute( \n",
    "    input_file = paths.rawfits(6031)[0], \n",
    "    ohdus = '*', \n",
    "    funcs = [\"hist_fit( data, poisson_norm_pdf, p0=poisson_norm_p0(data), bounds=poisson_norm_bounds(data), header=poisson_norm_header )\"], \n",
    "    xrange = [-440,None], \n",
    "    axis = '*' \n",
    ")"
   ]
  },
  {
   "cell_type": "code",
   "execution_count": 62,
   "metadata": {},
   "outputs": [
    {
     "ename": "AttributeError",
     "evalue": "module 'Image.compute' has no attribute 'make_argparse'",
     "output_type": "error",
     "traceback": [
      "\u001b[0;31m---------------------------------------------------------------------------\u001b[0m",
      "\u001b[0;31mAttributeError\u001b[0m                            Traceback (most recent call last)",
      "\u001b[0;32m<ipython-input-62-f9df7099f506>\u001b[0m in \u001b[0;36m<module>\u001b[0;34m\u001b[0m\n\u001b[0;32m----> 1\u001b[0;31m \u001b[0mImage\u001b[0m\u001b[0;34m.\u001b[0m\u001b[0mcompute\u001b[0m\u001b[0;34m.\u001b[0m\u001b[0mmake_argparse\u001b[0m\u001b[0;34m(\u001b[0m \u001b[0mImage\u001b[0m\u001b[0;34m.\u001b[0m\u001b[0mcompute\u001b[0m\u001b[0;34m.\u001b[0m\u001b[0mcompute\u001b[0m \u001b[0;34m)\u001b[0m\u001b[0;34m\u001b[0m\u001b[0m\n\u001b[0m",
      "\u001b[0;31mAttributeError\u001b[0m: module 'Image.compute' has no attribute 'make_argparse'"
     ]
    }
   ],
   "source": [
    "Image.compute.make_argparse( Image.compute.compute )"
   ]
  },
  {
   "cell_type": "code",
   "execution_count": 19,
   "metadata": {},
   "outputs": [
    {
     "name": "stdout",
     "output_type": "stream",
     "text": [
      "running Image.py\n",
      "\t\u001b[32mfuncs\u001b[0m ['np.median(data, axis=0)', 'np.mean(data, axis=0)'] \n",
      "\t\u001b[32minput_file\u001b[0m rawfits(16548) \u001b[32mxrange\u001b[0m [0, -450] \u001b[32mohdus\u001b[0m * \n",
      "\t\u001b[32mfunc\u001b[0m <function compute at 0x7f36ceda4c80> \u001b[32maxis\u001b[0m 0 \n",
      "/share/storage2/connie/data/runs/*/runID_*_16548_*p1.fits.fz\n",
      "\u001b[32mpath\u001b[0m /share/storage2/connie/data/runs/050/runID_050_16548_Int-400_Exp-1800_18Sep20_12:46_to_18Sep20_13:20_p1.fits.fz\n",
      "ohdu 2\n",
      "final value 65535.0\n",
      "ohdu 3\n",
      "final value 65535.0\n",
      "ohdu 4\n",
      "final value 65535.0\n",
      "ohdu 5\n",
      "final value 65535.0\n",
      "ohdu 6\n",
      "final value 65535.0\n",
      "ohdu 7\n",
      "final value 65535.0\n",
      "ohdu 8\n",
      "final value 65535.0\n",
      "ohdu 9\n",
      "final value 65535.0\n",
      "ohdu 10\n",
      "final value 65535.0\n",
      "ohdu 11\n",
      "final value 2498.906111111111\n",
      "ohdu 12\n",
      "final value 4510.037222222222\n",
      "ohdu 13\n",
      "final value 65535.0\n",
      "ohdu 14\n",
      "final value 65535.0\n",
      "ohdu 15\n",
      "final value 65535.0\n",
      "compute \u001b[32m5s206ms\u001b[0m\n",
      "compute \u001b[32m5s206ms\u001b[0m\n",
      "finished \u001b[32m5s230ms\u001b[0m\n",
      "finished \u001b[32m5s231ms\u001b[0m\n"
     ]
    },
    {
     "name": "stderr",
     "output_type": "stream",
     "text": [
      "stty: standard input: Inappropriate ioctl for device\n"
     ]
    }
   ],
   "source": [
    "import Image.header\n",
    "Image.header.header(\n",
    ")"
   ]
  },
  {
   "cell_type": "code",
   "execution_count": 46,
   "metadata": {},
   "outputs": [
    {
     "name": "stdout",
     "output_type": "stream",
     "text": [
      "running Image.py\n",
      "\u001b[1m\u001b[32mHDU 0\u001b[0m\n",
      "\u001b[32mSIMPLE\u001b[0m True \u001b[32mBITPIX\u001b[0m 16 \u001b[32mNAXIS\u001b[0m 0 \u001b[32mEXTEND\u001b[0m True \u001b[32mCOMMENT\u001b[0m   FITS (Flexible Image Transport System) format is defined in 'Astronomy \u001b[32mCOMMENT\u001b[0m   and Astrophysics', volume 376, page 359; bibcode: 2001A&A...376..359H \u001b[32mBZERO\u001b[0m 32768 \u001b[32mBSCALE\u001b[0m 1 \u001b[32mNEXTEND\u001b[0m 14 \u001b[32mFILENAME\u001b[0m /data3/runs/040/runID_040_Int-400_Exp-3600_06000.fits \u001b[32mPROCTYPE\u001b[0m Raw \u001b[32mPRODTYPE\u001b[0m image \u001b[32mPANID\u001b[0m _connie \u001b[32mDHEINF\u001b[0m MNSN fermi hardware \u001b[32mDHEFIRM\u001b[0m /home/monsoon/fpas/_connie/config/Macros/CONNIE_D4_mod_swLow_swapclk \u001b[32mSLOT00\u001b[0m MCB 0x0 4.620000 \u001b[32mSLOT01\u001b[0m DESCB 0x109AC7A 4.010000 \u001b[32mSLOT02\u001b[0m DESCB 0x1099F68 4.010000 \u001b[32mSLOT03\u001b[0m CCD12 0x84CDB6 4.080000 \u001b[32mSLOT04\u001b[0m CCD12 0x84C1FF 4.070000 \u001b[32mSLOT05\u001b[0m CCD12 0x84CFAE 4.070000 \u001b[32mOHDU\u001b[0m 1 \u001b[32mCRYOSTRD\u001b[0m 1.0 \u001b[32mEXPSTART\u001b[0m 1554961023.0 \u001b[32mEXPSTOP\u001b[0m 1554964851.0 \u001b[32mEXPTIME\u001b[0m 3828.0 \u001b[32mHTRMAX\u001b[0m 19.0 \u001b[32mHTRMIN\u001b[0m 19.0 \u001b[32mINTW\u001b[0m 400.0 \u001b[32mPRESMAX\u001b[0m 0.0 \u001b[32mPRESMIN\u001b[0m 0.0 \u001b[32mRDSTART\u001b[0m 1554964662.0 \u001b[32mRDSTOP\u001b[0m 1554964851.0 \u001b[32mRDTIME\u001b[0m 189.0 \u001b[32mRUNID\u001b[0m 6000.0 \u001b[32mSL5OFMAX\u001b[0m -4.49939 \u001b[32mSL5OFMIN\u001b[0m -4.49939 \u001b[32mTEMPMAX\u001b[0m 50.001 \u001b[32mTEMPMIN\u001b[0m 49.998 \u001b[32mVHIAMAX\u001b[0m 9.03341 \u001b[32mVHIAMIN\u001b[0m 9.03341 \u001b[32mVHIBMAX\u001b[0m 9.00447 \u001b[32mVHIBMIN\u001b[0m 9.00447 \u001b[32mVHICMAX\u001b[0m 9.00447 \u001b[32mVHICMIN\u001b[0m 9.00447 \u001b[32mVLOWAMAX\u001b[0m 4.96892 \u001b[32mVLOWAMIN\u001b[0m 4.96892 \u001b[32mVLOWBMAX\u001b[0m 5.00722 \u001b[32mVLOWBMIN\u001b[0m 5.00722 \u001b[32mVLOWCMAX\u001b[0m 5.00883 \u001b[32mVLOWCMIN\u001b[0m 5.00883 \u001b[32mVSUB1MAX\u001b[0m 40.1379 \u001b[32mVSUB1MIN\u001b[0m 40.1379 \u001b[32mTRIMSEC\u001b[0m [9:8232,1:900] \u001b[32mDATASEC\u001b[0m [9:8232,1:900] \u001b[32mCHECKSUM\u001b[0m 4Yog4VnZ4Vnf4VnZ \u001b[32mDATASUM\u001b[0m          0 \n",
      "\u001b[1m\u001b[32mHDU 1\u001b[0m\n",
      "\u001b[32mXTENSION\u001b[0m IMAGE \u001b[32mBITPIX\u001b[0m 16 \u001b[32mNAXIS\u001b[0m 2 \u001b[32mNAXIS1\u001b[0m 8540 \u001b[32mNAXIS2\u001b[0m 900 \u001b[32mPCOUNT\u001b[0m 0 \u001b[32mGCOUNT\u001b[0m 1 \u001b[32mBZERO\u001b[0m 32768 \u001b[32mBSCALE\u001b[0m 1 \u001b[32mBUNIT\u001b[0m adu \u001b[32mWCSAXES\u001b[0m 2 \u001b[32mTRIMSEC\u001b[0m [9:8232,1:900] \u001b[32mDATASEC\u001b[0m [9:8232,1:900] \u001b[32mDETSEC\u001b[0m [1:8224,1:900] \u001b[32mCCDSEC\u001b[0m [1:8224,1:900] \u001b[32mTRIMSECA\u001b[0m [4421:8532,1:900] \u001b[32mDATASECA\u001b[0m [4421:8532,1:900] \u001b[32mBIASSECA\u001b[0m [4271:4420,1:900] \u001b[32mPRESECA\u001b[0m [8533:8540,1:900] \u001b[32mPOSTSECA\u001b[0m [4421:8532,1:0] \u001b[32mTRIMSECB\u001b[0m [9:4120,1:900] \u001b[32mDATASECB\u001b[0m [9:4120,1:900] \u001b[32mBIASSECB\u001b[0m [4121:4270,1:900] \u001b[32mPRESECB\u001b[0m [1:8,1:900] \u001b[32mPOSTSECB\u001b[0m [9:4120,1:0] \u001b[32mDETECTOR\u001b[0m C44-01 \u001b[32mCCDNUM\u001b[0m 1 \u001b[32mFPA\u001b[0m CONNIE \u001b[32mOHDU\u001b[0m 2 \u001b[32mCRYOSTRD\u001b[0m 1.0 \u001b[32mEXPSTART\u001b[0m 1554961023.0 \u001b[32mEXPSTOP\u001b[0m 1554964851.0 \u001b[32mEXPTIME\u001b[0m 3828.0 \u001b[32mHTRMAX\u001b[0m 19.0 \u001b[32mHTRMIN\u001b[0m 19.0 \u001b[32mINTW\u001b[0m 400.0 \u001b[32mPRESMAX\u001b[0m 0.0 \u001b[32mPRESMIN\u001b[0m 0.0 \u001b[32mRDSTART\u001b[0m 1554964662.0 \u001b[32mRDSTOP\u001b[0m 1554964851.0 \u001b[32mRDTIME\u001b[0m 189.0 \u001b[32mRUNID\u001b[0m 6000.0 \u001b[32mSL5OFMAX\u001b[0m -4.49939 \u001b[32mSL5OFMIN\u001b[0m -4.49939 \u001b[32mTEMPMAX\u001b[0m 50.001 \u001b[32mTEMPMIN\u001b[0m 49.998 \u001b[32mVHIAMAX\u001b[0m 9.03341 \u001b[32mVHIAMIN\u001b[0m 9.03341 \u001b[32mVHIBMAX\u001b[0m 9.00447 \u001b[32mVHIBMIN\u001b[0m 9.00447 \u001b[32mVHICMAX\u001b[0m 9.00447 \u001b[32mVHICMIN\u001b[0m 9.00447 \u001b[32mVLOWAMAX\u001b[0m 4.96892 \u001b[32mVLOWAMIN\u001b[0m 4.96892 \u001b[32mVLOWBMAX\u001b[0m 5.00722 \u001b[32mVLOWBMIN\u001b[0m 5.00722 \u001b[32mVLOWCMAX\u001b[0m 5.00883 \u001b[32mVLOWCMIN\u001b[0m 5.00883 \u001b[32mVSUB1MAX\u001b[0m 40.1379 \u001b[32mVSUB1MIN\u001b[0m 40.1379 \u001b[32mCHECKSUM\u001b[0m 4UU86SU74SU74SU7 \u001b[32mDATASUM\u001b[0m 2712136566 \n",
      "\u001b[1m\u001b[32mHDU 2\u001b[0m\n",
      "\u001b[32mXTENSION\u001b[0m IMAGE \u001b[32mBITPIX\u001b[0m 16 \u001b[32mNAXIS\u001b[0m 2 \u001b[32mNAXIS1\u001b[0m 8540 \u001b[32mNAXIS2\u001b[0m 900 \u001b[32mPCOUNT\u001b[0m 0 \u001b[32mGCOUNT\u001b[0m 1 \u001b[32mBZERO\u001b[0m 32768 \u001b[32mBSCALE\u001b[0m 1 \u001b[32mBUNIT\u001b[0m adu \u001b[32mWCSAXES\u001b[0m 2 \u001b[32mTRIMSEC\u001b[0m [9:8232,1:900] \u001b[32mDATASEC\u001b[0m [9:8232,1:900] \u001b[32mDETSEC\u001b[0m [1:8224,901:1800] \u001b[32mCCDSEC\u001b[0m [1:8224,1:900] \u001b[32mTRIMSECA\u001b[0m [4421:8532,1:900] \u001b[32mDATASECA\u001b[0m [4421:8532,1:900] \u001b[32mBIASSECA\u001b[0m [4271:4420,1:900] \u001b[32mPRESECA\u001b[0m [8533:8540,1:900] \u001b[32mPOSTSECA\u001b[0m [4421:8532,1:0] \u001b[32mTRIMSECB\u001b[0m [9:4120,1:900] \u001b[32mDATASECB\u001b[0m [9:4120,1:900] \u001b[32mBIASSECB\u001b[0m [4121:4270,1:900] \u001b[32mPRESECB\u001b[0m [1:8,1:900] \u001b[32mPOSTSECB\u001b[0m [9:4120,1:0] \u001b[32mDETECTOR\u001b[0m C44-05 \u001b[32mCCDNUM\u001b[0m 2 \u001b[32mFPA\u001b[0m CONNIE \u001b[32mOHDU\u001b[0m 3 \u001b[32mCRYOSTRD\u001b[0m 1.0 \u001b[32mEXPSTART\u001b[0m 1554961023.0 \u001b[32mEXPSTOP\u001b[0m 1554964851.0 \u001b[32mEXPTIME\u001b[0m 3828.0 \u001b[32mHTRMAX\u001b[0m 19.0 \u001b[32mHTRMIN\u001b[0m 19.0 \u001b[32mINTW\u001b[0m 400.0 \u001b[32mPRESMAX\u001b[0m 0.0 \u001b[32mPRESMIN\u001b[0m 0.0 \u001b[32mRDSTART\u001b[0m 1554964662.0 \u001b[32mRDSTOP\u001b[0m 1554964851.0 \u001b[32mRDTIME\u001b[0m 189.0 \u001b[32mRUNID\u001b[0m 6000.0 \u001b[32mSL5OFMAX\u001b[0m -4.49939 \u001b[32mSL5OFMIN\u001b[0m -4.49939 \u001b[32mTEMPMAX\u001b[0m 50.001 \u001b[32mTEMPMIN\u001b[0m 49.998 \u001b[32mVHIAMAX\u001b[0m 9.03341 \u001b[32mVHIAMIN\u001b[0m 9.03341 \u001b[32mVHIBMAX\u001b[0m 9.00447 \u001b[32mVHIBMIN\u001b[0m 9.00447 \u001b[32mVHICMAX\u001b[0m 9.00447 \u001b[32mVHICMIN\u001b[0m 9.00447 \u001b[32mVLOWAMAX\u001b[0m 4.96892 \u001b[32mVLOWAMIN\u001b[0m 4.96892 \u001b[32mVLOWBMAX\u001b[0m 5.00722 \u001b[32mVLOWBMIN\u001b[0m 5.00722 \u001b[32mVLOWCMAX\u001b[0m 5.00883 \u001b[32mVLOWCMIN\u001b[0m 5.00883 \u001b[32mVSUB1MAX\u001b[0m 40.1379 \u001b[32mVSUB1MIN\u001b[0m 40.1379 \u001b[32mCHECKSUM\u001b[0m XLE0YJ90XJE0XJ90 \u001b[32mDATASUM\u001b[0m 3808357542 \n",
      "\u001b[1m\u001b[32mHDU 3\u001b[0m\n",
      "\u001b[32mXTENSION\u001b[0m IMAGE \u001b[32mBITPIX\u001b[0m 16 \u001b[32mNAXIS\u001b[0m 2 \u001b[32mNAXIS1\u001b[0m 8540 \u001b[32mNAXIS2\u001b[0m 900 \u001b[32mPCOUNT\u001b[0m 0 \u001b[32mGCOUNT\u001b[0m 1 \u001b[32mBZERO\u001b[0m 32768 \u001b[32mBSCALE\u001b[0m 1 \u001b[32mBUNIT\u001b[0m adu \u001b[32mWCSAXES\u001b[0m 2 \u001b[32mTRIMSEC\u001b[0m [9:8232,1:900] \u001b[32mDATASEC\u001b[0m [9:8232,1:900] \u001b[32mDETSEC\u001b[0m [1:8224,1801:2700] \u001b[32mCCDSEC\u001b[0m [1:8224,1:900] \u001b[32mTRIMSECA\u001b[0m [4421:8532,1:900] \u001b[32mDATASECA\u001b[0m [4421:8532,1:900] \u001b[32mBIASSECA\u001b[0m [4271:4420,1:900] \u001b[32mPRESECA\u001b[0m [8533:8540,1:900] \u001b[32mPOSTSECA\u001b[0m [4421:8532,1:0] \u001b[32mTRIMSECB\u001b[0m [9:4120,1:900] \u001b[32mDATASECB\u001b[0m [9:4120,1:900] \u001b[32mBIASSECB\u001b[0m [4121:4270,1:900] \u001b[32mPRESECB\u001b[0m [1:8,1:900] \u001b[32mPOSTSECB\u001b[0m [9:4120,1:0] \u001b[32mDETECTOR\u001b[0m C44-15 \u001b[32mCCDNUM\u001b[0m 3 \u001b[32mFPA\u001b[0m CONNIE \u001b[32mOHDU\u001b[0m 4 \u001b[32mCRYOSTRD\u001b[0m 1.0 \u001b[32mEXPSTART\u001b[0m 1554961023.0 \u001b[32mEXPSTOP\u001b[0m 1554964851.0 \u001b[32mEXPTIME\u001b[0m 3828.0 \u001b[32mHTRMAX\u001b[0m 19.0 \u001b[32mHTRMIN\u001b[0m 19.0 \u001b[32mINTW\u001b[0m 400.0 \u001b[32mPRESMAX\u001b[0m 0.0 \u001b[32mPRESMIN\u001b[0m 0.0 \u001b[32mRDSTART\u001b[0m 1554964662.0 \u001b[32mRDSTOP\u001b[0m 1554964851.0 \u001b[32mRDTIME\u001b[0m 189.0 \u001b[32mRUNID\u001b[0m 6000.0 \u001b[32mSL5OFMAX\u001b[0m -4.49939 \u001b[32mSL5OFMIN\u001b[0m -4.49939 \u001b[32mTEMPMAX\u001b[0m 50.001 \u001b[32mTEMPMIN\u001b[0m 49.998 \u001b[32mVHIAMAX\u001b[0m 9.03341 \u001b[32mVHIAMIN\u001b[0m 9.03341 \u001b[32mVHIBMAX\u001b[0m 9.00447 \u001b[32mVHIBMIN\u001b[0m 9.00447 \u001b[32mVHICMAX\u001b[0m 9.00447 \u001b[32mVHICMIN\u001b[0m 9.00447 \u001b[32mVLOWAMAX\u001b[0m 4.96892 \u001b[32mVLOWAMIN\u001b[0m 4.96892 \u001b[32mVLOWBMAX\u001b[0m 5.00722 \u001b[32mVLOWBMIN\u001b[0m 5.00722 \u001b[32mVLOWCMAX\u001b[0m 5.00883 \u001b[32mVLOWCMIN\u001b[0m 5.00883 \u001b[32mVSUB1MAX\u001b[0m 40.1379 \u001b[32mVSUB1MIN\u001b[0m 40.1379 \u001b[32mCHECKSUM\u001b[0m nLLPnJINnJINnJIN \u001b[32mDATASUM\u001b[0m 2763879795 \n",
      "\u001b[1m\u001b[32mHDU 4\u001b[0m\n",
      "\u001b[32mXTENSION\u001b[0m IMAGE \u001b[32mBITPIX\u001b[0m 16 \u001b[32mNAXIS\u001b[0m 2 \u001b[32mNAXIS1\u001b[0m 8540 \u001b[32mNAXIS2\u001b[0m 900 \u001b[32mPCOUNT\u001b[0m 0 \u001b[32mGCOUNT\u001b[0m 1 \u001b[32mBZERO\u001b[0m 32768 \u001b[32mBSCALE\u001b[0m 1 \u001b[32mBUNIT\u001b[0m adu \u001b[32mWCSAXES\u001b[0m 2 \u001b[32mTRIMSEC\u001b[0m [9:8232,1:900] \u001b[32mDATASEC\u001b[0m [9:8232,1:900] \u001b[32mDETSEC\u001b[0m [1:8224,2701:3600] \u001b[32mCCDSEC\u001b[0m [1:8224,1:900] \u001b[32mTRIMSECA\u001b[0m [4421:8532,1:900] \u001b[32mDATASECA\u001b[0m [4421:8532,1:900] \u001b[32mBIASSECA\u001b[0m [4271:4420,1:900] \u001b[32mPRESECA\u001b[0m [8533:8540,1:900] \u001b[32mPOSTSECA\u001b[0m [4421:8532,1:0] \u001b[32mTRIMSECB\u001b[0m [9:4120,1:900] \u001b[32mDATASECB\u001b[0m [9:4120,1:900] \u001b[32mBIASSECB\u001b[0m [4121:4270,1:900] \u001b[32mPRESECB\u001b[0m [1:8,1:900] \u001b[32mPOSTSECB\u001b[0m [9:4120,1:0] \u001b[32mDETECTOR\u001b[0m C44-18 \u001b[32mCCDNUM\u001b[0m 4 \u001b[32mFPA\u001b[0m CONNIE \u001b[32mOHDU\u001b[0m 5 \u001b[32mCRYOSTRD\u001b[0m 1.0 \u001b[32mEXPSTART\u001b[0m 1554961023.0 \u001b[32mEXPSTOP\u001b[0m 1554964851.0 \u001b[32mEXPTIME\u001b[0m 3828.0 \u001b[32mHTRMAX\u001b[0m 19.0 \u001b[32mHTRMIN\u001b[0m 19.0 \u001b[32mINTW\u001b[0m 400.0 \u001b[32mPRESMAX\u001b[0m 0.0 \u001b[32mPRESMIN\u001b[0m 0.0 \u001b[32mRDSTART\u001b[0m 1554964662.0 \u001b[32mRDSTOP\u001b[0m 1554964851.0 \u001b[32mRDTIME\u001b[0m 189.0 \u001b[32mRUNID\u001b[0m 6000.0 \u001b[32mSL5OFMAX\u001b[0m -4.49939 \u001b[32mSL5OFMIN\u001b[0m -4.49939 \u001b[32mTEMPMAX\u001b[0m 50.001 \u001b[32mTEMPMIN\u001b[0m 49.998 \u001b[32mVHIAMAX\u001b[0m 9.03341 \u001b[32mVHIAMIN\u001b[0m 9.03341 \u001b[32mVHIBMAX\u001b[0m 9.00447 \u001b[32mVHIBMIN\u001b[0m 9.00447 \u001b[32mVHICMAX\u001b[0m 9.00447 \u001b[32mVHICMIN\u001b[0m 9.00447 \u001b[32mVLOWAMAX\u001b[0m 4.96892 \u001b[32mVLOWAMIN\u001b[0m 4.96892 \u001b[32mVLOWBMAX\u001b[0m 5.00722 \u001b[32mVLOWBMIN\u001b[0m 5.00722 \u001b[32mVLOWCMAX\u001b[0m 5.00883 \u001b[32mVLOWCMIN\u001b[0m 5.00883 \u001b[32mVSUB1MAX\u001b[0m 40.1379 \u001b[32mVSUB1MIN\u001b[0m 40.1379 \u001b[32mCHECKSUM\u001b[0m 2MaA4LV52LZA2LZ5 \u001b[32mDATASUM\u001b[0m 2658649957 \n",
      "\u001b[1m\u001b[32mHDU 5\u001b[0m\n",
      "\u001b[32mXTENSION\u001b[0m IMAGE \u001b[32mBITPIX\u001b[0m 16 \u001b[32mNAXIS\u001b[0m 2 \u001b[32mNAXIS1\u001b[0m 8540 \u001b[32mNAXIS2\u001b[0m 900 \u001b[32mPCOUNT\u001b[0m 0 \u001b[32mGCOUNT\u001b[0m 1 \u001b[32mBZERO\u001b[0m 32768 \u001b[32mBSCALE\u001b[0m 1 \u001b[32mBUNIT\u001b[0m adu \u001b[32mWCSAXES\u001b[0m 2 \u001b[32mTRIMSEC\u001b[0m [9:8232,1:900] \u001b[32mDATASEC\u001b[0m [9:8232,1:900] \u001b[32mDETSEC\u001b[0m [1:8224,3601:4500] \u001b[32mCCDSEC\u001b[0m [1:8224,1:900] \u001b[32mTRIMSECA\u001b[0m [4421:8532,1:900] \u001b[32mDATASECA\u001b[0m [4421:8532,1:900] \u001b[32mBIASSECA\u001b[0m [4271:4420,1:900] \u001b[32mPRESECA\u001b[0m [8533:8540,1:900] \u001b[32mPOSTSECA\u001b[0m [4421:8532,1:0] \u001b[32mTRIMSECB\u001b[0m [9:4120,1:900] \u001b[32mDATASECB\u001b[0m [9:4120,1:900] \u001b[32mBIASSECB\u001b[0m [4121:4270,1:900] \u001b[32mPRESECB\u001b[0m [1:8,1:900] \u001b[32mPOSTSECB\u001b[0m [9:4120,1:0] \u001b[32mDETECTOR\u001b[0m C44-13 \u001b[32mCCDNUM\u001b[0m 5 \u001b[32mFPA\u001b[0m CONNIE \u001b[32mOHDU\u001b[0m 6 \u001b[32mCRYOSTRD\u001b[0m 1.0 \u001b[32mEXPSTART\u001b[0m 1554961023.0 \u001b[32mEXPSTOP\u001b[0m 1554964851.0 \u001b[32mEXPTIME\u001b[0m 3828.0 \u001b[32mHTRMAX\u001b[0m 19.0 \u001b[32mHTRMIN\u001b[0m 19.0 \u001b[32mINTW\u001b[0m 400.0 \u001b[32mPRESMAX\u001b[0m 0.0 \u001b[32mPRESMIN\u001b[0m 0.0 \u001b[32mRDSTART\u001b[0m 1554964662.0 \u001b[32mRDSTOP\u001b[0m 1554964851.0 \u001b[32mRDTIME\u001b[0m 189.0 \u001b[32mRUNID\u001b[0m 6000.0 \u001b[32mSL5OFMAX\u001b[0m -4.49939 \u001b[32mSL5OFMIN\u001b[0m -4.49939 \u001b[32mTEMPMAX\u001b[0m 50.001 \u001b[32mTEMPMIN\u001b[0m 49.998 \u001b[32mVHIAMAX\u001b[0m 9.03341 \u001b[32mVHIAMIN\u001b[0m 9.03341 \u001b[32mVHIBMAX\u001b[0m 9.00447 \u001b[32mVHIBMIN\u001b[0m 9.00447 \u001b[32mVHICMAX\u001b[0m 9.00447 \u001b[32mVHICMIN\u001b[0m 9.00447 \u001b[32mVLOWAMAX\u001b[0m 4.96892 \u001b[32mVLOWAMIN\u001b[0m 4.96892 \u001b[32mVLOWBMAX\u001b[0m 5.00722 \u001b[32mVLOWBMIN\u001b[0m 5.00722 \u001b[32mVLOWCMAX\u001b[0m 5.00883 \u001b[32mVLOWCMIN\u001b[0m 5.00883 \u001b[32mVSUB1MAX\u001b[0m 40.1379 \u001b[32mVSUB1MIN\u001b[0m 40.1379 \u001b[32mCHECKSUM\u001b[0m cMDCfK99cKCAcK99 \u001b[32mDATASUM\u001b[0m 3002582171 \n",
      "\u001b[1m\u001b[32mHDU 6\u001b[0m\n",
      "\u001b[32mXTENSION\u001b[0m IMAGE \u001b[32mBITPIX\u001b[0m 16 \u001b[32mNAXIS\u001b[0m 2 \u001b[32mNAXIS1\u001b[0m 8540 \u001b[32mNAXIS2\u001b[0m 900 \u001b[32mPCOUNT\u001b[0m 0 \u001b[32mGCOUNT\u001b[0m 1 \u001b[32mBZERO\u001b[0m 32768 \u001b[32mBSCALE\u001b[0m 1 \u001b[32mBUNIT\u001b[0m adu \u001b[32mWCSAXES\u001b[0m 2 \u001b[32mTRIMSEC\u001b[0m [9:8232,1:900] \u001b[32mDATASEC\u001b[0m [9:8232,1:900] \u001b[32mDETSEC\u001b[0m [1:8224,4501:5400] \u001b[32mCCDSEC\u001b[0m [1:8224,1:900] \u001b[32mTRIMSECA\u001b[0m [4421:8532,1:900] \u001b[32mDATASECA\u001b[0m [4421:8532,1:900] \u001b[32mBIASSECA\u001b[0m [4271:4420,1:900] \u001b[32mPRESECA\u001b[0m [8533:8540,1:900] \u001b[32mPOSTSECA\u001b[0m [4421:8532,1:0] \u001b[32mTRIMSECB\u001b[0m [9:4120,1:900] \u001b[32mDATASECB\u001b[0m [9:4120,1:900] \u001b[32mBIASSECB\u001b[0m [4121:4270,1:900] \u001b[32mPRESECB\u001b[0m [1:8,1:900] \u001b[32mPOSTSECB\u001b[0m [9:4120,1:0] \u001b[32mDETECTOR\u001b[0m C44-04 \u001b[32mCCDNUM\u001b[0m 6 \u001b[32mFPA\u001b[0m CONNIE \u001b[32mOHDU\u001b[0m 7 \u001b[32mCRYOSTRD\u001b[0m 1.0 \u001b[32mEXPSTART\u001b[0m 1554961023.0 \u001b[32mEXPSTOP\u001b[0m 1554964851.0 \u001b[32mEXPTIME\u001b[0m 3828.0 \u001b[32mHTRMAX\u001b[0m 19.0 \u001b[32mHTRMIN\u001b[0m 19.0 \u001b[32mINTW\u001b[0m 400.0 \u001b[32mPRESMAX\u001b[0m 0.0 \u001b[32mPRESMIN\u001b[0m 0.0 \u001b[32mRDSTART\u001b[0m 1554964662.0 \u001b[32mRDSTOP\u001b[0m 1554964851.0 \u001b[32mRDTIME\u001b[0m 189.0 \u001b[32mRUNID\u001b[0m 6000.0 \u001b[32mSL5OFMAX\u001b[0m -4.49939 \u001b[32mSL5OFMIN\u001b[0m -4.49939 \u001b[32mTEMPMAX\u001b[0m 50.001 \u001b[32mTEMPMIN\u001b[0m 49.998 \u001b[32mVHIAMAX\u001b[0m 9.03341 \u001b[32mVHIAMIN\u001b[0m 9.03341 \u001b[32mVHIBMAX\u001b[0m 9.00447 \u001b[32mVHIBMIN\u001b[0m 9.00447 \u001b[32mVHICMAX\u001b[0m 9.00447 \u001b[32mVHICMIN\u001b[0m 9.00447 \u001b[32mVLOWAMAX\u001b[0m 4.96892 \u001b[32mVLOWAMIN\u001b[0m 4.96892 \u001b[32mVLOWBMAX\u001b[0m 5.00722 \u001b[32mVLOWBMIN\u001b[0m 5.00722 \u001b[32mVLOWCMAX\u001b[0m 5.00883 \u001b[32mVLOWCMIN\u001b[0m 5.00883 \u001b[32mVSUB1MAX\u001b[0m 40.1379 \u001b[32mVSUB1MIN\u001b[0m 40.1379 \u001b[32mCHECKSUM\u001b[0m WrFVXo9TWoCTWo9T \u001b[32mDATASUM\u001b[0m 704079050 \n",
      "\u001b[1m\u001b[32mHDU 7\u001b[0m\n",
      "\u001b[32mXTENSION\u001b[0m IMAGE \u001b[32mBITPIX\u001b[0m 16 \u001b[32mNAXIS\u001b[0m 2 \u001b[32mNAXIS1\u001b[0m 8540 \u001b[32mNAXIS2\u001b[0m 900 \u001b[32mPCOUNT\u001b[0m 0 \u001b[32mGCOUNT\u001b[0m 1 \u001b[32mBZERO\u001b[0m 32768 \u001b[32mBSCALE\u001b[0m 1 \u001b[32mBUNIT\u001b[0m adu \u001b[32mWCSAXES\u001b[0m 2 \u001b[32mTRIMSEC\u001b[0m [9:8232,1:900] \u001b[32mDATASEC\u001b[0m [9:8232,1:900] \u001b[32mDETSEC\u001b[0m [1:8224,5401:6300] \u001b[32mCCDSEC\u001b[0m [1:8224,1:900] \u001b[32mTRIMSECA\u001b[0m [4421:8532,1:900] \u001b[32mDATASECA\u001b[0m [4421:8532,1:900] \u001b[32mBIASSECA\u001b[0m [4271:4420,1:900] \u001b[32mPRESECA\u001b[0m [8533:8540,1:900] \u001b[32mPOSTSECA\u001b[0m [4421:8532,1:0] \u001b[32mTRIMSECB\u001b[0m [9:4120,1:900] \u001b[32mDATASECB\u001b[0m [9:4120,1:900] \u001b[32mBIASSECB\u001b[0m [4121:4270,1:900] \u001b[32mPRESECB\u001b[0m [1:8,1:900] \u001b[32mPOSTSECB\u001b[0m [9:4120,1:0] \u001b[32mDETECTOR\u001b[0m C44-07 \u001b[32mCCDNUM\u001b[0m 7 \u001b[32mFPA\u001b[0m CONNIE \u001b[32mOHDU\u001b[0m 8 \u001b[32mCRYOSTRD\u001b[0m 1.0 \u001b[32mEXPSTART\u001b[0m 1554961023.0 \u001b[32mEXPSTOP\u001b[0m 1554964851.0 \u001b[32mEXPTIME\u001b[0m 3828.0 \u001b[32mHTRMAX\u001b[0m 19.0 \u001b[32mHTRMIN\u001b[0m 19.0 \u001b[32mINTW\u001b[0m 400.0 \u001b[32mPRESMAX\u001b[0m 0.0 \u001b[32mPRESMIN\u001b[0m 0.0 \u001b[32mRDSTART\u001b[0m 1554964662.0 \u001b[32mRDSTOP\u001b[0m 1554964851.0 \u001b[32mRDTIME\u001b[0m 189.0 \u001b[32mRUNID\u001b[0m 6000.0 \u001b[32mSL5OFMAX\u001b[0m -4.49939 \u001b[32mSL5OFMIN\u001b[0m -4.49939 \u001b[32mTEMPMAX\u001b[0m 50.001 \u001b[32mTEMPMIN\u001b[0m 49.998 \u001b[32mVHIAMAX\u001b[0m 9.03341 \u001b[32mVHIAMIN\u001b[0m 9.03341 \u001b[32mVHIBMAX\u001b[0m 9.00447 \u001b[32mVHIBMIN\u001b[0m 9.00447 \u001b[32mVHICMAX\u001b[0m 9.00447 \u001b[32mVHICMIN\u001b[0m 9.00447 \u001b[32mVLOWAMAX\u001b[0m 4.96892 \u001b[32mVLOWAMIN\u001b[0m 4.96892 \u001b[32mVLOWBMAX\u001b[0m 5.00722 \u001b[32mVLOWBMIN\u001b[0m 5.00722 \u001b[32mVLOWCMAX\u001b[0m 5.00883 \u001b[32mVLOWCMIN\u001b[0m 5.00883 \u001b[32mVSUB1MAX\u001b[0m 40.1379 \u001b[32mVSUB1MIN\u001b[0m 40.1379 \u001b[32mCHECKSUM\u001b[0m DWDbFVCZDVCaDVCY \u001b[32mDATASUM\u001b[0m 2196062239 \n",
      "\u001b[1m\u001b[32mHDU 8\u001b[0m\n",
      "\u001b[32mXTENSION\u001b[0m IMAGE \u001b[32mBITPIX\u001b[0m 16 \u001b[32mNAXIS\u001b[0m 2 \u001b[32mNAXIS1\u001b[0m 8540 \u001b[32mNAXIS2\u001b[0m 900 \u001b[32mPCOUNT\u001b[0m 0 \u001b[32mGCOUNT\u001b[0m 1 \u001b[32mBZERO\u001b[0m 32768 \u001b[32mBSCALE\u001b[0m 1 \u001b[32mBUNIT\u001b[0m adu \u001b[32mWCSAXES\u001b[0m 2 \u001b[32mTRIMSEC\u001b[0m [9:8232,1:900] \u001b[32mDATASEC\u001b[0m [9:8232,1:900] \u001b[32mDETSEC\u001b[0m [1:8224,6301:7200] \u001b[32mCCDSEC\u001b[0m [1:8224,1:900] \u001b[32mTRIMSECA\u001b[0m [4421:8532,1:900] \u001b[32mDATASECA\u001b[0m [4421:8532,1:900] \u001b[32mBIASSECA\u001b[0m [4271:4420,1:900] \u001b[32mPRESECA\u001b[0m [8533:8540,1:900] \u001b[32mPOSTSECA\u001b[0m [4421:8532,1:0] \u001b[32mTRIMSECB\u001b[0m [9:4120,1:900] \u001b[32mDATASECB\u001b[0m [9:4120,1:900] \u001b[32mBIASSECB\u001b[0m [4121:4270,1:900] \u001b[32mPRESECB\u001b[0m [1:8,1:900] \u001b[32mPOSTSECB\u001b[0m [9:4120,1:0] \u001b[32mDETECTOR\u001b[0m C44-17 \u001b[32mCCDNUM\u001b[0m 8 \u001b[32mFPA\u001b[0m CONNIE \u001b[32mOHDU\u001b[0m 9 \u001b[32mCRYOSTRD\u001b[0m 1.0 \u001b[32mEXPSTART\u001b[0m 1554961023.0 \u001b[32mEXPSTOP\u001b[0m 1554964851.0 \u001b[32mEXPTIME\u001b[0m 3828.0 \u001b[32mHTRMAX\u001b[0m 19.0 \u001b[32mHTRMIN\u001b[0m 19.0 \u001b[32mINTW\u001b[0m 400.0 \u001b[32mPRESMAX\u001b[0m 0.0 \u001b[32mPRESMIN\u001b[0m 0.0 \u001b[32mRDSTART\u001b[0m 1554964662.0 \u001b[32mRDSTOP\u001b[0m 1554964851.0 \u001b[32mRDTIME\u001b[0m 189.0 \u001b[32mRUNID\u001b[0m 6000.0 \u001b[32mSL5OFMAX\u001b[0m -4.49939 \u001b[32mSL5OFMIN\u001b[0m -4.49939 \u001b[32mTEMPMAX\u001b[0m 50.001 \u001b[32mTEMPMIN\u001b[0m 49.998 \u001b[32mVHIAMAX\u001b[0m 9.03341 \u001b[32mVHIAMIN\u001b[0m 9.03341 \u001b[32mVHIBMAX\u001b[0m 9.00447 \u001b[32mVHIBMIN\u001b[0m 9.00447 \u001b[32mVHICMAX\u001b[0m 9.00447 \u001b[32mVHICMIN\u001b[0m 9.00447 \u001b[32mVLOWAMAX\u001b[0m 4.96892 \u001b[32mVLOWAMIN\u001b[0m 4.96892 \u001b[32mVLOWBMAX\u001b[0m 5.00722 \u001b[32mVLOWBMIN\u001b[0m 5.00722 \u001b[32mVLOWCMAX\u001b[0m 5.00883 \u001b[32mVLOWCMIN\u001b[0m 5.00883 \u001b[32mVSUB1MAX\u001b[0m 40.1379 \u001b[32mVSUB1MIN\u001b[0m 40.1379 \u001b[32mCHECKSUM\u001b[0m ohcaqeZZoeaaoeYW \u001b[32mDATASUM\u001b[0m 1197687411 \n",
      "\u001b[1m\u001b[32mHDU 9\u001b[0m\n",
      "\u001b[32mXTENSION\u001b[0m IMAGE \u001b[32mBITPIX\u001b[0m 16 \u001b[32mNAXIS\u001b[0m 2 \u001b[32mNAXIS1\u001b[0m 8540 \u001b[32mNAXIS2\u001b[0m 900 \u001b[32mPCOUNT\u001b[0m 0 \u001b[32mGCOUNT\u001b[0m 1 \u001b[32mBZERO\u001b[0m 32768 \u001b[32mBSCALE\u001b[0m 1 \u001b[32mBUNIT\u001b[0m adu \u001b[32mWCSAXES\u001b[0m 2 \u001b[32mTRIMSEC\u001b[0m [9:8232,1:900] \u001b[32mDATASEC\u001b[0m [9:8232,1:900] \u001b[32mDETSEC\u001b[0m [1:8224,7201:8100] \u001b[32mCCDSEC\u001b[0m [1:8224,1:900] \u001b[32mTRIMSECA\u001b[0m [4421:8532,1:900] \u001b[32mDATASECA\u001b[0m [4421:8532,1:900] \u001b[32mBIASSECA\u001b[0m [4271:4420,1:900] \u001b[32mPRESECA\u001b[0m [8533:8540,1:900] \u001b[32mPOSTSECA\u001b[0m [4421:8532,1:0] \u001b[32mTRIMSECB\u001b[0m [9:4120,1:900] \u001b[32mDATASECB\u001b[0m [9:4120,1:900] \u001b[32mBIASSECB\u001b[0m [4121:4270,1:900] \u001b[32mPRESECB\u001b[0m [1:8,1:900] \u001b[32mPOSTSECB\u001b[0m [9:4120,1:0] \u001b[32mDETECTOR\u001b[0m C44-14 \u001b[32mCCDNUM\u001b[0m 9 \u001b[32mFPA\u001b[0m CONNIE \u001b[32mOHDU\u001b[0m 10 \u001b[32mCRYOSTRD\u001b[0m 1.0 \u001b[32mEXPSTART\u001b[0m 1554961023.0 \u001b[32mEXPSTOP\u001b[0m 1554964851.0 \u001b[32mEXPTIME\u001b[0m 3828.0 \u001b[32mHTRMAX\u001b[0m 19.0 \u001b[32mHTRMIN\u001b[0m 19.0 \u001b[32mINTW\u001b[0m 400.0 \u001b[32mPRESMAX\u001b[0m 0.0 \u001b[32mPRESMIN\u001b[0m 0.0 \u001b[32mRDSTART\u001b[0m 1554964662.0 \u001b[32mRDSTOP\u001b[0m 1554964851.0 \u001b[32mRDTIME\u001b[0m 189.0 \u001b[32mRUNID\u001b[0m 6000.0 \u001b[32mSL5OFMAX\u001b[0m -4.49939 \u001b[32mSL5OFMIN\u001b[0m -4.49939 \u001b[32mTEMPMAX\u001b[0m 50.001 \u001b[32mTEMPMIN\u001b[0m 49.998 \u001b[32mVHIAMAX\u001b[0m 9.03341 \u001b[32mVHIAMIN\u001b[0m 9.03341 \u001b[32mVHIBMAX\u001b[0m 9.00447 \u001b[32mVHIBMIN\u001b[0m 9.00447 \u001b[32mVHICMAX\u001b[0m 9.00447 \u001b[32mVHICMIN\u001b[0m 9.00447 \u001b[32mVLOWAMAX\u001b[0m 4.96892 \u001b[32mVLOWAMIN\u001b[0m 4.96892 \u001b[32mVLOWBMAX\u001b[0m 5.00722 \u001b[32mVLOWBMIN\u001b[0m 5.00722 \u001b[32mVLOWCMAX\u001b[0m 5.00883 \u001b[32mVLOWCMIN\u001b[0m 5.00883 \u001b[32mVSUB1MAX\u001b[0m 40.1379 \u001b[32mVSUB1MIN\u001b[0m 40.1379 \u001b[32mCHECKSUM\u001b[0m UkUlVhRiUhRiUhRi \u001b[32mDATASUM\u001b[0m 866977485 \n",
      "\u001b[1m\u001b[32mHDU 10\u001b[0m\n",
      "\u001b[32mXTENSION\u001b[0m IMAGE \u001b[32mBITPIX\u001b[0m 16 \u001b[32mNAXIS\u001b[0m 2 \u001b[32mNAXIS1\u001b[0m 8540 \u001b[32mNAXIS2\u001b[0m 900 \u001b[32mPCOUNT\u001b[0m 0 \u001b[32mGCOUNT\u001b[0m 1 \u001b[32mBZERO\u001b[0m 32768 \u001b[32mBSCALE\u001b[0m 1 \u001b[32mBUNIT\u001b[0m adu \u001b[32mWCSAXES\u001b[0m 2 \u001b[32mTRIMSEC\u001b[0m [9:8232,1:900] \u001b[32mDATASEC\u001b[0m [9:8232,1:900] \u001b[32mDETSEC\u001b[0m [1:8224,8101:9000] \u001b[32mCCDSEC\u001b[0m [1:8224,1:900] \u001b[32mTRIMSECA\u001b[0m [4421:8532,1:900] \u001b[32mDATASECA\u001b[0m [4421:8532,1:900] \u001b[32mBIASSECA\u001b[0m [4271:4420,1:900] \u001b[32mPRESECA\u001b[0m [8533:8540,1:900] \u001b[32mPOSTSECA\u001b[0m [4421:8532,1:0] \u001b[32mTRIMSECB\u001b[0m [9:4120,1:900] \u001b[32mDATASECB\u001b[0m [9:4120,1:900] \u001b[32mBIASSECB\u001b[0m [4121:4270,1:900] \u001b[32mPRESECB\u001b[0m [1:8,1:900] \u001b[32mPOSTSECB\u001b[0m [9:4120,1:0] \u001b[32mDETECTOR\u001b[0m C44-08 \u001b[32mCCDNUM\u001b[0m 10 \u001b[32mFPA\u001b[0m CONNIE \u001b[32mOHDU\u001b[0m 11 \u001b[32mCRYOSTRD\u001b[0m 1.0 \u001b[32mEXPSTART\u001b[0m 1554961023.0 \u001b[32mEXPSTOP\u001b[0m 1554964851.0 \u001b[32mEXPTIME\u001b[0m 3828.0 \u001b[32mHTRMAX\u001b[0m 19.0 \u001b[32mHTRMIN\u001b[0m 19.0 \u001b[32mINTW\u001b[0m 400.0 \u001b[32mPRESMAX\u001b[0m 0.0 \u001b[32mPRESMIN\u001b[0m 0.0 \u001b[32mRDSTART\u001b[0m 1554964662.0 \u001b[32mRDSTOP\u001b[0m 1554964851.0 \u001b[32mRDTIME\u001b[0m 189.0 \u001b[32mRUNID\u001b[0m 6000.0 \u001b[32mSL5OFMAX\u001b[0m -4.49939 \u001b[32mSL5OFMIN\u001b[0m -4.49939 \u001b[32mTEMPMAX\u001b[0m 50.001 \u001b[32mTEMPMIN\u001b[0m 49.998 \u001b[32mVHIAMAX\u001b[0m 9.03341 \u001b[32mVHIAMIN\u001b[0m 9.03341 \u001b[32mVHIBMAX\u001b[0m 9.00447 \u001b[32mVHIBMIN\u001b[0m 9.00447 \u001b[32mVHICMAX\u001b[0m 9.00447 \u001b[32mVHICMIN\u001b[0m 9.00447 \u001b[32mVLOWAMAX\u001b[0m 4.96892 \u001b[32mVLOWAMIN\u001b[0m 4.96892 \u001b[32mVLOWBMAX\u001b[0m 5.00722 \u001b[32mVLOWBMIN\u001b[0m 5.00722 \u001b[32mVLOWCMAX\u001b[0m 5.00883 \u001b[32mVLOWCMIN\u001b[0m 5.00883 \u001b[32mVSUB1MAX\u001b[0m 40.1379 \u001b[32mVSUB1MIN\u001b[0m 40.1379 \u001b[32mCHECKSUM\u001b[0m ZFWEhDUBZDUBfDUB \u001b[32mDATASUM\u001b[0m 2627969704 \n",
      "\u001b[1m\u001b[32mHDU 11\u001b[0m\n",
      "\u001b[32mXTENSION\u001b[0m IMAGE \u001b[32mBITPIX\u001b[0m 16 \u001b[32mNAXIS\u001b[0m 2 \u001b[32mNAXIS1\u001b[0m 8540 \u001b[32mNAXIS2\u001b[0m 900 \u001b[32mPCOUNT\u001b[0m 0 \u001b[32mGCOUNT\u001b[0m 1 \u001b[32mBZERO\u001b[0m 32768 \u001b[32mBSCALE\u001b[0m 1 \u001b[32mBUNIT\u001b[0m adu \u001b[32mWCSAXES\u001b[0m 2 \u001b[32mTRIMSEC\u001b[0m [9:8232,1:900] \u001b[32mDATASEC\u001b[0m [9:8232,1:900] \u001b[32mDETSEC\u001b[0m [1:8224,9001:9900] \u001b[32mCCDSEC\u001b[0m [1:8224,1:900] \u001b[32mTRIMSECA\u001b[0m [4421:8532,1:900] \u001b[32mDATASECA\u001b[0m [4421:8532,1:900] \u001b[32mBIASSECA\u001b[0m [4271:4420,1:900] \u001b[32mPRESECA\u001b[0m [8533:8540,1:900] \u001b[32mPOSTSECA\u001b[0m [4421:8532,1:0] \u001b[32mTRIMSECB\u001b[0m [9:4120,1:900] \u001b[32mDATASECB\u001b[0m [9:4120,1:900] \u001b[32mBIASSECB\u001b[0m [4121:4270,1:900] \u001b[32mPRESECB\u001b[0m [1:8,1:900] \u001b[32mPOSTSECB\u001b[0m [9:4120,1:0] \u001b[32mDETECTOR\u001b[0m C44-10 \u001b[32mCCDNUM\u001b[0m 11 \u001b[32mFPA\u001b[0m CONNIE \u001b[32mOHDU\u001b[0m 12 \u001b[32mCRYOSTRD\u001b[0m 1.0 \u001b[32mEXPSTART\u001b[0m 1554961023.0 \u001b[32mEXPSTOP\u001b[0m 1554964851.0 \u001b[32mEXPTIME\u001b[0m 3828.0 \u001b[32mHTRMAX\u001b[0m 19.0 \u001b[32mHTRMIN\u001b[0m 19.0 \u001b[32mINTW\u001b[0m 400.0 \u001b[32mPRESMAX\u001b[0m 0.0 \u001b[32mPRESMIN\u001b[0m 0.0 \u001b[32mRDSTART\u001b[0m 1554964662.0 \u001b[32mRDSTOP\u001b[0m 1554964851.0 \u001b[32mRDTIME\u001b[0m 189.0 \u001b[32mRUNID\u001b[0m 6000.0 \u001b[32mSL5OFMAX\u001b[0m -4.49939 \u001b[32mSL5OFMIN\u001b[0m -4.49939 \u001b[32mTEMPMAX\u001b[0m 50.001 \u001b[32mTEMPMIN\u001b[0m 49.998 \u001b[32mVHIAMAX\u001b[0m 9.03341 \u001b[32mVHIAMIN\u001b[0m 9.03341 \u001b[32mVHIBMAX\u001b[0m 9.00447 \u001b[32mVHIBMIN\u001b[0m 9.00447 \u001b[32mVHICMAX\u001b[0m 9.00447 \u001b[32mVHICMIN\u001b[0m 9.00447 \u001b[32mVLOWAMAX\u001b[0m 4.96892 \u001b[32mVLOWAMIN\u001b[0m 4.96892 \u001b[32mVLOWBMAX\u001b[0m 5.00722 \u001b[32mVLOWBMIN\u001b[0m 5.00722 \u001b[32mVLOWCMAX\u001b[0m 5.00883 \u001b[32mVLOWCMIN\u001b[0m 5.00883 \u001b[32mVSUB1MAX\u001b[0m 40.1379 \u001b[32mVSUB1MIN\u001b[0m 40.1379 \u001b[32mCHECKSUM\u001b[0m RNW7RLU7RLU7RLU7 \u001b[32mDATASUM\u001b[0m 2224017128 \n",
      "\u001b[1m\u001b[32mHDU 12\u001b[0m\n",
      "\u001b[32mXTENSION\u001b[0m IMAGE \u001b[32mBITPIX\u001b[0m 16 \u001b[32mNAXIS\u001b[0m 2 \u001b[32mNAXIS1\u001b[0m 8540 \u001b[32mNAXIS2\u001b[0m 900 \u001b[32mPCOUNT\u001b[0m 0 \u001b[32mGCOUNT\u001b[0m 1 \u001b[32mBZERO\u001b[0m 32768 \u001b[32mBSCALE\u001b[0m 1 \u001b[32mBUNIT\u001b[0m adu \u001b[32mWCSAXES\u001b[0m 2 \u001b[32mTRIMSEC\u001b[0m [9:8232,1:900] \u001b[32mDATASEC\u001b[0m [9:8232,1:900] \u001b[32mDETSEC\u001b[0m [1:8224,9901:10800] \u001b[32mCCDSEC\u001b[0m [1:8224,1:900] \u001b[32mTRIMSECA\u001b[0m [4421:8532,1:900] \u001b[32mDATASECA\u001b[0m [4421:8532,1:900] \u001b[32mBIASSECA\u001b[0m [4271:4420,1:900] \u001b[32mPRESECA\u001b[0m [8533:8540,1:900] \u001b[32mPOSTSECA\u001b[0m [4421:8532,1:0] \u001b[32mTRIMSECB\u001b[0m [9:4120,1:900] \u001b[32mDATASECB\u001b[0m [9:4120,1:900] \u001b[32mBIASSECB\u001b[0m [4121:4270,1:900] \u001b[32mPRESECB\u001b[0m [1:8,1:900] \u001b[32mPOSTSECB\u001b[0m [9:4120,1:0] \u001b[32mDETECTOR\u001b[0m C44-11 \u001b[32mCCDNUM\u001b[0m 12 \u001b[32mFPA\u001b[0m CONNIE \u001b[32mOHDU\u001b[0m 13 \u001b[32mCRYOSTRD\u001b[0m 1.0 \u001b[32mEXPSTART\u001b[0m 1554961023.0 \u001b[32mEXPSTOP\u001b[0m 1554964851.0 \u001b[32mEXPTIME\u001b[0m 3828.0 \u001b[32mHTRMAX\u001b[0m 19.0 \u001b[32mHTRMIN\u001b[0m 19.0 \u001b[32mINTW\u001b[0m 400.0 \u001b[32mPRESMAX\u001b[0m 0.0 \u001b[32mPRESMIN\u001b[0m 0.0 \u001b[32mRDSTART\u001b[0m 1554964662.0 \u001b[32mRDSTOP\u001b[0m 1554964851.0 \u001b[32mRDTIME\u001b[0m 189.0 \u001b[32mRUNID\u001b[0m 6000.0 \u001b[32mSL5OFMAX\u001b[0m -4.49939 \u001b[32mSL5OFMIN\u001b[0m -4.49939 \u001b[32mTEMPMAX\u001b[0m 50.001 \u001b[32mTEMPMIN\u001b[0m 49.998 \u001b[32mVHIAMAX\u001b[0m 9.03341 \u001b[32mVHIAMIN\u001b[0m 9.03341 \u001b[32mVHIBMAX\u001b[0m 9.00447 \u001b[32mVHIBMIN\u001b[0m 9.00447 \u001b[32mVHICMAX\u001b[0m 9.00447 \u001b[32mVHICMIN\u001b[0m 9.00447 \u001b[32mVLOWAMAX\u001b[0m 4.96892 \u001b[32mVLOWAMIN\u001b[0m 4.96892 \u001b[32mVLOWBMAX\u001b[0m 5.00722 \u001b[32mVLOWBMIN\u001b[0m 5.00722 \u001b[32mVLOWCMAX\u001b[0m 5.00883 \u001b[32mVLOWCMIN\u001b[0m 5.00883 \u001b[32mVSUB1MAX\u001b[0m 40.1379 \u001b[32mVSUB1MIN\u001b[0m 40.1379 \u001b[32mCHECKSUM\u001b[0m KPbENPZ9KPbEKPZ9 \u001b[32mDATASUM\u001b[0m 2830444548 \n",
      "\u001b[1m\u001b[32mHDU 13\u001b[0m\n",
      "\u001b[32mXTENSION\u001b[0m IMAGE \u001b[32mBITPIX\u001b[0m 16 \u001b[32mNAXIS\u001b[0m 2 \u001b[32mNAXIS1\u001b[0m 8540 \u001b[32mNAXIS2\u001b[0m 900 \u001b[32mPCOUNT\u001b[0m 0 \u001b[32mGCOUNT\u001b[0m 1 \u001b[32mBZERO\u001b[0m 32768 \u001b[32mBSCALE\u001b[0m 1 \u001b[32mBUNIT\u001b[0m adu \u001b[32mWCSAXES\u001b[0m 2 \u001b[32mTRIMSEC\u001b[0m [9:8232,1:900] \u001b[32mDATASEC\u001b[0m [9:8232,1:900] \u001b[32mDETSEC\u001b[0m [1:8224,10801:11700] \u001b[32mCCDSEC\u001b[0m [1:8224,1:900] \u001b[32mTRIMSECA\u001b[0m [4421:8532,1:900] \u001b[32mDATASECA\u001b[0m [4421:8532,1:900] \u001b[32mBIASSECA\u001b[0m [4271:4420,1:900] \u001b[32mPRESECA\u001b[0m [8533:8540,1:900] \u001b[32mPOSTSECA\u001b[0m [4421:8532,1:0] \u001b[32mTRIMSECB\u001b[0m [9:4120,1:900] \u001b[32mDATASECB\u001b[0m [9:4120,1:900] \u001b[32mBIASSECB\u001b[0m [4121:4270,1:900] \u001b[32mPRESECB\u001b[0m [1:8,1:900] \u001b[32mPOSTSECB\u001b[0m [9:4120,1:0] \u001b[32mDETECTOR\u001b[0m C44-20 \u001b[32mCCDNUM\u001b[0m 13 \u001b[32mFPA\u001b[0m CONNIE \u001b[32mOHDU\u001b[0m 14 \u001b[32mCRYOSTRD\u001b[0m 1.0 \u001b[32mEXPSTART\u001b[0m 1554961023.0 \u001b[32mEXPSTOP\u001b[0m 1554964851.0 \u001b[32mEXPTIME\u001b[0m 3828.0 \u001b[32mHTRMAX\u001b[0m 19.0 \u001b[32mHTRMIN\u001b[0m 19.0 \u001b[32mINTW\u001b[0m 400.0 \u001b[32mPRESMAX\u001b[0m 0.0 \u001b[32mPRESMIN\u001b[0m 0.0 \u001b[32mRDSTART\u001b[0m 1554964662.0 \u001b[32mRDSTOP\u001b[0m 1554964851.0 \u001b[32mRDTIME\u001b[0m 189.0 \u001b[32mRUNID\u001b[0m 6000.0 \u001b[32mSL5OFMAX\u001b[0m -4.49939 \u001b[32mSL5OFMIN\u001b[0m -4.49939 \u001b[32mTEMPMAX\u001b[0m 50.001 \u001b[32mTEMPMIN\u001b[0m 49.998 \u001b[32mVHIAMAX\u001b[0m 9.03341 \u001b[32mVHIAMIN\u001b[0m 9.03341 \u001b[32mVHIBMAX\u001b[0m 9.00447 \u001b[32mVHIBMIN\u001b[0m 9.00447 \u001b[32mVHICMAX\u001b[0m 9.00447 \u001b[32mVHICMIN\u001b[0m 9.00447 \u001b[32mVLOWAMAX\u001b[0m 4.96892 \u001b[32mVLOWAMIN\u001b[0m 4.96892 \u001b[32mVLOWBMAX\u001b[0m 5.00722 \u001b[32mVLOWBMIN\u001b[0m 5.00722 \u001b[32mVLOWCMAX\u001b[0m 5.00883 \u001b[32mVLOWCMIN\u001b[0m 5.00883 \u001b[32mVSUB1MAX\u001b[0m 40.1379 \u001b[32mVSUB1MIN\u001b[0m 40.1379 \u001b[32mCHECKSUM\u001b[0m 7Mab8LUa7Laa7LUa \u001b[32mDATASUM\u001b[0m 3522223572 \n",
      "\u001b[1m\u001b[32mHDU 14\u001b[0m\n",
      "\u001b[32mXTENSION\u001b[0m IMAGE \u001b[32mBITPIX\u001b[0m 16 \u001b[32mNAXIS\u001b[0m 2 \u001b[32mNAXIS1\u001b[0m 8540 \u001b[32mNAXIS2\u001b[0m 900 \u001b[32mPCOUNT\u001b[0m 0 \u001b[32mGCOUNT\u001b[0m 1 \u001b[32mBZERO\u001b[0m 32768 \u001b[32mBSCALE\u001b[0m 1 \u001b[32mBUNIT\u001b[0m adu \u001b[32mWCSAXES\u001b[0m 2 \u001b[32mTRIMSEC\u001b[0m [9:8232,1:900] \u001b[32mDATASEC\u001b[0m [9:8232,1:900] \u001b[32mDETSEC\u001b[0m [1:8224,11701:12600] \u001b[32mCCDSEC\u001b[0m [1:8224,1:900] \u001b[32mTRIMSECA\u001b[0m [4421:8532,1:900] \u001b[32mDATASECA\u001b[0m [4421:8532,1:900] \u001b[32mBIASSECA\u001b[0m [4271:4420,1:900] \u001b[32mPRESECA\u001b[0m [8533:8540,1:900] \u001b[32mPOSTSECA\u001b[0m [4421:8532,1:0] \u001b[32mTRIMSECB\u001b[0m [9:4120,1:900] \u001b[32mDATASECB\u001b[0m [9:4120,1:900] \u001b[32mBIASSECB\u001b[0m [4121:4270,1:900] \u001b[32mPRESECB\u001b[0m [1:8,1:900] \u001b[32mPOSTSECB\u001b[0m [9:4120,1:0] \u001b[32mDETECTOR\u001b[0m C44-21 \u001b[32mCCDNUM\u001b[0m 14 \u001b[32mFPA\u001b[0m CONNIE \u001b[32mOHDU\u001b[0m 15 \u001b[32mCRYOSTRD\u001b[0m 1.0 \u001b[32mEXPSTART\u001b[0m 1554961023.0 \u001b[32mEXPSTOP\u001b[0m 1554964851.0 \u001b[32mEXPTIME\u001b[0m 3828.0 \u001b[32mHTRMAX\u001b[0m 19.0 \u001b[32mHTRMIN\u001b[0m 19.0 \u001b[32mINTW\u001b[0m 400.0 \u001b[32mPRESMAX\u001b[0m 0.0 \u001b[32mPRESMIN\u001b[0m 0.0 \u001b[32mRDSTART\u001b[0m 1554964662.0 \u001b[32mRDSTOP\u001b[0m 1554964851.0 \u001b[32mRDTIME\u001b[0m 189.0 \u001b[32mRUNID\u001b[0m 6000.0 \u001b[32mSL5OFMAX\u001b[0m -4.49939 \u001b[32mSL5OFMIN\u001b[0m -4.49939 \u001b[32mTEMPMAX\u001b[0m 50.001 \u001b[32mTEMPMIN\u001b[0m 49.998 \u001b[32mVHIAMAX\u001b[0m 9.03341 \u001b[32mVHIAMIN\u001b[0m 9.03341 \u001b[32mVHIBMAX\u001b[0m 9.00447 \u001b[32mVHIBMIN\u001b[0m 9.00447 \u001b[32mVHICMAX\u001b[0m 9.00447 \u001b[32mVHICMIN\u001b[0m 9.00447 \u001b[32mVLOWAMAX\u001b[0m 4.96892 \u001b[32mVLOWAMIN\u001b[0m 4.96892 \u001b[32mVLOWBMAX\u001b[0m 5.00722 \u001b[32mVLOWBMIN\u001b[0m 5.00722 \u001b[32mVLOWCMAX\u001b[0m 5.00883 \u001b[32mVLOWCMIN\u001b[0m 5.00883 \u001b[32mVSUB1MAX\u001b[0m 40.1379 \u001b[32mVSUB1MIN\u001b[0m 40.1379 \u001b[32mCHECKSUM\u001b[0m UAWma7TkVATka7Tk \u001b[32mDATASUM\u001b[0m 286046281 \n",
      "finished \u001b[32m0s388ms\u001b[0m\n",
      "finished \u001b[32m0s388ms\u001b[0m\n"
     ]
    },
    {
     "name": "stderr",
     "output_type": "stream",
     "text": [
      "stty: standard input: Inappropriate ioctl for device\n"
     ]
    }
   ],
   "source": [
    "%%bash\n",
    "module load softwares/python/2.7-gnu-5.3;\n",
    "./image header \"rawfits(6000)\""
   ]
  },
  {
   "cell_type": "code",
   "execution_count": 2,
   "metadata": {},
   "outputs": [],
   "source": [
    "import argparse"
   ]
  },
  {
   "cell_type": "code",
   "execution_count": 9,
   "metadata": {},
   "outputs": [
    {
     "name": "stdout",
     "output_type": "stream",
     "text": [
      "Help on class Namespace in module argparse:\n",
      "\n",
      "class Namespace(_AttributeHolder)\n",
      " |  Simple object for storing attributes.\n",
      " |  \n",
      " |  Implements equality by attribute names and values, and provides a simple\n",
      " |  string representation.\n",
      " |  \n",
      " |  Method resolution order:\n",
      " |      Namespace\n",
      " |      _AttributeHolder\n",
      " |      builtins.object\n",
      " |  \n",
      " |  Methods defined here:\n",
      " |  \n",
      " |  __contains__(self, key)\n",
      " |  \n",
      " |  __eq__(self, other)\n",
      " |      Return self==value.\n",
      " |  \n",
      " |  __init__(self, **kwargs)\n",
      " |      Initialize self.  See help(type(self)) for accurate signature.\n",
      " |  \n",
      " |  ----------------------------------------------------------------------\n",
      " |  Data and other attributes defined here:\n",
      " |  \n",
      " |  __hash__ = None\n",
      " |  \n",
      " |  ----------------------------------------------------------------------\n",
      " |  Methods inherited from _AttributeHolder:\n",
      " |  \n",
      " |  __repr__(self)\n",
      " |      Return repr(self).\n",
      " |  \n",
      " |  ----------------------------------------------------------------------\n",
      " |  Data descriptors inherited from _AttributeHolder:\n",
      " |  \n",
      " |  __dict__\n",
      " |      dictionary for instance variables (if defined)\n",
      " |  \n",
      " |  __weakref__\n",
      " |      list of weak references to the object (if defined)\n",
      "\n"
     ]
    }
   ],
   "source": [
    "a = argparse.Namespace()\n",
    "help(type(a))"
   ]
  },
  {
   "cell_type": "code",
   "execution_count": 4,
   "metadata": {},
   "outputs": [
    {
     "ename": "TypeError",
     "evalue": "__init__() takes 1 positional argument but 2 were given",
     "output_type": "error",
     "traceback": [
      "\u001b[0;31m---------------------------------------------------------------------------\u001b[0m",
      "\u001b[0;31mTypeError\u001b[0m                                 Traceback (most recent call last)",
      "\u001b[0;32m<ipython-input-4-16ceb9576b96>\u001b[0m in \u001b[0;36m<module>\u001b[0;34m\u001b[0m\n\u001b[0;32m----> 1\u001b[0;31m \u001b[0margparse\u001b[0m\u001b[0;34m.\u001b[0m\u001b[0mNamespace\u001b[0m\u001b[0;34m(\u001b[0m\u001b[0;34m{\u001b[0m\u001b[0;34m'a'\u001b[0m\u001b[0;34m:\u001b[0m\u001b[0;36m1\u001b[0m\u001b[0;34m,\u001b[0m \u001b[0;34m'list'\u001b[0m\u001b[0;34m:\u001b[0m\u001b[0;34m[\u001b[0m\u001b[0;36m3\u001b[0m\u001b[0;34m,\u001b[0m\u001b[0;36m4\u001b[0m\u001b[0;34m,\u001b[0m\u001b[0;36m5\u001b[0m\u001b[0;34m]\u001b[0m\u001b[0;34m}\u001b[0m\u001b[0;34m)\u001b[0m\u001b[0;34m\u001b[0m\u001b[0m\n\u001b[0m",
      "\u001b[0;31mTypeError\u001b[0m: __init__() takes 1 positional argument but 2 were given"
     ]
    }
   ],
   "source": [
    "argparse.Namespace({'a':1, 'list':[3,4,5]})"
   ]
  },
  {
   "cell_type": "code",
   "execution_count": null,
   "metadata": {},
   "outputs": [],
   "source": []
  }
 ],
 "metadata": {
  "kernelspec": {
   "display_name": "Python 3",
   "language": "python",
   "name": "python3"
  },
  "language_info": {
   "codemirror_mode": {
    "name": "ipython",
    "version": 3
   },
   "file_extension": ".py",
   "mimetype": "text/x-python",
   "name": "python",
   "nbconvert_exporter": "python",
   "pygments_lexer": "ipython3",
   "version": "3.6.3"
  }
 },
 "nbformat": 4,
 "nbformat_minor": 4
}
