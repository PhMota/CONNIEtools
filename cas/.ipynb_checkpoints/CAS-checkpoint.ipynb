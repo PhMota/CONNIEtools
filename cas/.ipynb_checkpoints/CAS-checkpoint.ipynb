{
 "cells": [
  {
   "cell_type": "code",
   "execution_count": 1,
   "metadata": {},
   "outputs": [],
   "source": [
    "from IPython.display import display, Markdown, Latex, Math\n",
    "from cas.utils import pprint, eprint, delim\n",
    "from cas.rule import RuleList, Rule\n",
    "from cas.operable import Operable, _instances\n",
    "from cas.symbol import Symbol\n",
    "from cas.number import Number\n",
    "from cas.indexed import Indexed\n",
    "from cas.expr import Expr\n",
    "from cas.neg import Neg"
   ]
  },
  {
   "cell_type": "code",
   "execution_count": 2,
   "metadata": {},
   "outputs": [],
   "source": [
    "import sys\n",
    "# from functools import *\n",
    "\n",
    "# def attr(s):\n",
    "#     return lambda x: getattr(x, s)\n",
    "\n",
    "# def get_index(l, val):\n",
    "#     try:\n",
    "#         return l.index(val)\n",
    "#     except ValueError:\n",
    "#         return len(l)+1\n"
   ]
  },
  {
   "cell_type": "code",
   "execution_count": 3,
   "metadata": {},
   "outputs": [
    {
     "data": {
      "text/latex": [
       "$\\displaystyle r$"
      ],
      "text/plain": [
       "<IPython.core.display.Math object>"
      ]
     },
     "metadata": {},
     "output_type": "display_data"
    },
    {
     "name": "stdout",
     "output_type": "stream",
     "text": [
      "True\n",
      "True\n"
     ]
    },
    {
     "data": {
      "text/plain": [
       "18"
      ]
     },
     "execution_count": 3,
     "metadata": {},
     "output_type": "execute_result"
    }
   ],
   "source": [
    "r = Symbol('r')\n",
    "pprint( r )\n",
    "r2 = Symbol('r')\n",
    "print( r == r2 )\n",
    "print( r is r2 )\n",
    "sum([*[1,2,3],*[3,4,5]])"
   ]
  },
  {
   "cell_type": "code",
   "execution_count": 4,
   "metadata": {},
   "outputs": [
    {
     "data": {
      "text/plain": [
       "{6166227541478819212: Symbol('{\\\\infty}'),\n",
       " -4890186202587827608: Number('0'),\n",
       " 8211175260550989159: Number('1'),\n",
       " -5069707416563205238: Symbol('r'),\n",
       " -3481673582664865864: Symbol('f')}"
      ]
     },
     "execution_count": 4,
     "metadata": {},
     "output_type": "execute_result"
    }
   ],
   "source": [
    "_instances\n",
    "f = Symbol('f')\n",
    "_instances"
   ]
  },
  {
   "cell_type": "code",
   "execution_count": 5,
   "metadata": {},
   "outputs": [
    {
     "ename": "NameError",
     "evalue": "name 'sys' is not defined",
     "output_type": "error",
     "traceback": [
      "\u001b[0;31m---------------------------------------------------------------------------\u001b[0m",
      "\u001b[0;31mNameError\u001b[0m                                 Traceback (most recent call last)",
      "\u001b[0;32m<ipython-input-5-5172074aded0>\u001b[0m in \u001b[0;36m<module>\u001b[0;34m\u001b[0m\n\u001b[1;32m      1\u001b[0m \u001b[0;32mfor\u001b[0m \u001b[0m_\u001b[0m\u001b[0;34m,\u001b[0m \u001b[0ms\u001b[0m \u001b[0;32min\u001b[0m \u001b[0m_instances\u001b[0m\u001b[0;34m.\u001b[0m\u001b[0mitems\u001b[0m\u001b[0;34m(\u001b[0m\u001b[0;34m)\u001b[0m\u001b[0;34m:\u001b[0m\u001b[0;34m\u001b[0m\u001b[0m\n\u001b[0;32m----> 2\u001b[0;31m     \u001b[0mprint\u001b[0m\u001b[0;34m(\u001b[0m \u001b[0ms\u001b[0m\u001b[0;34m,\u001b[0m \u001b[0mrepr\u001b[0m\u001b[0;34m(\u001b[0m\u001b[0ms\u001b[0m\u001b[0;34m)\u001b[0m\u001b[0;34m,\u001b[0m \u001b[0msys\u001b[0m\u001b[0;34m.\u001b[0m\u001b[0mgetrefcount\u001b[0m\u001b[0;34m(\u001b[0m\u001b[0ms\u001b[0m\u001b[0;34m)\u001b[0m \u001b[0;34m)\u001b[0m\u001b[0;34m\u001b[0m\u001b[0m\n\u001b[0m",
      "\u001b[0;31mNameError\u001b[0m: name 'sys' is not defined"
     ]
    }
   ],
   "source": [
    "for _, s in _instances.items():\n",
    "    print( s, repr(s), sys.getrefcount(s) )"
   ]
  },
  {
   "cell_type": "code",
   "execution_count": null,
   "metadata": {},
   "outputs": [],
   "source": [
    "Zero = Number(0)\n",
    "Zero"
   ]
  },
  {
   "cell_type": "code",
   "execution_count": null,
   "metadata": {},
   "outputs": [],
   "source": [
    "Number(-1), Number(-2), Number(-3)"
   ]
  },
  {
   "cell_type": "code",
   "execution_count": null,
   "metadata": {},
   "outputs": [],
   "source": [
    "r = Symbol('r')\n",
    "a = Symbol('a')\n",
    "pprint( r[a] )"
   ]
  },
  {
   "cell_type": "code",
   "execution_count": null,
   "metadata": {},
   "outputs": [],
   "source": [
    "eprint( -(-r) )"
   ]
  },
  {
   "cell_type": "code",
   "execution_count": null,
   "metadata": {},
   "outputs": [],
   "source": [
    "eprint( r-r )"
   ]
  },
  {
   "cell_type": "code",
   "execution_count": null,
   "metadata": {},
   "outputs": [],
   "source": [
    "expr = r + r + 0 + 1 + r + (-r) - r + 3 - 2*r -5\n",
    "eprint( expr, verbose=True )"
   ]
  },
  {
   "cell_type": "code",
   "execution_count": null,
   "metadata": {},
   "outputs": [],
   "source": [
    "x = Symbol('x')\n",
    "y = Symbol('y')\n",
    "r.rules.append( Rule(\n",
    "    'definition',\n",
    "    lambda obj: True,\n",
    "    lambda obj, v: x+y\n",
    "    )\n",
    ")\n",
    "eprint( r )"
   ]
  },
  {
   "cell_type": "code",
   "execution_count": null,
   "metadata": {},
   "outputs": [],
   "source": [
    "r = Symbol('r')\n",
    "p = Symbol('p')\n",
    "pprint( p )\n",
    "eprint( r*p*r*p*p + 1 + p*r**2*p*p )"
   ]
  },
  {
   "cell_type": "code",
   "execution_count": null,
   "metadata": {},
   "outputs": [],
   "source": [
    "n = Symbol('n')\n",
    "eprint( r**n * r )"
   ]
  },
  {
   "cell_type": "code",
   "execution_count": null,
   "metadata": {},
   "outputs": [],
   "source": [
    "eprint( n**r * n**p )"
   ]
  },
  {
   "cell_type": "code",
   "execution_count": null,
   "metadata": {},
   "outputs": [],
   "source": [
    "from cas.add import Add\n",
    "from cas.mul import Mul\n",
    "from cas.pow import Pow\n",
    "\n",
    "m = Symbol('m')\n",
    "rule = Rule(\n",
    "    'y+p -> m',\n",
    "    lambda obj: isinstance(obj, Add) and y in obj.args and p in obj.args,\n",
    "    lambda obj, v: Add(m, *[ arg for arg in obj.args if not arg == y and not arg == p])\n",
    ")\n",
    "Add.rules.append(rule)\n",
    "eprint( p+y )\n",
    "eprint( n**r * n**p )"
   ]
  },
  {
   "cell_type": "code",
   "execution_count": null,
   "metadata": {},
   "outputs": [],
   "source": [
    "from cas.symbol import Symbol\n",
    "from cas.appliedfunction import AppliedFunction\n",
    "from cas.appliedindexedfunction import AppliedIndexedFunction\n",
    "from cas.kroneckerdelta import KroneckerDelta\n",
    "from cas.diracdelta import DiracDelta\n",
    "from cas.summation import Summation\n",
    "from cas.derivative import Derivative"
   ]
  },
  {
   "cell_type": "code",
   "execution_count": null,
   "metadata": {},
   "outputs": [],
   "source": [
    "g = Symbol('g')\n",
    "eprint( Derivative(g(x**3,y**3)**2, x), verbose=False )"
   ]
  },
  {
   "cell_type": "code",
   "execution_count": null,
   "metadata": {},
   "outputs": [],
   "source": [
    "eprint( Derivative( r + 3*p + 1/p, r ), verbose=True )"
   ]
  },
  {
   "cell_type": "code",
   "execution_count": null,
   "metadata": {},
   "outputs": [],
   "source": [
    "eprint(a + 4 + 5)\n",
    "eprint( a*4*9 )"
   ]
  },
  {
   "cell_type": "code",
   "execution_count": null,
   "metadata": {},
   "outputs": [],
   "source": [
    "f(p) << p**4\n",
    "print( repr(p**2) )\n",
    "pprint( f(p) )\n",
    "eprint( f(p) )\n",
    "eprint( f(r) )\n"
   ]
  },
  {
   "cell_type": "code",
   "execution_count": null,
   "metadata": {},
   "outputs": [],
   "source": [
    "eprint( f(p**2) )"
   ]
  },
  {
   "cell_type": "code",
   "execution_count": null,
   "metadata": {},
   "outputs": [],
   "source": [
    "g = Symbol('g')\n",
    "eprint( Derivative( g(x), x ) )"
   ]
  },
  {
   "cell_type": "code",
   "execution_count": null,
   "metadata": {},
   "outputs": [],
   "source": [
    "N = Symbol('N')\n",
    "eprint( Summation( x+y+3*a, a, 0, N ) )\n",
    "eprint( Summation( x+2*y+r[a], a, 0, N ) )\n",
    "eprint( Summation( 2*x, a, 0, N ), verbose=True )"
   ]
  },
  {
   "cell_type": "code",
   "execution_count": null,
   "metadata": {},
   "outputs": [],
   "source": [
    "W = Symbol('W')\n",
    "t = Symbol('t')\n",
    "eprint( Derivative( Summation( W(x-r[a] ), a, 0, N ), x), verbose=False )"
   ]
  },
  {
   "cell_type": "code",
   "execution_count": null,
   "metadata": {},
   "outputs": [],
   "source": [
    "b = Symbol('b')\n",
    "eprint( Derivative( Summation( W(x-r[a] ), a, 0, N ), r[b] ), verbose=False )"
   ]
  },
  {
   "cell_type": "code",
   "execution_count": null,
   "metadata": {},
   "outputs": [],
   "source": [
    "t2 = Symbol(r't^{\\prime}')\n",
    "DiracDelta.rules.append(\n",
    "    'DiracDelta rule 2',\n",
    "    lambda obj: obj.args[0] == Number(0),\n",
    "    lambda obj, v: Number(1)\n",
    ")\n",
    "eprint( Derivative( Summation( W(x-r[a](t) ), a, 0, N ), r[b](t) ), verbose=False )"
   ]
  },
  {
   "cell_type": "code",
   "execution_count": null,
   "metadata": {},
   "outputs": [],
   "source": [
    "rho_a = Summation( W(r[a](t) - r[b](t)), b, 0, N )\n",
    "epsilon = Symbol(r'{\\varepsilon}')\n",
    "c = Symbol('c')\n",
    "eprint( Derivative( Summation( epsilon( rho_a )/rho_a, a, 0, N ), r[c](t) ) )"
   ]
  },
  {
   "cell_type": "code",
   "execution_count": null,
   "metadata": {},
   "outputs": [],
   "source": [
    "rho = Symbol(r'{\\rho}')\n",
    "eprint( Derivative( Summation( epsilon( rho[a] )/rho[a], a, 0, N ), r[c](t) ) )"
   ]
  },
  {
   "cell_type": "code",
   "execution_count": null,
   "metadata": {},
   "outputs": [],
   "source": []
  }
 ],
 "metadata": {
  "kernelspec": {
   "display_name": "Python 3",
   "language": "python",
   "name": "python3"
  },
  "language_info": {
   "codemirror_mode": {
    "name": "ipython",
    "version": 3
   },
   "file_extension": ".py",
   "mimetype": "text/x-python",
   "name": "python",
   "nbconvert_exporter": "python",
   "pygments_lexer": "ipython3",
   "version": "3.6.3"
  },
  "toc-autonumbering": false,
  "toc-showmarkdowntxt": false
 },
 "nbformat": 4,
 "nbformat_minor": 4
}
