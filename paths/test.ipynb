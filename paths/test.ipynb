{
 "cells": [
  {
   "cell_type": "code",
   "execution_count": 1,
   "metadata": {},
   "outputs": [],
   "source": [
    "import paths"
   ]
  },
  {
   "cell_type": "code",
   "execution_count": 2,
   "metadata": {},
   "outputs": [
    {
     "data": {
      "text/plain": [
       "['__builtins__',\n",
       " '__cached__',\n",
       " '__doc__',\n",
       " '__file__',\n",
       " '__loader__',\n",
       " '__name__',\n",
       " '__package__',\n",
       " '__spec__',\n",
       " 'debug',\n",
       " 'glob',\n",
       " 'rawfits',\n",
       " 'scnfits']"
      ]
     },
     "execution_count": 2,
     "metadata": {},
     "output_type": "execute_result"
    }
   ],
   "source": [
    "dir(paths)"
   ]
  },
  {
   "cell_type": "code",
   "execution_count": 3,
   "metadata": {},
   "outputs": [
    {
     "name": "stdout",
     "output_type": "stream",
     "text": [
      "/share/storage2/connie/data/runs/*/runID_*_06031_*p1.fits.fz\n"
     ]
    },
    {
     "data": {
      "text/plain": [
       "['/share/storage2/connie/data/runs/042/runID_042_06031_Int-400_Exp-3600_12Apr19_15:01_to_12Apr19_16:05_p1.fits.fz']"
      ]
     },
     "execution_count": 3,
     "metadata": {},
     "output_type": "execute_result"
    }
   ],
   "source": [
    "paths.rawfits(6031)"
   ]
  },
  {
   "cell_type": "code",
   "execution_count": 4,
   "metadata": {},
   "outputs": [
    {
     "name": "stdout",
     "output_type": "stream",
     "text": [
      "/share/storage2/connie/data_analysis/processed02_data/runs/*/data_*/scn/images/scn_mbs_osi_runID_*_06031_Int*_p1.fits\n"
     ]
    },
    {
     "data": {
      "text/plain": [
       "['/share/storage2/connie/data_analysis/processed02_data/runs/042A/data_6031_to_6233/scn/images/scn_mbs_osi_runID_042_06031_Int-400_Exp-3600_12Apr19_15:01_to_12Apr19_16:05_p1.fits']"
      ]
     },
     "execution_count": 4,
     "metadata": {},
     "output_type": "execute_result"
    }
   ],
   "source": [
    "paths.scnfits(6031)"
   ]
  }
 ],
 "metadata": {
  "kernelspec": {
   "display_name": "Python 3",
   "language": "python",
   "name": "python3"
  },
  "language_info": {
   "codemirror_mode": {
    "name": "ipython",
    "version": 3
   },
   "file_extension": ".py",
   "mimetype": "text/x-python",
   "name": "python",
   "nbconvert_exporter": "python",
   "pygments_lexer": "ipython3",
   "version": "3.6.3"
  }
 },
 "nbformat": 4,
 "nbformat_minor": 4
}
