{
 "cells": [
  {
   "cell_type": "markdown",
   "metadata": {},
   "source": [
    "# prints the status of the git repository"
   ]
  },
  {
   "cell_type": "code",
   "execution_count": 23,
   "metadata": {},
   "outputs": [
    {
     "name": "stdout",
     "output_type": "stream",
     "text": [
      "# On branch master\n",
      "# Changes not staged for commit:\n",
      "#   (use \"git add <file>...\" to update what will be committed)\n",
      "#   (use \"git checkout -- <file>...\" to discard changes in working directory)\n",
      "#\n",
      "#\tmodified:   .gitignore\n",
      "#\tmodified:   git.ipynb\n",
      "#\n",
      "# Untracked files:\n",
      "#   (use \"git add <file>...\" to include in what will be committed)\n",
      "#\n",
      "#\tUntitled.ipynb\n",
      "#\tUntitled1.ipynb\n",
      "#\tUntitled2.ipynb\n",
      "#\timage_processing.ipynb\n",
      "#\tionSpectrumG.csv\n",
      "#\tmergeSimCat.cc\n",
      "#\tvFlux.csv\n",
      "#\twave_function_animation.ipynb\n",
      "no changes added to commit (use \"git add\" and/or \"git commit -a\")\n"
     ]
    }
   ],
   "source": [
    "!git status"
   ]
  },
  {
   "cell_type": "markdown",
   "metadata": {},
   "source": [
    "# add files to repository"
   ]
  },
  {
   "cell_type": "code",
   "execution_count": 9,
   "metadata": {},
   "outputs": [],
   "source": [
    "!git add cas"
   ]
  },
  {
   "cell_type": "markdown",
   "metadata": {},
   "source": [
    "# remove files from repository"
   ]
  },
  {
   "cell_type": "code",
   "execution_count": 15,
   "metadata": {},
   "outputs": [
    {
     "name": "stdout",
     "output_type": "stream",
     "text": [
      "rm 'cas/.ipynb_checkpoints/__init__-checkpoint.py'\n",
      "rm 'cas/.ipynb_checkpoints/add-checkpoint.py'\n",
      "rm 'cas/.ipynb_checkpoints/appliedfunction-checkpoint.py'\n",
      "rm 'cas/.ipynb_checkpoints/appliedindexedfunction-checkpoint.py'\n",
      "rm 'cas/.ipynb_checkpoints/derivative-checkpoint.py'\n",
      "rm 'cas/.ipynb_checkpoints/diracdelta-checkpoint.py'\n",
      "rm 'cas/.ipynb_checkpoints/expr-checkpoint.py'\n",
      "rm 'cas/.ipynb_checkpoints/indexed-checkpoint.py'\n",
      "rm 'cas/.ipynb_checkpoints/kroneckerdelta-checkpoint.py'\n",
      "rm 'cas/.ipynb_checkpoints/mul-checkpoint.py'\n",
      "rm 'cas/.ipynb_checkpoints/neg-checkpoint.py'\n",
      "rm 'cas/.ipynb_checkpoints/number-checkpoint.py'\n",
      "rm 'cas/.ipynb_checkpoints/operable-checkpoint.py'\n",
      "rm 'cas/.ipynb_checkpoints/pow-checkpoint.py'\n",
      "rm 'cas/.ipynb_checkpoints/rule-checkpoint.py'\n",
      "rm 'cas/.ipynb_checkpoints/summation-checkpoint.py'\n",
      "rm 'cas/.ipynb_checkpoints/symbol-checkpoint.py'\n",
      "rm 'cas/.ipynb_checkpoints/utils-checkpoint.py'\n"
     ]
    }
   ],
   "source": [
    "!git rm *-checkpoint.py -f"
   ]
  },
  {
   "cell_type": "markdown",
   "metadata": {},
   "source": [
    "# upload changes to PhMota/CONNIEtools"
   ]
  },
  {
   "cell_type": "code",
   "execution_count": 21,
   "metadata": {},
   "outputs": [
    {
     "name": "stdout",
     "output_type": "stream",
     "text": [
      "Counting objects: 29, done.\n",
      "Delta compression using up to 32 threads.\n",
      "Compressing objects: 100% (25/25), done.\n",
      "Writing objects: 100% (27/27), 261.06 KiB | 0 bytes/s, done.\n",
      "Total 27 (delta 4), reused 0 (delta 0)\n",
      "remote: Resolving deltas: 100% (4/4), completed with 1 local object.\u001b[K\n",
      "To https://github.com/PhMota/CONNIEtools.git\n",
      "   84e8453..6276c43  master -> master\n"
     ]
    }
   ],
   "source": [
    "!git push"
   ]
  },
  {
   "cell_type": "markdown",
   "metadata": {},
   "source": [
    "# commit changes into stash"
   ]
  },
  {
   "cell_type": "code",
   "execution_count": 17,
   "metadata": {},
   "outputs": [
    {
     "name": "stdout",
     "output_type": "stream",
     "text": [
      "[master 6276c43] added cas folder\n",
      " 24 files changed, 7031 insertions(+)\n",
      " create mode 100644 cas/.ipynb_checkpoints/CAS-checkpoint.ipynb\n",
      " create mode 100644 cas/CAS.ipynb\n",
      " create mode 100644 cas/__init__.py\n",
      " create mode 100644 cas/add.py\n",
      " create mode 100644 cas/appliedfunction.py\n",
      " create mode 100644 cas/appliedindexedfunction.py\n",
      " create mode 100644 cas/derivative.py\n",
      " create mode 100644 cas/diracdelta.py\n",
      " create mode 100644 cas/expr.py\n",
      " create mode 100644 cas/indexed.py\n",
      " create mode 100644 cas/kroneckerdelta.py\n",
      " create mode 100644 cas/mul.py\n",
      " create mode 100644 cas/neg.py\n",
      " create mode 100644 cas/number.py\n",
      " create mode 100644 cas/operable.py\n",
      " create mode 100644 cas/pow.py\n",
      " create mode 100644 cas/rule.py\n",
      " create mode 100644 cas/summation.py\n",
      " create mode 100644 cas/symbol.py\n",
      " create mode 100644 cas/utils.py\n",
      " create mode 100644 git.ipynb\n",
      " create mode 100644 run2019Analysis.ipynb\n",
      " create mode 100644 run2019AnalysisNew.ipynb\n"
     ]
    }
   ],
   "source": [
    "!git commit -am 'added cas folder'"
   ]
  },
  {
   "cell_type": "code",
   "execution_count": 19,
   "metadata": {},
   "outputs": [
    {
     "name": "stdout",
     "output_type": "stream",
     "text": [
      "\n",
      "*.pyc\n",
      "*-checkpoint.*\n"
     ]
    }
   ],
   "source": [
    "!cat .gitignore"
   ]
  },
  {
   "cell_type": "code",
   "execution_count": 18,
   "metadata": {},
   "outputs": [
    {
     "name": "stdout",
     "output_type": "stream",
     "text": [
      "Overwriting .gitignore\n"
     ]
    }
   ],
   "source": [
    "%%file .gitignore\n",
    "\n",
    "*.pyc\n",
    "*-checkpoint.*"
   ]
  },
  {
   "cell_type": "code",
   "execution_count": 26,
   "metadata": {},
   "outputs": [
    {
     "name": "stdout",
     "output_type": "stream",
     "text": [
      "git: 'list' is not a git command. See 'git --help'.\n",
      "\n",
      "Did you mean one of these?\n",
      "\tbisect\n",
      "\trev-list\n"
     ]
    }
   ],
   "source": [
    "!git list"
   ]
  },
  {
   "cell_type": "code",
   "execution_count": null,
   "metadata": {},
   "outputs": [],
   "source": []
  }
 ],
 "metadata": {
  "kernelspec": {
   "display_name": "Python 3",
   "language": "python",
   "name": "python3"
  },
  "language_info": {
   "codemirror_mode": {
    "name": "ipython",
    "version": 3
   },
   "file_extension": ".py",
   "mimetype": "text/x-python",
   "name": "python",
   "nbconvert_exporter": "python",
   "pygments_lexer": "ipython3",
   "version": "3.6.3"
  }
 },
 "nbformat": 4,
 "nbformat_minor": 4
}
