{
 "cells": [
  {
   "cell_type": "markdown",
   "metadata": {},
   "source": [
    "prints the status of the git repository"
   ]
  },
  {
   "cell_type": "code",
   "execution_count": 10,
   "metadata": {},
   "outputs": [
    {
     "name": "stdout",
     "output_type": "stream",
     "text": [
      "# On branch master\n",
      "# Changes to be committed:\n",
      "#   (use \"git reset HEAD <file>...\" to unstage)\n",
      "#\n",
      "#\tnew file:   cas/.ipynb_checkpoints/CAS-checkpoint.ipynb\n",
      "#\tnew file:   cas/.ipynb_checkpoints/__init__-checkpoint.py\n",
      "#\tnew file:   cas/.ipynb_checkpoints/add-checkpoint.py\n",
      "#\tnew file:   cas/.ipynb_checkpoints/appliedfunction-checkpoint.py\n",
      "#\tnew file:   cas/.ipynb_checkpoints/appliedindexedfunction-checkpoint.py\n",
      "#\tnew file:   cas/.ipynb_checkpoints/derivative-checkpoint.py\n",
      "#\tnew file:   cas/.ipynb_checkpoints/diracdelta-checkpoint.py\n",
      "#\tnew file:   cas/.ipynb_checkpoints/expr-checkpoint.py\n",
      "#\tnew file:   cas/.ipynb_checkpoints/indexed-checkpoint.py\n",
      "#\tnew file:   cas/.ipynb_checkpoints/kroneckerdelta-checkpoint.py\n",
      "#\tnew file:   cas/.ipynb_checkpoints/mul-checkpoint.py\n",
      "#\tnew file:   cas/.ipynb_checkpoints/neg-checkpoint.py\n",
      "#\tnew file:   cas/.ipynb_checkpoints/number-checkpoint.py\n",
      "#\tnew file:   cas/.ipynb_checkpoints/operable-checkpoint.py\n",
      "#\tnew file:   cas/.ipynb_checkpoints/pow-checkpoint.py\n",
      "#\tnew file:   cas/.ipynb_checkpoints/rule-checkpoint.py\n",
      "#\tnew file:   cas/.ipynb_checkpoints/summation-checkpoint.py\n",
      "#\tnew file:   cas/.ipynb_checkpoints/symbol-checkpoint.py\n",
      "#\tnew file:   cas/.ipynb_checkpoints/utils-checkpoint.py\n",
      "#\tnew file:   cas/CAS.ipynb\n",
      "#\tnew file:   cas/__init__.py\n",
      "#\tnew file:   cas/add.py\n",
      "#\tnew file:   cas/appliedfunction.py\n",
      "#\tnew file:   cas/appliedindexedfunction.py\n",
      "#\tnew file:   cas/derivative.py\n",
      "#\tnew file:   cas/diracdelta.py\n",
      "#\tnew file:   cas/expr.py\n",
      "#\tnew file:   cas/indexed.py\n",
      "#\tnew file:   cas/kroneckerdelta.py\n",
      "#\tnew file:   cas/mul.py\n",
      "#\tnew file:   cas/neg.py\n",
      "#\tnew file:   cas/number.py\n",
      "#\tnew file:   cas/operable.py\n",
      "#\tnew file:   cas/pow.py\n",
      "#\tnew file:   cas/rule.py\n",
      "#\tnew file:   cas/summation.py\n",
      "#\tnew file:   cas/symbol.py\n",
      "#\tnew file:   cas/utils.py\n",
      "#\tnew file:   git.ipynb\n",
      "#\tnew file:   run2019Analysis.ipynb\n",
      "#\tnew file:   run2019AnalysisNew.ipynb\n",
      "#\n",
      "# Changes not staged for commit:\n",
      "#   (use \"git add <file>...\" to update what will be committed)\n",
      "#   (use \"git checkout -- <file>...\" to discard changes in working directory)\n",
      "#\n",
      "#\tmodified:   git.ipynb\n",
      "#\n",
      "# Untracked files:\n",
      "#   (use \"git add <file>...\" to include in what will be committed)\n",
      "#\n",
      "#\t.ipynb_checkpoints/\n",
      "#\tUntitled.ipynb\n",
      "#\tUntitled1.ipynb\n",
      "#\tUntitled2.ipynb\n",
      "#\timage_processing.ipynb\n",
      "#\tionSpectrumG.csv\n",
      "#\tmergeSimCat.cc\n",
      "#\tvFlux.csv\n",
      "#\twave_function_animation.ipynb\n"
     ]
    }
   ],
   "source": [
    "!git status"
   ]
  },
  {
   "cell_type": "code",
   "execution_count": 9,
   "metadata": {},
   "outputs": [],
   "source": [
    "!git add cas"
   ]
  },
  {
   "cell_type": "markdown",
   "metadata": {},
   "source": [
    "upload changes to PhMota/CONNIEtools"
   ]
  },
  {
   "cell_type": "code",
   "execution_count": 5,
   "metadata": {},
   "outputs": [
    {
     "name": "stdout",
     "output_type": "stream",
     "text": [
      "Counting objects: 5, done.\n",
      "Delta compression using up to 32 threads.\n",
      "Compressing objects: 100% (3/3), done.\n",
      "Writing objects: 100% (3/3), 392 bytes | 0 bytes/s, done.\n",
      "Total 3 (delta 2), reused 0 (delta 0)\n",
      "remote: Resolving deltas: 100% (2/2), completed with 2 local objects.\u001b[K\n",
      "To https://github.com/PhMota/CONNIEtools.git\n",
      "   fd15d62..84e8453  master -> master\n"
     ]
    }
   ],
   "source": [
    "!git push"
   ]
  },
  {
   "cell_type": "code",
   "execution_count": 3,
   "metadata": {},
   "outputs": [
    {
     "name": "stdout",
     "output_type": "stream",
     "text": [
      "[master 84e8453] starting porject roganization\n",
      " 1 file changed, 7 insertions(+), 2 deletions(-)\n"
     ]
    }
   ],
   "source": [
    "!git commit -am 'starting porject roganization'"
   ]
  },
  {
   "cell_type": "code",
   "execution_count": 11,
   "metadata": {},
   "outputs": [
    {
     "name": "stdout",
     "output_type": "stream",
     "text": [
      "*.pyc\n"
     ]
    }
   ],
   "source": [
    "!cat .gitignore"
   ]
  },
  {
   "cell_type": "code",
   "execution_count": null,
   "metadata": {},
   "outputs": [],
   "source": [
    "%%"
   ]
  }
 ],
 "metadata": {
  "kernelspec": {
   "display_name": "Python 3",
   "language": "python",
   "name": "python3"
  },
  "language_info": {
   "codemirror_mode": {
    "name": "ipython",
    "version": 3
   },
   "file_extension": ".py",
   "mimetype": "text/x-python",
   "name": "python",
   "nbconvert_exporter": "python",
   "pygments_lexer": "ipython3",
   "version": "3.6.3"
  }
 },
 "nbformat": 4,
 "nbformat_minor": 4
}
