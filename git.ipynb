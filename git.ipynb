{
 "cells": [
  {
   "cell_type": "markdown",
   "metadata": {},
   "source": [
    "# prints the status of the git repository"
   ]
  },
  {
   "cell_type": "code",
   "execution_count": 3,
   "metadata": {},
   "outputs": [
    {
     "name": "stdout",
     "output_type": "stream",
     "text": [
      "# On branch master\n",
      "# Changes to be committed:\n",
      "#   (use \"git reset HEAD <file>...\" to unstage)\n",
      "#\n",
      "#\tnew file:   Catalog/__init__.py\n",
      "#\tnew file:   Catalog/histogram.py\n",
      "#\tnew file:   Catalog/ratio.py\n",
      "#\tnew file:   Catalog/scatter.py\n",
      "#\tnew file:   Catalog/status.py\n",
      "#\n",
      "# Changes not staged for commit:\n",
      "#   (use \"git add/rm <file>...\" to update what will be committed)\n",
      "#   (use \"git checkout -- <file>...\" to discard changes in working directory)\n",
      "#\n",
      "#\tmodified:   Catalog.py\n",
      "#\tmodified:   Image/compute.py\n",
      "#\tdeleted:    ImagePresentation.py\n",
      "#\tdeleted:    analysis_data_split.py\n",
      "#\tmodified:   cas/__init__.py\n",
      "#\tmodified:   cas/expr.py\n",
      "#\tmodified:   cas/mul.py\n",
      "#\tmodified:   cas/number.py\n",
      "#\tmodified:   cas/operable.py\n",
      "#\tmodified:   cas/pow.py\n",
      "#\tmodified:   cas/symbol.py\n",
      "#\tdeleted:    connect_remote_notebook.sh\n",
      "#\tdeleted:    final_rate_calculation.py\n",
      "#\tdeleted:    fstring.py\n",
      "#\tmodified:   git.ipynb\n",
      "#\tmodified:   paths/paths.py\n",
      "#\tdeleted:    root2numpy.py\n",
      "#\tdeleted:    run2019Analisys.py\n",
      "#\tmodified:   run2019Analysis.ipynb\n",
      "#\tdeleted:    sklearnTest.py\n",
      "#\tdeleted:    start_notebook.sh\n",
      "#\tdeleted:    test.csv\n",
      "#\tdeleted:    test.py\n",
      "#\tdeleted:    tests.ipynb\n",
      "#\tmodified:   utils/utils.py\n",
      "#\tdeleted:    vSpectrum.csv\n",
      "#\n",
      "# Untracked files:\n",
      "#   (use \"git add <file>...\" to include in what will be committed)\n",
      "#\n",
      "#\t.ipynb_checkpoints/\n",
      "#\tAulaPython.ipynb\n",
      "#\tNoiseDC.ipynb\n",
      "#\tUntitled2.ipynb\n",
      "#\tbinned_statistics/\n",
      "#\tboltzmann.ipynb\n",
      "#\tcas/core.py\n",
      "#\tdata/\n",
      "#\tiarray/\n",
      "#\timage_processing.ipynb\n",
      "#\tpaths.py\n",
      "#\tpaths/test.ipynb\n",
      "#\troot_tests.ipynb\n",
      "#\trun2019/\n",
      "#\tscripts/\n",
      "#\tsph_tests.ipynb\n",
      "#\tutils/doc2argparse.py\n",
      "#\twave_function_animation.ipynb\n"
     ]
    }
   ],
   "source": [
    "!git status"
   ]
  },
  {
   "cell_type": "markdown",
   "metadata": {},
   "source": [
    "# add files to repository"
   ]
  },
  {
   "cell_type": "code",
   "execution_count": 8,
   "metadata": {},
   "outputs": [],
   "source": [
    "!git add iarray"
   ]
  },
  {
   "cell_type": "markdown",
   "metadata": {},
   "source": [
    "# remove files from repository"
   ]
  },
  {
   "cell_type": "code",
   "execution_count": 29,
   "metadata": {},
   "outputs": [
    {
     "name": "stdout",
     "output_type": "stream",
     "text": [
      "rm 'cas/.ipynb_checkpoints/CAS-checkpoint.ipynb'\n"
     ]
    }
   ],
   "source": [
    "!git rm *-checkpoint.* -f"
   ]
  },
  {
   "cell_type": "markdown",
   "metadata": {},
   "source": [
    "# upload changes to PhMota/CONNIEtools"
   ]
  },
  {
   "cell_type": "code",
   "execution_count": 11,
   "metadata": {},
   "outputs": [
    {
     "name": "stdout",
     "output_type": "stream",
     "text": [
      "Counting objects: 23, done.\n",
      "Delta compression using up to 32 threads.\n",
      "Compressing objects: 100% (18/18), done.\n",
      "Writing objects: 100% (18/18), 37.23 KiB | 0 bytes/s, done.\n",
      "Total 18 (delta 4), reused 0 (delta 0)\n",
      "remote: Resolving deltas: 100% (4/4), completed with 4 local objects.\u001b[K\n",
      "To https://github.com/PhMota/CONNIEtools.git\n",
      "   99598b3..943d16a  master -> master\n"
     ]
    }
   ],
   "source": [
    "!git push"
   ]
  },
  {
   "cell_type": "markdown",
   "metadata": {},
   "source": [
    "# commit changes into stash"
   ]
  },
  {
   "cell_type": "code",
   "execution_count": 10,
   "metadata": {},
   "outputs": [
    {
     "name": "stdout",
     "output_type": "stream",
     "text": [
      "[master 943d16a] added Image, paths and utils folder\n",
      " 16 files changed, 1538 insertions(+), 1067 deletions(-)\n",
      " create mode 100644 Image/__init__.py\n",
      " create mode 100644 Image/analyse.py\n",
      " create mode 100644 Image/compute.py\n",
      " create mode 100644 Image/display.py\n",
      " create mode 100644 Image/header.py\n",
      " create mode 100644 Image/monitor.py\n",
      " create mode 100644 Image/superpose.py\n",
      " create mode 100644 paths/__init__.py\n",
      " create mode 100644 paths/paths.py\n",
      " create mode 100644 tests.ipynb\n",
      " create mode 100644 utils/__init__.py\n",
      " create mode 100644 utils/utils.py\n"
     ]
    }
   ],
   "source": [
    "!git commit -am 'added Image, paths and utils folder'"
   ]
  },
  {
   "cell_type": "code",
   "execution_count": 19,
   "metadata": {},
   "outputs": [
    {
     "name": "stdout",
     "output_type": "stream",
     "text": [
      "\n",
      "*.pyc\n",
      "*-checkpoint.*\n"
     ]
    }
   ],
   "source": [
    "!cat .gitignore"
   ]
  },
  {
   "cell_type": "code",
   "execution_count": 18,
   "metadata": {},
   "outputs": [
    {
     "name": "stdout",
     "output_type": "stream",
     "text": [
      "Overwriting .gitignore\n"
     ]
    }
   ],
   "source": [
    "%%file .gitignore\n",
    "\n",
    "*.pyc\n",
    "*-checkpoint.*"
   ]
  },
  {
   "cell_type": "code",
   "execution_count": 28,
   "metadata": {},
   "outputs": [
    {
     "name": "stdout",
     "output_type": "stream",
     "text": [
      "100644 blob 278a3e74076e1a0efbedc82b21726383df995f03\t.gitignore\n",
      "100644 blob 696b8fe33fc2847a561d27439cf18063b4771b15\tBeamer.py\n",
      "100755 blob c9b83ef3bfe9219052424a9fa2479e8dd5748aa0\tCatalog.py\n",
      "100644 blob 4eef06067533b7e0762bc5442dc13f0155407049\tConnieAnalysis.py\n",
      "100644 blob cb6c487bda5941d8cc63e4955130b3f3586d7b14\tConnieDataPath.py\n",
      "100644 blob e5566e0de2b8b2a9d88fc16802b8d232de652100\tConnieImage.py\n",
      "100755 blob 21b57e6eb310252d765a4e1b70b70835171db500\tImage.py\n",
      "100644 blob 1750b9aeeae64a86d42a74aca2e9e96cff6c48fd\tImagePresentation.py\n",
      "100644 blob 99a0bcb29ee8417e0890df63a5a3f193081702d8\tImageViewer.py\n",
      "100644 blob bbfa0ad5a8c61c26776619cd64cd027d99035c80\tMonitorViewer.py\n",
      "100644 blob e4bed323776a642d756e221db16101f5745c408e\tPlot.py\n",
      "100644 blob b5343fb426b6513fb63a2136b0e2cdb1236d2bbf\tPrintVar.py\n",
      "100644 blob 6c4b04ab2a7f3685f4679d6e4aea39496124cbfc\tREADME.md\n",
      "100644 blob d73533b3e1de905a7bc30e6e7ed35c2d22a62cf8\tSimulateImage.py\n",
      "100755 blob 4eb4250c41d51fe3e8dc87d79515650b452f23cc\tSimulation.py\n",
      "100644 blob 6e9943e3f75a8cd5464cb7298ccfc09371dd18a1\tStatistics.py\n",
      "100644 blob 7ed39d9947822272a993aa24788811e06ac07b07\tTimer.py\n",
      "100644 blob 8d1c8b69c3fce7bea45c73efd06983e3c419a92f\t__init__.py\n",
      "100644 blob 2ed46615847019f875922b336463ee201cfdcf8f\tanalysis_data_split.py\n",
      "100644 blob 01e7ba20b3d35ac0d1319cbe84b8105abb20d7bc\tbayesian_article.py\n",
      "100644 blob 851e7dfb79eff76ce7941dc054480af7959e4736\tcalculations.py\n",
      "100644 blob bbaec661ae6ebc9ea77815483ffcff9055d50c0b\tcarla_script.py\n",
      "100644 blob 34f168b3f3080277862d4d82db0dac7b89714e7b\tcarla_skipper.py\n",
      "100644 blob d269a9cdb3217f8e4a99213f89afae0231b10e5f\tcas/.ipynb_checkpoints/CAS-checkpoint.ipynb\n",
      "100644 blob 4c1a148eaeacc59045db853ca6646c2d12567a1a\tcas/CAS.ipynb\n",
      "100644 blob e69de29bb2d1d6434b8b29ae775ad8c2e48c5391\tcas/__init__.py\n",
      "100644 blob 869d0eb0f2cc6e04a066bcabf78a1d64e93b9011\tcas/add.py\n",
      "100644 blob c882505ddc66e99343fc396ab29c754da79945fe\tcas/appliedfunction.py\n",
      "100644 blob d64fdf261099a58e176e9ed98b892f680c434c35\tcas/appliedindexedfunction.py\n",
      "100644 blob 3e377d6d84833a73f6f5938a8912bbfab7e0e19d\tcas/derivative.py\n",
      "100644 blob e8afd411c4048f7bf3c2b8ad0df9f821fb9d484c\tcas/diracdelta.py\n",
      "100644 blob 77750ddf4292baa87295da0d8f6f8ea3913a238b\tcas/expr.py\n",
      "100644 blob f3c4a72392c3554df9f9f87aaf7c435691645dce\tcas/indexed.py\n",
      "100644 blob 8d4a310e2422840d1355c23126a39cd6c953dfea\tcas/kroneckerdelta.py\n",
      "100644 blob 54f3a862d65af77af9fb16e48aff48806d46a97b\tcas/mul.py\n",
      "100644 blob ade49c5ac8c0f33387021b5d30e401fd5d46b32d\tcas/neg.py\n",
      "100644 blob 653d59c5fe55b672e83110a2785712d6a42b4e9e\tcas/number.py\n",
      "100644 blob 74a24600d671c07d665b31c5e38f1940572fd48c\tcas/operable.py\n",
      "100644 blob 5a10dda2fd49b106047b64ed40a128a7a509b997\tcas/pow.py\n",
      "100644 blob 6c94cb32d983694d3179c524491f5c0d48235e3f\tcas/rule.py\n",
      "100644 blob 9a10d724d5741eaedb67cad1e117b7eb9027e37d\tcas/summation.py\n",
      "100644 blob 5bf0427c104fa1effcc08fabd3818683512f686e\tcas/symbol.py\n",
      "100644 blob da1007ffc081d20bccc883a73055c7748e740f6b\tcas/utils.py\n",
      "120000 blob 312ecb5e2c6d44f696eb537a4b9bbf7eb39f5058\tcatalog\n",
      "100644 blob 88581ce248e9096cb4f101f7dd717e8ea1c313b5\tcnn.py\n",
      "100755 blob df86188bee1ab53b8954c063b321b0b6f85e6568\tconnect_remote_notebook.sh\n",
      "100755 blob 9cf1ab830fce92767c005d08340894f9f86db85a\tconnie.py\n",
      "100644 blob 57d6b73b2b4e47cc3848690eed85e6313e6de305\tconstants.py\n",
      "100644 blob eb3aa348c7de01a6267619cc2f5c3e80547fdac1\tdc_study_nu_rate.py\n",
      "100644 blob 9970fcf82dd66b12499695ef74f9e87883390c20\tefficiencyPresentation.py\n",
      "100644 blob 08e0aef5083a914fb4fae3d53f5e4709a0d03887\testimate-dark-current.py\n",
      "100644 blob 80e20e5d6259a4040af5bcaa5bd46ff840dd438e\textract_from_fits.py\n",
      "100644 blob b5fc0e29e72a6fa4042ba37ec80b34daceaa78a5\tfinal_rate_calculation.py\n",
      "100644 blob 88da0a9d5cb9c920fbac20423fc57fee59878306\tfstring.py\n",
      "100644 blob 7bcbf69d232560f9f9563c5c1b855b0677b231ac\tgit.ipynb\n",
      "120000 blob ec6579c8cb6b39c1ec639112948196ef688e87b0\timage\n",
      "100644 blob e69de29bb2d1d6434b8b29ae775ad8c2e48c5391\timageManipulation.py\n",
      "100644 blob 1391d59b031bb2e8bc880a9cf4367e87fb6727e8\tlocker.py\n",
      "100644 blob 074205773668ddc650aa60a2e02fb72c80fcf3ed\tmuonStabilityCheck.py\n",
      "100644 blob eaa19f734d69ad347ab4558ba02b9b473f4d227c\tnoise_dc_evolution.py\n",
      "100644 blob a16c63e1a55cd1047e347514aa57eda17192618d\tprogress.py\n",
      "100644 blob db29e55c3cbe6e923e48d9f886c0e1c02149fa14\troot2numpy.py\n",
      "100644 blob c8f96d47e6ff385fa1e373eeaea2613cc935799a\trun2019Analisys.py\n",
      "100644 blob 6f75fd1c6a45874e1ea00695f7d3e534fd55ea76\trun2019Analysis.ipynb\n",
      "100644 blob 69715ad9dc2e53d6d14c5a50874a4592ae7c3ced\trun2019AnalysisNew.ipynb\n",
      "100644 blob 51db0273db515d2cfb6d3e89c3300aa4625fa617\tsbatch.sh\n",
      "100644 blob acfb57209ccaf6ac9ea2877b7792991c8b758163\tsetup.py\n",
      "120000 blob c56256f1330e5d949142de16157e4bcc8e1856a0\tsimulation\n",
      "100644 blob 570764757516632f509408165c1db08d45b00cfa\tsklearnTest.py\n",
      "100755 blob 73f1f5a7b664232d22b57739f35a7c6c344123f2\tstart_notebook.sh\n",
      "100644 blob 075cef2a9c180a88d0000ebed3298c6d19f7858c\tsuite_presentation.py\n",
      "100644 blob 8254675996266d0ca2e1aa87b20c098c63709b02\ttest.csv\n",
      "100644 blob 604428fde9b92a946bb1e07e2b5206f5d4ebec15\ttest.py\n",
      "100644 blob ffdec4612861f50803928bd197e5194de0039b3e\tvSpectrum.csv\n",
      "100644 blob 0637dbcc70c3e3248faa8f70fcadb69dea176581\tviewer.py\n"
     ]
    }
   ],
   "source": [
    "!git ls-tree -r master"
   ]
  },
  {
   "cell_type": "code",
   "execution_count": null,
   "metadata": {},
   "outputs": [],
   "source": []
  }
 ],
 "metadata": {
  "kernelspec": {
   "display_name": "Python 3",
   "language": "python",
   "name": "python3"
  },
  "language_info": {
   "codemirror_mode": {
    "name": "ipython",
    "version": 3
   },
   "file_extension": ".py",
   "mimetype": "text/x-python",
   "name": "python",
   "nbconvert_exporter": "python",
   "pygments_lexer": "ipython3",
   "version": "3.6.3"
  }
 },
 "nbformat": 4,
 "nbformat_minor": 4
}
