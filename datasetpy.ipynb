{
 "cells": [
  {
   "cell_type": "code",
   "execution_count": 1,
   "metadata": {},
   "outputs": [],
   "source": [
    "%load_ext autoreload\n",
    "%matplotlib widget"
   ]
  },
  {
   "cell_type": "code",
   "execution_count": 2,
   "metadata": {},
   "outputs": [
    {
     "name": "stdout",
     "output_type": "stream",
     "text": [
      "['AffineScalarFunc', 'Array', 'Coord', 'Data', 'UnitRegistry', '__builtins__', '__cached__', '__doc__', '__file__', '__loader__', '__name__', '__package__', '__path__', '__spec__', 'aslist', 'core', 'defs', 'fmt', 'has_std_devs', 'has_units', 'is_list_or_tuple', 'is_str', 'matplotlib', 'np', 'par', 'plt', 'pprint', 'print_dict', 'print_values', 'significant_digits', 'un', 'ureg', 'warnings']\n"
     ]
    }
   ],
   "source": [
    "%autoreload 2\n",
    "import datasetpy as dp\n",
    "print( dir(dp) )"
   ]
  },
  {
   "cell_type": "code",
   "execution_count": 3,
   "metadata": {},
   "outputs": [
    {
     "data": {
      "text/plain": [
       "<Coord>\t(my_dim: 10)\n",
       "    my_coord\t(my_dim) []\n",
       "[0.0 0.1 0.2 0.3 0.4 0.5 0.6 0.7 0.8 0.9]\n",
       "Attributes:"
      ]
     },
     "execution_count": 3,
     "metadata": {},
     "output_type": "execute_result"
    }
   ],
   "source": [
    "import numpy as np\n",
    "\n",
    "dp.Coord( \n",
    "    name = \"my_coord\", \n",
    "    data = np.arange(0,1,.1),\n",
    "    dims = \"my_dim\"\n",
    ")"
   ]
  },
  {
   "cell_type": "code",
   "execution_count": 4,
   "metadata": {},
   "outputs": [
    {
     "data": {
      "text/plain": [
       "<Coord>\t(my_dim: 100)\n",
       "    uncertanties\t(my_dim) []\n",
       "[0.0 0.01 0.02 ... 0.97 0.98 0.99]\n",
       "Attributes:"
      ]
     },
     "execution_count": 4,
     "metadata": {},
     "output_type": "execute_result"
    }
   ],
   "source": [
    "from uncertainties import unumpy as un\n",
    "\n",
    "dp.Coord(\n",
    "    name = \"uncertanties\",\n",
    "    data = un.uarray( np.arange(0,1,.01), 0 ),\n",
    "    dims = \"my_dim\"\n",
    ")"
   ]
  },
  {
   "cell_type": "code",
   "execution_count": 5,
   "metadata": {},
   "outputs": [
    {
     "data": {
      "text/plain": [
       "<Coord>\t(my_dim: 10)\n",
       "    uncertanties\t(my_dim) []\n",
       "[0.0 0.1 0.2 0.3 0.4 0.5 0.6 0.7 0.8 0.9]"
      ]
     },
     "execution_count": 5,
     "metadata": {},
     "output_type": "execute_result"
    }
   ],
   "source": [
    "dp.Coord(\n",
    "    name = \"uncertanties\",\n",
    "    data = np.arange(0,1,.1),\n",
    "    data_err = 0.,\n",
    "    dims = \"my_dim\"\n",
    ")"
   ]
  },
  {
   "cell_type": "code",
   "execution_count": 6,
   "metadata": {},
   "outputs": [
    {
     "data": {
      "text/plain": [
       "<Coord>\t(my_dim: 4)\n",
       "    my_coord\t(my_dim) []\n",
       "[1.0 2.0 3.0 4.0]\n",
       "Attributes:"
      ]
     },
     "execution_count": 6,
     "metadata": {},
     "output_type": "execute_result"
    }
   ],
   "source": [
    "dp.Coord( \n",
    "    name = \"my_coord\", \n",
    "    data = [1,2,3,4],\n",
    "    dims = \"my_dim\"\n",
    ")"
   ]
  },
  {
   "cell_type": "code",
   "execution_count": 7,
   "metadata": {},
   "outputs": [
    {
     "data": {
      "text/plain": [
       "<Coord>\t(my_dim: 10)\n",
       "    my_coord\t(my_dim) [eV]\n",
       "[0.0 0.1 0.2 0.3 0.4 0.5 0.6 0.7 0.8 0.9]\n",
       "Attributes:"
      ]
     },
     "execution_count": 7,
     "metadata": {},
     "output_type": "execute_result"
    }
   ],
   "source": [
    "import pint\n",
    "from pint import UnitRegistry\n",
    "ureg = UnitRegistry()\n",
    "\n",
    "dp.Coord( \n",
    "    name = \"my_coord\", \n",
    "    data = np.arange(0, 1, .1),\n",
    "    units = \"eV\",\n",
    "    dims = \"my_dim\"\n",
    ")"
   ]
  },
  {
   "cell_type": "code",
   "execution_count": 8,
   "metadata": {},
   "outputs": [
    {
     "name": "stdout",
     "output_type": "stream",
     "text": [
      "{'coord': <Coord>\t(L: 10)\n",
      "    coord\t(L) [m²]\n",
      "[0.00±0.06 0.10±0.06 0.20±0.06 0.30±0.06 0.40±0.06 0.50±0.06 0.60±0.06\n",
      " 0.70±0.06 0.80±0.06 0.90±0.06]\n",
      "}\n",
      "units keV\n",
      "<Array>\t()\n",
      "    array\t(L) [keV]\n",
      "[0.0±0.1 0.1±0.1 0.2±0.1 0.3±0.1 0.4±0.1 0.5±0.1 0.6±0.1 0.7±0.1 0.8±0.1\n",
      " 0.9±0.1]\n",
      "Coordinates:\n",
      "    coord\t(L) [m²]\n",
      "[0.00±0.06 0.10±0.06 0.20±0.06 0.30±0.06 0.40±0.06 0.50±0.06 0.60±0.06\n",
      " 0.70±0.06 0.80±0.06 0.90±0.06]\n",
      "\n"
     ]
    },
    {
     "data": {
      "application/vnd.jupyter.widget-view+json": {
       "model_id": "9e3f3e0ff11a4674b084a66c4373c768",
       "version_major": 2,
       "version_minor": 0
      },
      "text/plain": [
       "Canvas(toolbar=Toolbar(toolitems=[('Home', 'Reset original view', 'home', 'home'), ('Back', 'Back to previous …"
      ]
     },
     "metadata": {},
     "output_type": "display_data"
    },
    {
     "name": "stderr",
     "output_type": "stream",
     "text": [
      "/home/mota/.local/lib/python3.6/site-packages/numpy/lib/function_base.py:2190: UnitStrippedWarning: The unit of the quantity is stripped when downcasting to ndarray.\n",
      "  for a in args]\n"
     ]
    }
   ],
   "source": [
    "a = dp.Array(\n",
    "    name = \"array\",\n",
    "    data = np.arange(0, 1, .1),\n",
    "    err = 0.1,\n",
    "    units = \"keV\",\n",
    "    coords = dp.Coord(\n",
    "        name = \"coord\",\n",
    "        data = np.arange(0, 1, .1),\n",
    "        err = .05555,\n",
    "        units = \"m**2\",\n",
    "        dims = \"L\",\n",
    "        extra_attr = \"4\"\n",
    "    ),\n",
    "    long_name = \"long_name\"\n",
    ")\n",
    "print( a.coords )\n",
    "print( \"units\", a.u )\n",
    "print( a )\n",
    "a.plot()"
   ]
  },
  {
   "cell_type": "code",
   "execution_count": 11,
   "metadata": {},
   "outputs": [
    {
     "name": "stdout",
     "output_type": "stream",
     "text": [
      "\u001b[1m============================= test session starts ==============================\u001b[0m\n",
      "platform linux -- Python 3.6.3, pytest-6.2.4, py-1.10.0, pluggy-0.13.1\n",
      "rootdir: /home/mota/connie/CONNIEtools\n",
      "plugins: anyio-2.0.2\n",
      "collected 4 items                                                              \u001b[0m\u001b[1m\n",
      "\n",
      "datasetpy/tests.py \u001b[32m.\u001b[0m\u001b[32m.\u001b[0m\u001b[32m.\u001b[0m\u001b[32m.\u001b[0m\u001b[33m                                                  [100%]\u001b[0m\n",
      "\n",
      "\u001b[33m=============================== warnings summary ===============================\u001b[0m\n",
      "../../.local/lib/python3.6/site-packages/past/builtins/misc.py:45\n",
      "  /home/mota/.local/lib/python3.6/site-packages/past/builtins/misc.py:45: DeprecationWarning: the imp module is deprecated in favour of importlib; see the module's documentation for alternative uses\n",
      "    from imp import reload\n",
      "\n",
      "-- Docs: https://docs.pytest.org/en/stable/warnings.html\n",
      "\u001b[33m========================= \u001b[32m4 passed\u001b[0m, \u001b[33m\u001b[1m1 warning\u001b[0m\u001b[33m in 1.64s\u001b[0m\u001b[33m =========================\u001b[0m\n"
     ]
    }
   ],
   "source": [
    "!py.test datasetpy/tests.py"
   ]
  },
  {
   "cell_type": "code",
   "execution_count": null,
   "metadata": {},
   "outputs": [],
   "source": []
  }
 ],
 "metadata": {
  "kernelspec": {
   "display_name": "Python 3",
   "language": "python",
   "name": "python3"
  },
  "language_info": {
   "codemirror_mode": {
    "name": "ipython",
    "version": 3
   },
   "file_extension": ".py",
   "mimetype": "text/x-python",
   "name": "python",
   "nbconvert_exporter": "python",
   "pygments_lexer": "ipython3",
   "version": "3.6.3"
  }
 },
 "nbformat": 4,
 "nbformat_minor": 4
}
