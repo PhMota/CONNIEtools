{
 "cells": [
  {
   "cell_type": "code",
   "execution_count": 1,
   "metadata": {},
   "outputs": [],
   "source": [
    "%load_ext autoreload\n",
    "# %matplotlib widget"
   ]
  },
  {
   "cell_type": "code",
   "execution_count": 159,
   "metadata": {},
   "outputs": [
    {
     "name": "stdout",
     "output_type": "stream",
     "text": [
      "['Array', 'Coord', 'Data', '__builtins__', '__cached__', '__file__', '__loader__', '__name__', '__package__', '__path__', '__spec__', 'arange', 'broadcast', 'eV', 'genfromcsv', 'genfromroot', 'keV', 'np', 'plot', 'plt', 're', 'read_header', 'uproot', 'ureg']\n"
     ]
    }
   ],
   "source": [
    "%autoreload 2\n",
    "import datasetpy as dp\n",
    "print( dir(dp) )\n",
    "from uncertainties import unumpy as un\n",
    "import numpy as np"
   ]
  },
  {
   "cell_type": "code",
   "execution_count": 30,
   "metadata": {},
   "outputs": [
    {
     "data": {
      "text/plain": [
       "    range\t(E)[eV]\n",
       " [0.00±0.01 0.10±0.01 0.20±0.01 0.30±0.01 0.40±0.01 0.50±0.01 0.60±0.01\n",
       " 0.70±0.01 0.80±0.01 0.90±0.01]"
      ]
     },
     "execution_count": 30,
     "metadata": {},
     "output_type": "execute_result"
    }
   ],
   "source": [
    "a = dp.arange( \"range\", 0, 1, .1, dim = \"E\", units = \"eV\", std_devs = .01 )\n",
    "a"
   ]
  },
  {
   "cell_type": "code",
   "execution_count": 15,
   "metadata": {},
   "outputs": [
    {
     "name": "stdout",
     "output_type": "stream",
     "text": [
      "    range\t(E)[keV]\n",
      " [0.000±0.005 0.100±0.005 0.200±0.005 0.300±0.005 0.400±0.005 0.500±0.005\n",
      " 0.600±0.005 0.700±0.005 0.800±0.005 0.900±0.005]\n"
     ]
    }
   ],
   "source": [
    "b = dp.arange( \"range\", 0, 1, .1, dim = \"E\", units = \"keV\", std_devs = .005 )\n",
    "print( b )"
   ]
  },
  {
   "cell_type": "code",
   "execution_count": 36,
   "metadata": {},
   "outputs": [
    {
     "data": {
      "text/plain": [
       "    None\t(E)[eV]\n",
       " [0±5 100±5 200±5 300±5 400±5 500±5 601±5 701±5 801±5 901±5]"
      ]
     },
     "execution_count": 36,
     "metadata": {},
     "output_type": "execute_result"
    }
   ],
   "source": [
    "a + b"
   ]
  },
  {
   "cell_type": "code",
   "execution_count": 37,
   "metadata": {},
   "outputs": [],
   "source": [
    "a + 2"
   ]
  },
  {
   "cell_type": "code",
   "execution_count": 154,
   "metadata": {},
   "outputs": [
    {
     "data": {
      "text/plain": [
       "    None\t(E)[keV ** 2]\n",
       " [0.0±0 (1.0±0.1)×10⁻⁵ (4.0±0.2)×10⁻⁵ (9.0±0.3)×10⁻⁵ 0.000160±0.000004\n",
       " 0.000250±0.000006 0.000360±0.000007 0.000490±0.000008 0.000640±0.000009\n",
       " 0.00081±0.00001]"
      ]
     },
     "execution_count": 154,
     "metadata": {},
     "output_type": "execute_result"
    }
   ],
   "source": [
    "dp.broadcast(a, b)\n",
    "a*b"
   ]
  },
  {
   "cell_type": "code",
   "execution_count": 64,
   "metadata": {},
   "outputs": [
    {
     "data": {
      "text/plain": [
       "    range\t(y, x)[m]\n",
       " [[0.000±0.001 1.000±0.001 0.100±0.001]\n",
       " [2.000±0.001 3.000±0.001 4.000±0.001]]"
      ]
     },
     "execution_count": 64,
     "metadata": {},
     "output_type": "execute_result"
    }
   ],
   "source": [
    "c = dp.Array( \"range\", [[0, 1, .1],[2,3,4]], dims = [\"y\", \"x\"], units = \"m\", std_devs = .001 )\n",
    "c"
   ]
  },
  {
   "cell_type": "code",
   "execution_count": 133,
   "metadata": {},
   "outputs": [
    {
     "data": {
      "text/plain": [
       "    None\t(x, y, E)[eV * m]\n",
       " [[[0.0±0 0.0000±0.0001 0.0000±0.0002 ... 0.0000±0.0007 0.0000±0.0008\n",
       "   0.0000±0.0009]\n",
       "  [0.00±0.02 0.20±0.02 0.40±0.02 ... 1.40±0.02 1.60±0.02 1.80±0.02]]\n",
       "\n",
       " [[0.00±0.01 0.10±0.01 0.20±0.01 ... 0.70±0.01 0.80±0.01 0.90±0.01]\n",
       "  [0.00±0.03 0.30±0.03 0.60±0.03 ... 2.10±0.03 2.40±0.03 2.70±0.03]]\n",
       "\n",
       " [[0.000±0.001 0.010±0.001 0.020±0.001 ... 0.070±0.001 0.080±0.001\n",
       "   0.090±0.001]\n",
       "  [0.00±0.04 0.40±0.04 0.80±0.04 ... 2.80±0.04 3.20±0.04 3.60±0.04]]]"
      ]
     },
     "execution_count": 133,
     "metadata": {},
     "output_type": "execute_result"
    }
   ],
   "source": [
    "a * c"
   ]
  },
  {
   "cell_type": "code",
   "execution_count": 162,
   "metadata": {},
   "outputs": [
    {
     "name": "stdout",
     "output_type": "stream",
     "text": [
      "<class 'pint.quantity.build_quantity_class.<locals>.Quantity'>\n",
      "other 2.0 <class 'float'>\n",
      "self [0.0+/-0.01 0.1+/-0.01 0.2+/-0.01 0.30000000000000004+/-0.01 0.4+/-0.01 0.5+/-0.01 0.6000000000000001+/-0.01 0.7000000000000001+/-0.01 0.8+/-0.01 0.9+/-0.01] eV <class 'pint.quantity.build_quantity_class.<locals>.Quantity'>\n",
      "self [0.0+/-0.02 0.2+/-0.02 0.4+/-0.02 0.6000000000000001+/-0.02 0.8+/-0.02 1.0+/-0.02 1.2000000000000002+/-0.02 1.4000000000000001+/-0.02 1.6+/-0.02 1.8+/-0.02] eV <class 'pint.quantity.build_quantity_class.<locals>.Quantity'>\n",
      "other 1.6021766339999998e-13 <class 'float'>\n"
     ]
    },
    {
     "data": {
      "text/html": [
       "None\t(E)[eV]\n",
       " [0.00±0.02 0.20±0.02 0.40±0.02 0.60±0.02 0.80±0.02 1.00±0.02 1.20±0.02\n",
       " 1.40±0.02 1.60±0.02 1.80±0.02] keV"
      ],
      "text/latex": [
       "$None\t(E)[eV] [0.00±0.02 0.20±0.02 0.40±0.02 0.60±0.02 0.80±0.02 1.00±0.02 1.20±0.02 1.40±0.02 1.60±0.02 1.80±0.02]\\ \\mathrm{keV}$"
      ],
      "text/plain": [
       "    None\t(E)[eV]\n",
       " [0.00±0.02 0.20±0.02 0.40±0.02 0.60±0.02 0.80±0.02 1.00±0.02 1.20±0.02\n",
       " 1.40±0.02 1.60±0.02 1.80±0.02] <Unit('kiloelectron_volt')>"
      ]
     },
     "execution_count": 162,
     "metadata": {},
     "output_type": "execute_result"
    }
   ],
   "source": [
    "print( type(2*dp.keV) )\n",
    "(2.*dp.keV) * a"
   ]
  },
  {
   "cell_type": "code",
   "execution_count": 13,
   "metadata": {},
   "outputs": [
    {
     "data": {
      "text/plain": [
       "<Coord>\t(my_dim: 10)\n",
       "    my_coord\t(my_dim) []\n",
       "[0.0 0.1 0.2 0.3 0.4 0.5 0.6 0.7 0.8 0.9]\n",
       "Attributes:"
      ]
     },
     "execution_count": 13,
     "metadata": {},
     "output_type": "execute_result"
    }
   ],
   "source": [
    "import numpy as np\n",
    "\n",
    "dp.Coord( \n",
    "    name = \"my_coord\", \n",
    "    data = np.arange(0,1,.1),\n",
    "    dims = \"my_dim\"\n",
    ")"
   ]
  },
  {
   "cell_type": "code",
   "execution_count": 14,
   "metadata": {},
   "outputs": [
    {
     "data": {
      "text/plain": [
       "<Coord>\t(my_dim: 100)\n",
       "    uncertanties\t(my_dim) []\n",
       "[0.0 0.01 0.02 ... 0.97 0.98 0.99]\n",
       "Attributes:"
      ]
     },
     "execution_count": 14,
     "metadata": {},
     "output_type": "execute_result"
    }
   ],
   "source": [
    "from uncertainties import unumpy as un\n",
    "\n",
    "dp.Coord(\n",
    "    name = \"uncertanties\",\n",
    "    data = un.uarray( np.arange(0,1,.01), 0 ),\n",
    "    dims = \"my_dim\"\n",
    ")"
   ]
  },
  {
   "cell_type": "code",
   "execution_count": 15,
   "metadata": {},
   "outputs": [
    {
     "data": {
      "text/plain": [
       "<Coord>\t(my_dim: 10)\n",
       "    uncertanties\t(my_dim) []\n",
       "[0.0 0.1 0.2 0.3 0.4 0.5 0.6 0.7 0.8 0.9]"
      ]
     },
     "execution_count": 15,
     "metadata": {},
     "output_type": "execute_result"
    }
   ],
   "source": [
    "dp.Coord(\n",
    "    name = \"uncertanties\",\n",
    "    data = np.arange(0,1,.1),\n",
    "    data_err = 0.,\n",
    "    dims = \"my_dim\"\n",
    ")"
   ]
  },
  {
   "cell_type": "code",
   "execution_count": 16,
   "metadata": {},
   "outputs": [
    {
     "data": {
      "text/plain": [
       "<Coord>\t(my_dim: 4)\n",
       "    my_coord\t(my_dim) []\n",
       "[1.0 2.0 3.0 4.0]\n",
       "Attributes:"
      ]
     },
     "execution_count": 16,
     "metadata": {},
     "output_type": "execute_result"
    }
   ],
   "source": [
    "dp.Coord( \n",
    "    name = \"my_coord\", \n",
    "    data = [1,2,3,4],\n",
    "    dims = \"my_dim\"\n",
    ")"
   ]
  },
  {
   "cell_type": "code",
   "execution_count": 17,
   "metadata": {},
   "outputs": [
    {
     "data": {
      "text/plain": [
       "<Coord>\t(my_dim: 10)\n",
       "    my_coord\t(my_dim) [eV]\n",
       "[0.0 0.1 0.2 0.3 0.4 0.5 0.6 0.7 0.8 0.9]\n",
       "Attributes:"
      ]
     },
     "execution_count": 17,
     "metadata": {},
     "output_type": "execute_result"
    }
   ],
   "source": [
    "import pint\n",
    "from pint import UnitRegistry\n",
    "ureg = UnitRegistry()\n",
    "\n",
    "dp.Coord( \n",
    "    name = \"my_coord\", \n",
    "    data = np.arange(0, 1, .1),\n",
    "    units = \"eV\",\n",
    "    dims = \"my_dim\"\n",
    ")"
   ]
  },
  {
   "cell_type": "code",
   "execution_count": 34,
   "metadata": {},
   "outputs": [
    {
     "name": "stdout",
     "output_type": "stream",
     "text": [
      "{'coord': <Coord>\t(L: 10)\n",
      "    coord\t(L) [m²]\n",
      "[0.00±0.06 0.10±0.06 0.20±0.06 0.30±0.06 0.40±0.06 0.50±0.06 0.60±0.06\n",
      " 0.70±0.06 0.80±0.06 0.90±0.06]\n",
      "}\n",
      "units keV\n",
      "<Array>\t()\n",
      "    array\t(L) [keV]\n",
      "[0.0±0.1 0.1±0.1 0.2±0.1 0.3±0.1 0.4±0.1 0.5±0.1 0.6±0.1 0.7±0.1 0.8±0.1\n",
      " 0.9±0.1]\n",
      "Coordinates:\n",
      "    coord\t(L) [m²]\n",
      "[0.00±0.06 0.10±0.06 0.20±0.06 0.30±0.06 0.40±0.06 0.50±0.06 0.60±0.06\n",
      " 0.70±0.06 0.80±0.06 0.90±0.06]\n",
      "\n"
     ]
    },
    {
     "data": {
      "application/vnd.jupyter.widget-view+json": {
       "model_id": "3c9e3756bfc44ee8be2b6541ee330048",
       "version_major": 2,
       "version_minor": 0
      },
      "text/plain": [
       "Canvas(toolbar=Toolbar(toolitems=[('Home', 'Reset original view', 'home', 'home'), ('Back', 'Back to previous …"
      ]
     },
     "metadata": {},
     "output_type": "display_data"
    }
   ],
   "source": [
    "a = dp.Array(\n",
    "    name = \"array\",\n",
    "    data = np.arange(0, 1, .1),\n",
    "    err = 0.1,\n",
    "    units = \"keV\",\n",
    "    coords = dp.Coord(\n",
    "        name = \"coord\",\n",
    "        data = np.arange(0, 1, .1),\n",
    "        err = .05555,\n",
    "        units = \"m**2\",\n",
    "        dims = \"L\",\n",
    "        extra_attr = \"4\"\n",
    "    ),\n",
    "    long_name = \"long_name\"\n",
    ")\n",
    "print( a.coords )\n",
    "print( \"units\", a.u )\n",
    "print( a )\n",
    "a.plot()"
   ]
  },
  {
   "cell_type": "code",
   "execution_count": 95,
   "metadata": {},
   "outputs": [
    {
     "name": "stdout",
     "output_type": "stream",
     "text": [
      "[<Coord>\t(E: 400)\n",
      "    E_nu\t(E) [MeV]\n",
      "[0.01 0.02 0.03 ... 3.98 3.99 4.0]\n",
      "]\n",
      "<Array>\t(E: 400)\n",
      "    flux\t(E) [count/MeV/cm²/s]\n",
      "[1.553e+11 6.00503e+11 1.20517e+12 ... 3.30249e+11 3.27263e+11 3.24299e+11]\n",
      "Coordinates:\n",
      "    E_nu\t(E) [MeV]\n",
      "[0.01 0.02 0.03 ... 3.98 3.99 4.0]\n",
      "\n"
     ]
    },
    {
     "name": "stderr",
     "output_type": "stream",
     "text": [
      "/home/mota/.local/lib/python3.6/site-packages/ipywidgets/widgets/widget.py:412: DeprecationWarning: Passing unrecoginized arguments to super(Canvas).__init__().\n",
      "__init__() missing 1 required positional argument: 'figure'\n",
      "This is deprecated in traitlets 4.2.This error will be raised in a future release of traitlets.\n",
      "  super(Widget, self).__init__(**kwargs)\n",
      "/home/mota/.local/lib/python3.6/site-packages/ipywidgets/widgets/widget.py:412: DeprecationWarning: Passing unrecoginized arguments to super(Toolbar).__init__().\n",
      "__init__() missing 1 required positional argument: 'canvas'\n",
      "This is deprecated in traitlets 4.2.This error will be raised in a future release of traitlets.\n",
      "  super(Widget, self).__init__(**kwargs)\n"
     ]
    },
    {
     "data": {
      "application/vnd.jupyter.widget-view+json": {
       "model_id": "ce45d6e664aa47909d69267a9643b0b1",
       "version_major": 2,
       "version_minor": 0
      },
      "text/plain": [
       "Canvas(toolbar=Toolbar(toolitems=[('Home', 'Reset original view', 'home', 'home'), ('Back', 'Back to previous …"
      ]
     },
     "metadata": {},
     "output_type": "display_data"
    },
    {
     "name": "stderr",
     "output_type": "stream",
     "text": [
      "/home/mota/.local/lib/python3.6/site-packages/numpy/lib/function_base.py:2190: UnitStrippedWarning: The unit of the quantity is stripped when downcasting to ndarray.\n",
      "  for a in args]\n"
     ]
    }
   ],
   "source": [
    "reactorFlux = dp.genfromcsv(\"data/reactorFlux.csv\", dims=\"E\")\n",
    "print( reactorFlux.coords )\n",
    "print( reactorFlux )\n",
    "reactorFlux.E_nu.latex = r\"$E_\\nu$\"\n",
    "dp.plot( reactorFlux )"
   ]
  },
  {
   "cell_type": "code",
   "execution_count": 103,
   "metadata": {},
   "outputs": [
    {
     "name": "stdout",
     "output_type": "stream",
     "text": [
      "{}\n",
      "{}\n",
      "{}\n",
      "{}\n"
     ]
    },
    {
     "ename": "AttributeError",
     "evalue": "'Array' object has no attribute '_dims'",
     "output_type": "error",
     "traceback": [
      "\u001b[0;31m---------------------------------------------------------------------------\u001b[0m",
      "\u001b[0;31mAttributeError\u001b[0m                            Traceback (most recent call last)",
      "\u001b[0;32m<ipython-input-103-d5c97d330321>\u001b[0m in \u001b[0;36m<module>\u001b[0;34m\u001b[0m\n\u001b[1;32m     10\u001b[0m         \u001b[0;34m\"runID\"\u001b[0m\u001b[0;34m,\u001b[0m\u001b[0;34m\u001b[0m\u001b[0m\n\u001b[1;32m     11\u001b[0m     ],\n\u001b[0;32m---> 12\u001b[0;31m     \u001b[0mcut\u001b[0m \u001b[0;34m=\u001b[0m \u001b[0mstr\u001b[0m\u001b[0;34m(\u001b[0m \u001b[0mrun2019\u001b[0m\u001b[0;34m.\u001b[0m\u001b[0mon_excl\u001b[0m\u001b[0;34m*\u001b[0m\u001b[0mrun2019\u001b[0m\u001b[0;34m.\u001b[0m\u001b[0mexcluded_ohdu\u001b[0m \u001b[0;34m)\u001b[0m\u001b[0;34m\u001b[0m\u001b[0m\n\u001b[0m\u001b[1;32m     13\u001b[0m )\n\u001b[1;32m     14\u001b[0m \u001b[0mprint\u001b[0m\u001b[0;34m(\u001b[0m \u001b[0mdataset\u001b[0m \u001b[0;34m)\u001b[0m\u001b[0;34m\u001b[0m\u001b[0m\n",
      "\u001b[0;32m~/connie/CONNIEtools/datasetpy/io.py\u001b[0m in \u001b[0;36mgenfromroot\u001b[0;34m(name, fpath, treename, branches, cut)\u001b[0m\n\u001b[1;32m     69\u001b[0m                 \u001b[0mlatex\u001b[0m \u001b[0;34m=\u001b[0m \u001b[0mbranch\u001b[0m\u001b[0;34m[\u001b[0m\u001b[0;34m\"latex\"\u001b[0m\u001b[0;34m]\u001b[0m \u001b[0;32mif\u001b[0m \u001b[0misinstance\u001b[0m\u001b[0;34m(\u001b[0m\u001b[0mbranch\u001b[0m\u001b[0;34m,\u001b[0m \u001b[0mdict\u001b[0m\u001b[0;34m)\u001b[0m \u001b[0;32mand\u001b[0m \u001b[0mhasattr\u001b[0m\u001b[0;34m(\u001b[0m\u001b[0mbranch\u001b[0m\u001b[0;34m,\u001b[0m \u001b[0;34m\"latex\"\u001b[0m\u001b[0;34m)\u001b[0m \u001b[0;32melse\u001b[0m \u001b[0;32mNone\u001b[0m\u001b[0;34m,\u001b[0m\u001b[0;34m\u001b[0m\u001b[0m\n\u001b[1;32m     70\u001b[0m             )\n\u001b[0;32m---> 71\u001b[0;31m             \u001b[0;32mfor\u001b[0m \u001b[0mbranch\u001b[0m \u001b[0;32min\u001b[0m \u001b[0mbranches\u001b[0m\u001b[0;34m\u001b[0m\u001b[0m\n\u001b[0m\u001b[1;32m     72\u001b[0m         ]\n\u001b[1;32m     73\u001b[0m     )\n",
      "\u001b[0;32m~/connie/CONNIEtools/datasetpy/core.py\u001b[0m in \u001b[0;36m__init__\u001b[0;34m(self, name, arrays, coords, **kwargs)\u001b[0m\n\u001b[1;32m    237\u001b[0m         \u001b[0m_dims\u001b[0m \u001b[0;34m=\u001b[0m \u001b[0;34m{\u001b[0m\u001b[0;34m}\u001b[0m\u001b[0;34m\u001b[0m\u001b[0m\n\u001b[1;32m    238\u001b[0m         \u001b[0;32mfor\u001b[0m \u001b[0marray\u001b[0m \u001b[0;32min\u001b[0m \u001b[0marrays\u001b[0m\u001b[0;34m:\u001b[0m\u001b[0;34m\u001b[0m\u001b[0m\n\u001b[0;32m--> 239\u001b[0;31m             \u001b[0;32mfor\u001b[0m \u001b[0mdim_name\u001b[0m\u001b[0;34m,\u001b[0m \u001b[0mdim_size\u001b[0m \u001b[0;32min\u001b[0m \u001b[0marray\u001b[0m\u001b[0;34m.\u001b[0m\u001b[0mdims\u001b[0m\u001b[0;34m.\u001b[0m\u001b[0mitems\u001b[0m\u001b[0;34m(\u001b[0m\u001b[0;34m)\u001b[0m\u001b[0;34m:\u001b[0m\u001b[0;34m\u001b[0m\u001b[0m\n\u001b[0m\u001b[1;32m    240\u001b[0m                 \u001b[0;32mif\u001b[0m \u001b[0mdim_name\u001b[0m \u001b[0;32min\u001b[0m \u001b[0m_dims\u001b[0m\u001b[0;34m:\u001b[0m\u001b[0;34m\u001b[0m\u001b[0m\n\u001b[1;32m    241\u001b[0m                     \u001b[0;32mif\u001b[0m \u001b[0mdim_size\u001b[0m \u001b[0;34m!=\u001b[0m \u001b[0m_dims\u001b[0m\u001b[0;34m[\u001b[0m\u001b[0mdim_name\u001b[0m\u001b[0;34m]\u001b[0m\u001b[0;34m:\u001b[0m\u001b[0;34m\u001b[0m\u001b[0m\n",
      "\u001b[0;32m~/connie/CONNIEtools/datasetpy/core.py\u001b[0m in \u001b[0;36mdims\u001b[0;34m(self)\u001b[0m\n\u001b[1;32m    169\u001b[0m     \u001b[0;34m@\u001b[0m\u001b[0mproperty\u001b[0m\u001b[0;34m\u001b[0m\u001b[0m\n\u001b[1;32m    170\u001b[0m     \u001b[0;32mdef\u001b[0m \u001b[0mdims\u001b[0m\u001b[0;34m(\u001b[0m\u001b[0mself\u001b[0m\u001b[0;34m)\u001b[0m\u001b[0;34m:\u001b[0m\u001b[0;34m\u001b[0m\u001b[0m\n\u001b[0;32m--> 171\u001b[0;31m         \u001b[0;32mreturn\u001b[0m \u001b[0;34m{\u001b[0m \u001b[0mdim\u001b[0m\u001b[0;34m:\u001b[0m \u001b[0msize\u001b[0m \u001b[0;32mfor\u001b[0m \u001b[0mdim\u001b[0m\u001b[0;34m,\u001b[0m \u001b[0msize\u001b[0m \u001b[0;32min\u001b[0m \u001b[0mzip\u001b[0m\u001b[0;34m(\u001b[0m\u001b[0mself\u001b[0m\u001b[0;34m.\u001b[0m\u001b[0m_dims\u001b[0m\u001b[0;34m,\u001b[0m \u001b[0mself\u001b[0m\u001b[0;34m.\u001b[0m\u001b[0m_data\u001b[0m\u001b[0;34m.\u001b[0m\u001b[0mshape\u001b[0m\u001b[0;34m)\u001b[0m \u001b[0;34m}\u001b[0m\u001b[0;34m\u001b[0m\u001b[0m\n\u001b[0m\u001b[1;32m    172\u001b[0m \u001b[0;34m\u001b[0m\u001b[0m\n\u001b[1;32m    173\u001b[0m     \u001b[0;34m@\u001b[0m\u001b[0mproperty\u001b[0m\u001b[0;34m\u001b[0m\u001b[0m\n",
      "\u001b[0;31mAttributeError\u001b[0m: 'Array' object has no attribute '_dims'"
     ]
    }
   ],
   "source": [
    "import run2019\n",
    "dataset = dp.genfromroot(\n",
    "    name = \"run2019\",\n",
    "    fpath = run2019.data_files,\n",
    "    treename = \"hitSumm\",\n",
    "    branches = [\n",
    "        {\"readout_noise\": \"rawNoise/gain3Peaks\", \"units\": \"keV\", \"latex\": r\"$\\sigma_\\text{raw}$\"},\n",
    "        {\"dark_current\": \"rawDC\", \"latex\": r\"$\\lambda_\\text{raw}$\"},\n",
    "        {\"hdu\": \"ohdu\"},\n",
    "        \"runID\",\n",
    "    ],\n",
    "    cut = str( run2019.on_excl*run2019.excluded_ohdu )\n",
    ")\n",
    "print( dataset )\n"
   ]
  },
  {
   "cell_type": "code",
   "execution_count": 37,
   "metadata": {},
   "outputs": [
    {
     "name": "stdout",
     "output_type": "stream",
     "text": [
      "\u001b[1m============================= test session starts ==============================\u001b[0m\n",
      "platform linux -- Python 3.6.3, pytest-6.2.4, py-1.10.0, pluggy-0.13.1\n",
      "rootdir: /home/mota/connie/CONNIEtools\n",
      "plugins: anyio-3.2.1\n",
      "collected 4 items                                                              \u001b[0m\u001b[1m\n",
      "\n",
      "datasetpy/tests.py \u001b[32m.\u001b[0m\u001b[32m.\u001b[0m\u001b[32m.\u001b[0m\u001b[32m.\u001b[0m\u001b[33m                                                  [100%]\u001b[0m\n",
      "\n",
      "\u001b[33m=============================== warnings summary ===============================\u001b[0m\n",
      "../../.local/lib/python3.6/site-packages/past/builtins/misc.py:45\n",
      "  /home/mota/.local/lib/python3.6/site-packages/past/builtins/misc.py:45: DeprecationWarning: the imp module is deprecated in favour of importlib; see the module's documentation for alternative uses\n",
      "    from imp import reload\n",
      "\n",
      "-- Docs: https://docs.pytest.org/en/stable/warnings.html\n",
      "\u001b[33m======================== \u001b[32m4 passed\u001b[0m, \u001b[33m\u001b[1m1 warning\u001b[0m\u001b[33m in 15.80s\u001b[0m\u001b[33m =========================\u001b[0m\n"
     ]
    }
   ],
   "source": [
    "!py.test datasetpy/tests.py"
   ]
  },
  {
   "cell_type": "code",
   "execution_count": null,
   "metadata": {},
   "outputs": [],
   "source": []
  }
 ],
 "metadata": {
  "kernelspec": {
   "display_name": "Python 3",
   "language": "python",
   "name": "python3"
  },
  "language_info": {
   "codemirror_mode": {
    "name": "ipython",
    "version": 3
   },
   "file_extension": ".py",
   "mimetype": "text/x-python",
   "name": "python",
   "nbconvert_exporter": "python",
   "pygments_lexer": "ipython3",
   "version": "3.6.3"
  }
 },
 "nbformat": 4,
 "nbformat_minor": 4
}
